{
 "cells": [
  {
   "cell_type": "code",
   "execution_count": 6,
   "metadata": {},
   "outputs": [],
   "source": [
    "from Landscapes import *\n",
    "import numpy as np"
   ]
  },
  {
   "cell_type": "code",
   "execution_count": 2,
   "metadata": {},
   "outputs": [],
   "source": [
    "def make_Dirichland(N,K, concentration_params):\n",
    "\n",
    "    our_dirichlet = stats.dirichlet(concentration_params) #the distribution we use\n",
    "\n",
    "    NK_land = np.zeros((N,2**(K+1)))\n",
    "    \n",
    "    fitnesses = []\n",
    "    permutations = []\n",
    "    \n",
    "    all_permutations = list(itertools.product([0,1],repeat=N))\n",
    "\n",
    "    for permutation in all_permutations:\n",
    "\n",
    "        genome_fitness = 0\n",
    "        for currentCharacteristic in np.arange(N):\n",
    "            #get the fitness indices from each k based upon local gene values\n",
    "            \n",
    "            localgenes = permutation[currentCharacteristic:currentCharacteristic+K+1]\n",
    "            \n",
    "            #loop through to next if were are near the nth index\n",
    "            if currentCharacteristic+K+1 > N:\n",
    "                localgenes = np.append(localgenes,permutation[0:currentCharacteristic-(N-K)+1])\n",
    "                indices = list(range(currentCharacteristic,N)) + list(range(currentCharacteristic-(N-K)+1))\n",
    "            else:\n",
    "                indices = list(range(currentCharacteristic,currentCharacteristic+K+1))\n",
    "            \n",
    "            #get index fitness  is stored at\n",
    "            interactIndex = ((2**(np.arange(K+1)*(localgenes)))*localgenes).sum()\n",
    "            \n",
    "            currentVal = NK_land[currentCharacteristic,interactIndex]\n",
    "            #print(currentCharacteristic, interactIndex, currentVal)\n",
    "            if currentVal == 0:\n",
    "                dir_draw = our_dirichlet.rvs()[0]\n",
    "                \n",
    "                currentValues= dir_draw[indices]\n",
    "                print(indices,currentValues)\n",
    "                NK_land[currentCharacteristic,interactIndex] = sum(currentValues)\n",
    "            \n",
    "            #add current value to the running fitness total\n",
    "\n",
    "            genome_fitness += sum(currentValues)\n",
    "        \n",
    "        fitnesses.append(genome_fitness)\n",
    "        permutations.append(\"\".join([str(i) for i in permutation]))\n",
    "    print(NK_land)\n",
    "\n",
    "    df = pd.DataFrame(fitnesses,index=permutations,columns=[\"Fitness\"])\n",
    "    df.loc[:,'Location'] = all_permutations\n",
    "\n",
    "    return df"
   ]
  },
  {
   "cell_type": "code",
   "execution_count": 3,
   "metadata": {},
   "outputs": [],
   "source": [
    "N=10\n",
    "K=8\n",
    "concentration_params =  [10,10,10,10,200,200,10,10,10,10]\n",
    "scalar = 1\n",
    "\n",
    "assert len(concentration_params) == N, \"Concentrations params wrong for given N\""
   ]
  },
  {
   "cell_type": "code",
   "execution_count": 43,
   "metadata": {},
   "outputs": [],
   "source": [
    "concentration_params =  [10,10,10,10,20,20,10,10,10,10]\n",
    "our_dirichlet = stats.dirichlet(concentration_params)\n"
   ]
  },
  {
   "cell_type": "code",
   "execution_count": 44,
   "metadata": {},
   "outputs": [],
   "source": [
    "draws = our_dirichlet.rvs(1000)"
   ]
  },
  {
   "cell_type": "code",
   "execution_count": 45,
   "metadata": {},
   "outputs": [
    {
     "data": {
      "text/plain": [
       "array([0.0845924 , 0.08236798, 0.0836052 , 0.08419014, 0.16685006,\n",
       "       0.16627901, 0.08493181, 0.0832057 , 0.08100562, 0.08297207])"
      ]
     },
     "execution_count": 45,
     "metadata": {},
     "output_type": "execute_result"
    }
   ],
   "source": [
    "np.mean(draws,axis=0)"
   ]
  },
  {
   "cell_type": "code",
   "execution_count": 46,
   "metadata": {},
   "outputs": [
    {
     "data": {
      "text/plain": [
       "array([0.02595364, 0.02456713, 0.02500155, 0.02471222, 0.03288824,\n",
       "       0.03240466, 0.02458692, 0.02526501, 0.02449214, 0.02498179])"
      ]
     },
     "execution_count": 46,
     "metadata": {},
     "output_type": "execute_result"
    }
   ],
   "source": [
    "np.std(draws, axis=0)"
   ]
  },
  {
   "cell_type": "code",
   "execution_count": 38,
   "metadata": {},
   "outputs": [
    {
     "data": {
      "text/plain": [
       "array([0.02109758, 0.02165642, 0.02140048, 0.02148325, 0.41935942,\n",
       "       0.41144778, 0.02104631, 0.01968209, 0.02159682, 0.02122985])"
      ]
     },
     "execution_count": 38,
     "metadata": {},
     "output_type": "execute_result"
    }
   ],
   "source": [
    "np.mean(draws_two,axis=0)"
   ]
  },
  {
   "cell_type": "code",
   "execution_count": 39,
   "metadata": {},
   "outputs": [
    {
     "data": {
      "text/plain": [
       "array([0.00633901, 0.00718397, 0.00622577, 0.00671212, 0.02355341,\n",
       "       0.02067061, 0.00685173, 0.0072983 , 0.00546801, 0.0066173 ])"
      ]
     },
     "execution_count": 39,
     "metadata": {},
     "output_type": "execute_result"
    }
   ],
   "source": [
    "np.std(draws_two,axis=0)"
   ]
  },
  {
   "cell_type": "code",
   "execution_count": null,
   "metadata": {},
   "outputs": [],
   "source": []
  },
  {
   "cell_type": "code",
   "execution_count": null,
   "metadata": {},
   "outputs": [],
   "source": []
  }
 ],
 "metadata": {
  "kernelspec": {
   "display_name": "Python 3",
   "language": "python",
   "name": "python3"
  },
  "language_info": {
   "codemirror_mode": {
    "name": "ipython",
    "version": 3
   },
   "file_extension": ".py",
   "mimetype": "text/x-python",
   "name": "python",
   "nbconvert_exporter": "python",
   "pygments_lexer": "ipython3",
   "version": "3.7.7"
  }
 },
 "nbformat": 4,
 "nbformat_minor": 4
}
