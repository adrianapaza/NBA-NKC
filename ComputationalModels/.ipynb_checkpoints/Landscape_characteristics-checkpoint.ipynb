{
 "cells": [
  {
   "cell_type": "markdown",
   "metadata": {},
   "source": [
    "## Landscape Characteristics notebook\n",
    "This notebook imports a .py file (<code>Landscapes.py</code>) that implements Kaufmann style NK landscapes as well as some novel types along with some measures for comparing features of the landscapes.\n",
    "\n",
    "The landscape-making functions all return a Pandas DataFrame indexed by this characteristics strings, e.g, \"10101\", i.e. the location on the hypercube. Each has a column for the fitness associated with that location and another containing the location stored as a tuple of integers (instead of a string of numerals).\n",
    "\n"
   ]
  },
  {
   "cell_type": "code",
   "execution_count": 2,
   "metadata": {},
   "outputs": [],
   "source": [
    "from Landscapes import *"
   ]
  },
  {
   "cell_type": "code",
   "execution_count": null,
   "metadata": {},
   "outputs": [],
   "source": [
    "# Getting the statistics of a K=0 landscape\n",
    "N=10\n",
    "K=0\n",
    "Get_Landscape_Statistics(make_NK_land(N,K),N,K)"
   ]
  },
  {
   "cell_type": "code",
   "execution_count": null,
   "metadata": {},
   "outputs": [],
   "source": [
    "N=10\n",
    "K=7\n",
    "Get_Landscape_Statistics(make_NK_land(N,K),N,K)"
   ]
  },
  {
   "cell_type": "code",
   "execution_count": null,
   "metadata": {},
   "outputs": [],
   "source": [
    "# We can layerlandscapes, which yields some different characteristics than either independently\n",
    "N=10\n",
    "K1=0\n",
    "K2=7\n",
    "NK1 = make_NK_land(N,K1)\n",
    "NK2 = make_NK_land(N,K2)\n",
    "Get_Landscape_Statistics(layer_landscapes(NK1,NK2),N,K2)"
   ]
  },
  {
   "cell_type": "code",
   "execution_count": null,
   "metadata": {},
   "outputs": [],
   "source": [
    "\"\"\"\n",
    "What I'm calling a sorted landscape is one with the same variance of fitness values \n",
    "as an NK landscape with the same K, but for which a location has been arbitrarily chosen\n",
    "to be the peak and the rest of the fitness values are distributed such that the nearest\n",
    "neighbors of the peak has the next highest values.\n",
    "\n",
    "For reasons I haven't been able to get to the bottom of, this sometimes throws a Key Error.\n",
    "Just run it again!\n",
    "\"\"\"\n",
    "\n",
    "N=10\n",
    "K=7\n",
    "Get_Landscape_Statistics(sorted_NK_landscape(N,K),N,K)"
   ]
  },
  {
   "cell_type": "code",
   "execution_count": null,
   "metadata": {},
   "outputs": [],
   "source": [
    "# A random walk HELPS to visualize aspects of the variance in the fitnesses and has been\n",
    "# widely used in the literature. But it can be very misleading so don't spend too much time\n",
    "# studying/thinking about it\n",
    "\n",
    "path = random_walker(500,sorted_NK_landscape(10,7))\n",
    "plt.figure(figsize=(10,4))\n",
    "plt.plot(path)\n"
   ]
  },
  {
   "cell_type": "code",
   "execution_count": null,
   "metadata": {},
   "outputs": [],
   "source": [
    "path = random_walker(500,make_NK_land(10,7))\n",
    "plt.figure(figsize=(10,4))\n",
    "plt.plot(path)"
   ]
  },
  {
   "cell_type": "markdown",
   "metadata": {},
   "source": [
    "## Landscapes as Networks\n",
    "\n",
    "The correct way to think about NK landscapes is as hypercubes, which is a unique type of network topology. This allows us to bring the tools of network analysis to the problem of characterizing the landscapes. Hypercubes are regular networks so things like the basic centrality measures won't be helpful, but that still leaves a lot to work with!"
   ]
  },
  {
   "cell_type": "code",
   "execution_count": null,
   "metadata": {},
   "outputs": [],
   "source": [
    "graph = landscape_as_graph(sorted_NK_landscape(4,3))\n",
    "nx.draw_networkx(graph)"
   ]
  },
  {
   "cell_type": "markdown",
   "metadata": {},
   "source": [
    "### Paths versus journeys\n",
    "Below you'll see code blocks for looking at the distribution of weighted shortest path lengths, i.e. Dijkstra paths. The weights of the edges are the absolute values of the difference in fitnesses. The idea is that the shortest weighted path should be the best route to \"climb\" to the peak. The more short paths, the easier it is to find the top. \n",
    "\n",
    "The Dijkstra algorithm can't handle negative weights, hence the absolute value. There are algos (i.e. Bellman-Ford and Floyd-Warshall) that can find negative values as long as there aren't \"negative cycles\" but apparently there are negative cycles. I'll have to think about that."
   ]
  },
  {
   "cell_type": "code",
   "execution_count": null,
   "metadata": {},
   "outputs": [],
   "source": [
    "graph = landscape_as_graph(make_NK_land(10,0))\n",
    "lengths = nx.all_pairs_dijkstra_path(graph,weight='fitness_difference')\n",
    "all_distances = []\n",
    "for source, targets in lengths:\n",
    "    for target, distance in targets.items():\n",
    "        all_distances.append(distance)\n",
    "plt.hist(all_distances)"
   ]
  },
  {
   "cell_type": "code",
   "execution_count": null,
   "metadata": {},
   "outputs": [],
   "source": [
    "graph = landscape_as_graph(make_NK_land(10,7))\n",
    "lengths = nx.all_pairs_dijkstra_path(graph,weight='fitness_difference')\n",
    "all_distances = []\n",
    "for source, targets in lengths:\n",
    "    for target, distance in targets.items():\n",
    "        all_distances.append(distance)\n",
    "plt.hist(all_distances)"
   ]
  },
  {
   "cell_type": "code",
   "execution_count": null,
   "metadata": {},
   "outputs": [],
   "source": [
    "N=10\n",
    "K1=0\n",
    "K2=7\n",
    "NK1 = make_NK_land(N,K1)\n",
    "NK2 = make_NK_land(N,K2)\n",
    "graph = landscape_as_graph(layer_landscapes(NK1,NK2))\n",
    "lengths = nx.all_pairs_dijkstra_path(graph,weight='fitness_difference')\n",
    "all_distances = []\n",
    "for source, targets in lengths:\n",
    "    for target, distance in targets.items():\n",
    "        all_distances.append(distance)\n",
    "plt.hist(all_distances)"
   ]
  },
  {
   "cell_type": "code",
   "execution_count": null,
   "metadata": {},
   "outputs": [],
   "source": [
    "graph = landscape_as_digraph(sorted_NK_landscape(5,3))\n",
    "lengths = nx.all_pairs_dijkstra_path(graph,weight='fitness_difference')\n",
    "all_distances = []\n",
    "for source, targets in lengths:\n",
    "    for target, distance in targets.items():\n",
    "        all_distances.append(distance)\n",
    "plt.hist(all_distances)\n"
   ]
  },
  {
   "cell_type": "code",
   "execution_count": null,
   "metadata": {},
   "outputs": [],
   "source": [
    "N=10\n",
    "K=7\n",
    "concentration_params =  [.025,.025, 0.025, .10,.55,.10,.10,.025,.025,0.025]\n",
    "scalar = 1\n",
    "\n",
    "graph = landscape_as_graph(make_Dirichland(N,K,concentration_params,scalar))\n",
    "lengths = nx.all_pairs_dijkstra_path(graph,weight='fitness_difference')\n",
    "all_distances = []\n",
    "for source, targets in lengths:\n",
    "    for target, distance in targets.items():\n",
    "        all_distances.append(distance)\n",
    "plt.hist(all_distances)"
   ]
  },
  {
   "cell_type": "markdown",
   "metadata": {},
   "source": [
    "## Looking at total weights of all paths to peak from minimum"
   ]
  },
  {
   "cell_type": "code",
   "execution_count": 23,
   "metadata": {},
   "outputs": [
    {
     "name": "stdout",
     "output_type": "stream",
     "text": [
      "Difference btw min and max fitness 0.2406622464057227\n",
      "Number of paths a weight equal to the difference (e.g. positive paths): 5040\n",
      "Percentage positive paths 0.00089126559714795\n"
     ]
    },
    {
     "data": {
      "image/png": "[encoded data removed]",
      "text/plain": [
       "<Figure size 432x288 with 1 Axes>"
      ]
     },
     "metadata": {},
     "output_type": "display_data"
    }
   ],
   "source": [
    "N,K=7,0\n",
    "landscapeNK = make_NK_land(N,K)\n",
    "paths_NK0=path_lengths(landscapeNK,cutoff=11)"
   ]
  },
  {
   "cell_type": "code",
   "execution_count": 22,
   "metadata": {},
   "outputs": [
    {
     "name": "stdout",
     "output_type": "stream",
     "text": [
      "Difference btw min and max fitness 0.5856061399121492\n",
      "Number of paths a weight equal to the difference (e.g. positive paths): 1799\n",
      "Percentage positive paths 0.0020112783636087187\n"
     ]
    },
    {
     "data": {
      "image/png": "[encoded data removed]",
      "text/plain": [
       "<Figure size 432x288 with 1 Axes>"
      ]
     },
     "metadata": {},
     "output_type": "display_data"
    }
   ],
   "source": [
    "N,K=7,2\n",
    "landscape = make_NK_land(N,K)\n",
    "paths_NK5=path_lengths(landscape,cutoff=11)"
   ]
  },
  {
   "cell_type": "code",
   "execution_count": 21,
   "metadata": {},
   "outputs": [],
   "source": [
    "#graph = landscape_as_graph(landscape)\n",
    "#labels = {}\n",
    "#for node,fitness in graph.nodes().data():\n",
    "#    labels[node] = round(fitness[\"fitness\"],3)\n",
    "#nx.draw_networkx(graph,labels=labels)"
   ]
  },
  {
   "cell_type": "code",
   "execution_count": 6,
   "metadata": {},
   "outputs": [
    {
     "name": "stdout",
     "output_type": "stream",
     "text": [
      "Difference btw min and max fitness 0.4961923422185671\n",
      "Number of paths a weight equal to the difference (e.g. positive paths): 122\n",
      "Percentage positive paths 2.5816991389398528e-05\n"
     ]
    },
    {
     "data": {
      "image/png": "[encoded data removed]",
      "text/plain": [
       "<Figure size 432x288 with 1 Axes>"
      ]
     },
     "metadata": {},
     "output_type": "display_data"
    }
   ],
   "source": [
    "N,K=7,5\n",
    "landscape = make_NK_land(N,K)\n",
    "paths_NK5=path_lengths(landscape,cutoff=11)"
   ]
  },
  {
   "cell_type": "code",
   "execution_count": 28,
   "metadata": {},
   "outputs": [
    {
     "name": "stdout",
     "output_type": "stream",
     "text": [
      "Difference btw min and max fitness 0.45333138389175404\n",
      "Number of paths a weight equal to the difference (e.g. positive paths): 5040\n",
      "Percentage positive paths 0.00089126559714795\n"
     ]
    },
    {
     "data": {
      "image/png": "[encoded data removed]",
      "text/plain": [
       "<Figure size 432x288 with 1 Axes>"
      ]
     },
     "metadata": {},
     "output_type": "display_data"
    }
   ],
   "source": [
    "N,K=7,5\n",
    "landscape= sorted_NK_landscape(N,K)\n",
    "paths_sorted = path_lengths(landscape,cutoff=11)"
   ]
  },
  {
   "cell_type": "code",
   "execution_count": 26,
   "metadata": {},
   "outputs": [
    {
     "name": "stdout",
     "output_type": "stream",
     "text": [
      "Difference btw min and max fitness 0.2406622464057227\n",
      "Number of paths a weight equal to the difference (e.g. positive paths): 5040\n",
      "Percentage positive paths 0.00089126559714795\n"
     ]
    },
    {
     "data": {
      "image/png": "[encoded data removed]",
      "text/plain": [
       "<Figure size 432x288 with 1 Axes>"
      ]
     },
     "metadata": {},
     "output_type": "display_data"
    }
   ],
   "source": [
    "landscapeNK = landscape\n",
    "landscape_sorted = sorted_from_NK(landscapeNK)\n",
    "paths_sorted_from = path_lengths(landscape_sorted,cutoff=11)"
   ]
  },
  {
   "cell_type": "code",
   "execution_count": 18,
   "metadata": {},
   "outputs": [
    {
     "name": "stdout",
     "output_type": "stream",
     "text": [
      "Difference btw min and max fitness 0.3296146763109925\n",
      "Number of paths a weight equal to the difference (e.g. positive paths): 133\n",
      "Percentage positive paths 2.5263461816081997e-05\n"
     ]
    },
    {
     "data": {
      "image/png": "[encoded data removed]",
      "text/plain": [
       "<Figure size 432x288 with 1 Axes>"
      ]
     },
     "metadata": {},
     "output_type": "display_data"
    }
   ],
   "source": [
    "N = 7\n",
    "K1,K2 = 0,5\n",
    "landscape = layer_landscapes(make_NK_land(N,K1),make_NK_land(N,K2),layering_mode=\"average\",weights=[1,1])\n",
    "paths_layered = path_lengths(landscape,cutoff=11)"
   ]
  },
  {
   "cell_type": "code",
   "execution_count": 29,
   "metadata": {},
   "outputs": [
    {
     "data": {
      "text/plain": [
       "<matplotlib.legend.Legend at 0x1a3e3fa588>"
      ]
     },
     "execution_count": 29,
     "metadata": {},
     "output_type": "execute_result"
    },
    {
     "data": {
      "image/png": "[encoded data removed]",
      "text/plain": [
       "<Figure size 432x288 with 1 Axes>"
      ]
     },
     "metadata": {},
     "output_type": "display_data"
    }
   ],
   "source": [
    "plt.hist([paths_NK0,paths_sorted_from,paths_layered,paths_NK5],label=[\"NK0\",\"Sorted\", \"Layered\",\"NK5\"])\n",
    "plt.legend()"
   ]
  },
  {
   "cell_type": "code",
   "execution_count": 31,
   "metadata": {},
   "outputs": [
    {
     "data": {
      "text/plain": [
       "<matplotlib.legend.Legend at 0x1a39026c50>"
      ]
     },
     "execution_count": 31,
     "metadata": {},
     "output_type": "execute_result"
    },
    {
     "data": {
      "image/png": "[encoded data removed]",
      "text/plain": [
       "<Figure size 432x288 with 1 Axes>"
      ]
     },
     "metadata": {},
     "output_type": "display_data"
    }
   ],
   "source": [
    "plt.hist([paths_sorted,paths_NK0],label=[\"Sorted\", \"NK0\"])\n",
    "plt.legend()"
   ]
  },
  {
   "cell_type": "code",
   "execution_count": null,
   "metadata": {},
   "outputs": [],
   "source": []
  },
  {
   "cell_type": "code",
   "execution_count": null,
   "metadata": {},
   "outputs": [],
   "source": []
  },
  {
   "cell_type": "code",
   "execution_count": 24,
   "metadata": {},
   "outputs": [],
   "source": [
    "def sorted_from_NK(landscape):\n",
    "    df = landscape.sort_values(by=\"Fitness\")\n",
    "    fitnesses = list(df.Fitness)\n",
    "\n",
    "    hypercube = nx.hypercube_graph(N)\n",
    "    chosen_peak = tuple((np.random.rand(N)>0.5).astype(int))\n",
    "\n",
    "    node_dict = nx.shortest_path_length(hypercube, chosen_peak)\n",
    "    distance_dict = defaultdict(list)\n",
    "    max_dist = 0\n",
    "    for key, dist in node_dict.items():\n",
    "        distance_dict[dist].append(key)\n",
    "        if dist > max_dist:\n",
    "            max_dist = dist\n",
    "\n",
    "    sorted_landscape = {}\n",
    "    sorted_landscape[\"\".join([str(i) for i in chosen_peak])] = (fitnesses.pop(),chosen_peak)\n",
    "\n",
    "    for dist in range(1,max_dist+1): # node_dict has zero key...so weird IMHO\n",
    "        for location in distance_dict[dist]:\n",
    "            sorted_landscape[\"\".join([str(i) for i in location])] = (fitnesses.pop(),location)\n",
    "\n",
    "    return pd.DataFrame.from_dict(sorted_landscape,orient=\"index\",columns=[\"Fitness\",\"Location\"])"
   ]
  },
  {
   "cell_type": "code",
   "execution_count": null,
   "metadata": {},
   "outputs": [],
   "source": []
  }
 ],
 "metadata": {
  "kernelspec": {
   "display_name": "Python 3",
   "language": "python",
   "name": "python3"
  },
  "language_info": {
   "codemirror_mode": {
    "name": "ipython",
    "version": 3
   },
   "file_extension": ".py",
   "mimetype": "text/x-python",
   "name": "python",
   "nbconvert_exporter": "python",
   "pygments_lexer": "ipython3",
   "version": "3.7.4"
  }
 },
 "nbformat": 4,
 "nbformat_minor": 2
}
