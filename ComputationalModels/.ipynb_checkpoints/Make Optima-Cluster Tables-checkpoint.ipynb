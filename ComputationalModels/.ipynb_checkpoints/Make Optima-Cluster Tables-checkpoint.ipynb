{
 "cells": [
  {
   "cell_type": "markdown",
   "metadata": {},
   "source": [
    "## This file recreates table 1 of Herrmann et al.\n",
    "\n"
   ]
  },
  {
   "cell_type": "code",
   "execution_count": 176,
   "metadata": {},
   "outputs": [],
   "source": [
    "##Import packages and files\n",
    "from itertools import compress, product\n",
    "import numpy as np\n",
    "import matplotlib.pyplot as plt\n",
    "import array\n",
    "import random\n",
    "import pandas as pd\n",
    "import itertools\n",
    "import operator\n",
    "import importlib\n",
    "#import functions defining the layered landscape\n",
    "from LayeredLandscapeFunctions import *\n",
    "from Landscapes import *\n",
    "import networkx as nx\n"
   ]
  },
  {
   "cell_type": "code",
   "execution_count": 177,
   "metadata": {},
   "outputs": [],
   "source": [
    "##This functions takes as an input the string of file name params,e.g. \"N-10_K1=3_K2=9_I=20\"\n",
    "#then loads in the mapping and generates the table one statistics we want:num_local_optima,num_clusters,fo_bar\n",
    "def Get_Table_1_Stats(file_name_params):\n",
    "    df_transition = pd.read_csv('Results_LON_Simulations/'+file_name_params+'.csv')\n",
    "    df_map = pd.read_csv('Results_LON_Simulations/'+file_name_params+'_mapping.csv')\n",
    "    \n",
    "    df_transition = df_transition.set_index('Unnamed: 0')#reset index\n",
    "\n",
    "    Mat = Markov_Clustering(df_transition) #get markov cluster matrix\n",
    "    MarkClusMatrix = nx.from_numpy_matrix(Mat) #convert to adjacency matrix undirected\n",
    "    ##get the mapping and restrict it to maximas\n",
    "    df_map_restricted = df_map[df_map.Maxima==1]\n",
    "    \n",
    "    #get the connected components/clusters\n",
    "    G= nx.Graph(MarkClusMatrix)\n",
    "    Components = list(nx.connected_components(G)) #list the components\n",
    "    df_map_restricted['cluster']=0 #create variable and set to zero\n",
    "    ##loop throught the components and assign clusters\n",
    "    j=0 #number to index number of components\n",
    "    NumComp = len(Components)\n",
    "    for comp in Components:\n",
    "        for i in comp:\n",
    "            df_map_restricted['cluster'].iloc[i]=j\n",
    "        j+=1\n",
    "        \n",
    "        \n",
    "    #identify cluster with the global maxima\n",
    "    Cluster_of_Maxima = df_map_restricted.loc[df_map_restricted.Fitness.idxmax()].cluster\n",
    "    ##set the table variables\n",
    "    num_local_optima = len(df_map_restricted)\n",
    "    num_clusters = NumComp\n",
    "    fo_bar = len(df_map_restricted[df_map_restricted.cluster ==Cluster_of_Maxima ]) / num_local_optima\n",
    "\n",
    "    return([num_local_optima,num_clusters,fo_bar])\n",
    "\n",
    "\n",
    "\n",
    "    "
   ]
  },
  {
   "cell_type": "code",
   "execution_count": 178,
   "metadata": {},
   "outputs": [
    {
     "name": "stderr",
     "output_type": "stream",
     "text": [
      "/Users/adrianapaza/anaconda2/envs/py36/lib/python3.6/site-packages/ipykernel_launcher.py:17: SettingWithCopyWarning: \n",
      "A value is trying to be set on a copy of a slice from a DataFrame.\n",
      "Try using .loc[row_indexer,col_indexer] = value instead\n",
      "\n",
      "See the caveats in the documentation: http://pandas.pydata.org/pandas-docs/stable/user_guide/indexing.html#returning-a-view-versus-a-copy\n",
      "/Users/adrianapaza/anaconda2/envs/py36/lib/python3.6/site-packages/ipykernel_launcher.py:23: SettingWithCopyWarning: \n",
      "A value is trying to be set on a copy of a slice from a DataFrame\n",
      "\n",
      "See the caveats in the documentation: http://pandas.pydata.org/pandas-docs/stable/user_guide/indexing.html#returning-a-view-versus-a-copy\n"
     ]
    }
   ],
   "source": [
    "##Get a list of file names\n",
    "List_file_params = ['N-10_K=3_I=14', 'N-10_K=3_I=13',\n",
    "             'N-10_K=9_I=11', 'N-10_K=9_I=12','N-10_K1=3_K2=9_I=15',\n",
    "             'N-10_K1=3_K2=9_I=21','N-10_K1=3_K2=9_I=20']\n",
    "\n",
    "##loop over them\n",
    "Table_Stats = df_ = pd.DataFrame(index=List_file_params, columns=['num_local_optima','num_clusters','fo_bar'])\n",
    "\n",
    "for params in List_file_params:\n",
    "    \n",
    "    Table_Stats.loc[params] = Get_Table_1_Stats(params)\n"
   ]
  },
  {
   "cell_type": "code",
   "execution_count": 179,
   "metadata": {},
   "outputs": [
    {
     "data": {
      "text/html": [
       "<div>\n",
       "<style scoped>\n",
       "    .dataframe tbody tr th:only-of-type {\n",
       "        vertical-align: middle;\n",
       "    }\n",
       "\n",
       "    .dataframe tbody tr th {\n",
       "        vertical-align: top;\n",
       "    }\n",
       "\n",
       "    .dataframe thead th {\n",
       "        text-align: right;\n",
       "    }\n",
       "</style>\n",
       "<table border=\"1\" class=\"dataframe\">\n",
       "  <thead>\n",
       "    <tr style=\"text-align: right;\">\n",
       "      <th></th>\n",
       "      <th>num_local_optima</th>\n",
       "      <th>num_clusters</th>\n",
       "      <th>fo_bar</th>\n",
       "    </tr>\n",
       "  </thead>\n",
       "  <tbody>\n",
       "    <tr>\n",
       "      <td>N-10_K=3_I=14</td>\n",
       "      <td>10</td>\n",
       "      <td>1</td>\n",
       "      <td>1</td>\n",
       "    </tr>\n",
       "    <tr>\n",
       "      <td>N-10_K=3_I=13</td>\n",
       "      <td>11</td>\n",
       "      <td>4</td>\n",
       "      <td>0.454545</td>\n",
       "    </tr>\n",
       "    <tr>\n",
       "      <td>N-10_K=9_I=11</td>\n",
       "      <td>90</td>\n",
       "      <td>6</td>\n",
       "      <td>0.0888889</td>\n",
       "    </tr>\n",
       "    <tr>\n",
       "      <td>N-10_K=9_I=12</td>\n",
       "      <td>95</td>\n",
       "      <td>11</td>\n",
       "      <td>0.147368</td>\n",
       "    </tr>\n",
       "    <tr>\n",
       "      <td>N-10_K1=3_K2=9_I=15</td>\n",
       "      <td>56</td>\n",
       "      <td>11</td>\n",
       "      <td>0.0535714</td>\n",
       "    </tr>\n",
       "    <tr>\n",
       "      <td>N-10_K1=3_K2=9_I=21</td>\n",
       "      <td>68</td>\n",
       "      <td>5</td>\n",
       "      <td>0.0147059</td>\n",
       "    </tr>\n",
       "    <tr>\n",
       "      <td>N-10_K1=3_K2=9_I=20</td>\n",
       "      <td>65</td>\n",
       "      <td>4</td>\n",
       "      <td>0.569231</td>\n",
       "    </tr>\n",
       "  </tbody>\n",
       "</table>\n",
       "</div>"
      ],
      "text/plain": [
       "                    num_local_optima num_clusters     fo_bar\n",
       "N-10_K=3_I=14                     10            1          1\n",
       "N-10_K=3_I=13                     11            4   0.454545\n",
       "N-10_K=9_I=11                     90            6  0.0888889\n",
       "N-10_K=9_I=12                     95           11   0.147368\n",
       "N-10_K1=3_K2=9_I=15               56           11  0.0535714\n",
       "N-10_K1=3_K2=9_I=21               68            5  0.0147059\n",
       "N-10_K1=3_K2=9_I=20               65            4   0.569231"
      ]
     },
     "execution_count": 179,
     "metadata": {},
     "output_type": "execute_result"
    }
   ],
   "source": [
    "Table_Stats"
   ]
  },
  {
   "cell_type": "code",
   "execution_count": null,
   "metadata": {},
   "outputs": [],
   "source": []
  }
 ],
 "metadata": {
  "kernelspec": {
   "display_name": "Python 3",
   "language": "python",
   "name": "python3"
  },
  "language_info": {
   "codemirror_mode": {
    "name": "ipython",
    "version": 3
   },
   "file_extension": ".py",
   "mimetype": "text/x-python",
   "name": "python",
   "nbconvert_exporter": "python",
   "pygments_lexer": "ipython3",
   "version": "3.6.8"
  }
 },
 "nbformat": 4,
 "nbformat_minor": 2
}
