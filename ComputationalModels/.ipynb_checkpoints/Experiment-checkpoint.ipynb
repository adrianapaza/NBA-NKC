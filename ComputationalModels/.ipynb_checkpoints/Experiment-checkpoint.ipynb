{
 "cells": [
  {
   "cell_type": "markdown",
   "metadata": {},
   "source": [
    "# This file allows one to set parameters and then create a LON transition matrix"
   ]
  },
  {
   "cell_type": "code",
   "execution_count": 1,
   "metadata": {},
   "outputs": [],
   "source": [
    "##Import packages and files\n",
    "from itertools import compress, product\n",
    "import numpy as np\n",
    "import matplotlib.pyplot as plt\n",
    "import array\n",
    "import random\n",
    "import pandas as pd\n",
    "import itertools\n",
    "import operator\n",
    "import importlib\n",
    "#import functions defining the layered landscape\n",
    "from LayeredLandscapeFunctions import *\n",
    "from Landscapes import *\n",
    "import networkx as nx\n"
   ]
  },
  {
   "cell_type": "code",
   "execution_count": 4,
   "metadata": {},
   "outputs": [
    {
     "name": "stdout",
     "output_type": "stream",
     "text": [
      "4\n"
     ]
    },
    {
     "data": {
      "text/html": [
       "<div>\n",
       "<style scoped>\n",
       "    .dataframe tbody tr th:only-of-type {\n",
       "        vertical-align: middle;\n",
       "    }\n",
       "\n",
       "    .dataframe tbody tr th {\n",
       "        vertical-align: top;\n",
       "    }\n",
       "\n",
       "    .dataframe thead th {\n",
       "        text-align: right;\n",
       "    }\n",
       "</style>\n",
       "<table border=\"1\" class=\"dataframe\">\n",
       "  <thead>\n",
       "    <tr style=\"text-align: right;\">\n",
       "      <th></th>\n",
       "      <th>Fitness</th>\n",
       "      <th>Location</th>\n",
       "      <th>Maxima</th>\n",
       "    </tr>\n",
       "  </thead>\n",
       "  <tbody>\n",
       "    <tr>\n",
       "      <td>0000000</td>\n",
       "      <td>0.483702</td>\n",
       "      <td>(0, 0, 0, 0, 0, 0, 0)</td>\n",
       "      <td>0</td>\n",
       "    </tr>\n",
       "    <tr>\n",
       "      <td>0000001</td>\n",
       "      <td>0.446779</td>\n",
       "      <td>(0, 0, 0, 0, 0, 0, 1)</td>\n",
       "      <td>0</td>\n",
       "    </tr>\n",
       "    <tr>\n",
       "      <td>0000010</td>\n",
       "      <td>0.516625</td>\n",
       "      <td>(0, 0, 0, 0, 0, 1, 0)</td>\n",
       "      <td>0</td>\n",
       "    </tr>\n",
       "    <tr>\n",
       "      <td>0000011</td>\n",
       "      <td>0.321515</td>\n",
       "      <td>(0, 0, 0, 0, 0, 1, 1)</td>\n",
       "      <td>0</td>\n",
       "    </tr>\n",
       "    <tr>\n",
       "      <td>0000100</td>\n",
       "      <td>0.507522</td>\n",
       "      <td>(0, 0, 0, 0, 1, 0, 0)</td>\n",
       "      <td>0</td>\n",
       "    </tr>\n",
       "    <tr>\n",
       "      <td>...</td>\n",
       "      <td>...</td>\n",
       "      <td>...</td>\n",
       "      <td>...</td>\n",
       "    </tr>\n",
       "    <tr>\n",
       "      <td>1111011</td>\n",
       "      <td>0.301572</td>\n",
       "      <td>(1, 1, 1, 1, 0, 1, 1)</td>\n",
       "      <td>0</td>\n",
       "    </tr>\n",
       "    <tr>\n",
       "      <td>1111100</td>\n",
       "      <td>0.392981</td>\n",
       "      <td>(1, 1, 1, 1, 1, 0, 0)</td>\n",
       "      <td>0</td>\n",
       "    </tr>\n",
       "    <tr>\n",
       "      <td>1111101</td>\n",
       "      <td>0.422623</td>\n",
       "      <td>(1, 1, 1, 1, 1, 0, 1)</td>\n",
       "      <td>0</td>\n",
       "    </tr>\n",
       "    <tr>\n",
       "      <td>1111110</td>\n",
       "      <td>0.460041</td>\n",
       "      <td>(1, 1, 1, 1, 1, 1, 0)</td>\n",
       "      <td>0</td>\n",
       "    </tr>\n",
       "    <tr>\n",
       "      <td>1111111</td>\n",
       "      <td>0.331496</td>\n",
       "      <td>(1, 1, 1, 1, 1, 1, 1)</td>\n",
       "      <td>0</td>\n",
       "    </tr>\n",
       "  </tbody>\n",
       "</table>\n",
       "<p>128 rows × 3 columns</p>\n",
       "</div>"
      ],
      "text/plain": [
       "          Fitness               Location  Maxima\n",
       "0000000  0.483702  (0, 0, 0, 0, 0, 0, 0)       0\n",
       "0000001  0.446779  (0, 0, 0, 0, 0, 0, 1)       0\n",
       "0000010  0.516625  (0, 0, 0, 0, 0, 1, 0)       0\n",
       "0000011  0.321515  (0, 0, 0, 0, 0, 1, 1)       0\n",
       "0000100  0.507522  (0, 0, 0, 0, 1, 0, 0)       0\n",
       "...           ...                    ...     ...\n",
       "1111011  0.301572  (1, 1, 1, 1, 0, 1, 1)       0\n",
       "1111100  0.392981  (1, 1, 1, 1, 1, 0, 0)       0\n",
       "1111101  0.422623  (1, 1, 1, 1, 1, 0, 1)       0\n",
       "1111110  0.460041  (1, 1, 1, 1, 1, 1, 0)       0\n",
       "1111111  0.331496  (1, 1, 1, 1, 1, 1, 1)       0\n",
       "\n",
       "[128 rows x 3 columns]"
      ]
     },
     "execution_count": 4,
     "metadata": {},
     "output_type": "execute_result"
    }
   ],
   "source": [
    "##First define a landscape, then notice all the maximas (it prinds the number of maxima)\n",
    "NKLand1 = make_NK_land(N=7,K=1)\n",
    "DFWithMaximas = Local_Maxima_Locations(NKLand1)\n",
    "DFWithMaximas"
   ]
  },
  {
   "cell_type": "code",
   "execution_count": 5,
   "metadata": {},
   "outputs": [],
   "source": [
    "##Creates a matrix of local optima transistions\n",
    "##Also this is modified in that we go through all the positions in a local search.\n",
    "#M is the number of neighbors to search over,\n",
    "#D is the pertubration size\n",
    "def Make_Lon(DF_Landscape, M, D, Num_Perturbs):\n",
    "    \n",
    "    ##First get a list of all the Maxima locations\n",
    "    DFMaximas = DF_Landscape[DF_Landscape.Maxima==1].index.values\n",
    "    df = pd.DataFrame(data=None, index=DF_Landscape[DF_Landscape.Maxima==1].index.values, columns=DF_Landscape[DF_Landscape.Maxima==1].index.values,\n",
    "                 dtype=None, copy=False)\n",
    "    df = df.fillna(0) #replace nas with zeros\n",
    "\n",
    "    #loop through every maxima\n",
    "    for Maxima in DFMaximas:\n",
    "        s_star=Maxima #set currrent s_star\n",
    "        i=0\n",
    "        while(i<Num_Perturbs):\n",
    "            s_prime = Perturbation(s_star, D) #perturb\n",
    "            s_prime_star = Hill_Climb_First(s_prime,DF_Landscape, M)  #climb new hill, here find first maxima\n",
    "            #update the transition matrix\n",
    "            df.at[s_star, s_prime_star] =  df.at[s_star, s_prime_star]+1 \n",
    "            \n",
    "            i = i + 1\n",
    "    return(df)\n"
   ]
  },
  {
   "cell_type": "code",
   "execution_count": 6,
   "metadata": {},
   "outputs": [],
   "source": [
    "##create the transition matrix\n",
    "LONMatrix = Make_Lon(DFWithMaximas,M = 1,D = 2,Num_Perturbs = 30)"
   ]
  },
  {
   "cell_type": "code",
   "execution_count": 7,
   "metadata": {},
   "outputs": [],
   "source": [
    "MarkovMatrix = run(LONMatrix)\n"
   ]
  },
  {
   "cell_type": "code",
   "execution_count": 8,
   "metadata": {},
   "outputs": [
    {
     "data": {
      "text/plain": [
       "array([[1. , 1. , 1. , 0.5],\n",
       "       [0. , 0. , 0. , 0. ],\n",
       "       [0. , 0. , 0. , 0.5],\n",
       "       [0. , 0. , 0. , 0. ]])"
      ]
     },
     "execution_count": 8,
     "metadata": {},
     "output_type": "execute_result"
    }
   ],
   "source": [
    "MarkovMatrix"
   ]
  },
  {
   "cell_type": "code",
   "execution_count": null,
   "metadata": {},
   "outputs": [],
   "source": []
  },
  {
   "cell_type": "code",
   "execution_count": null,
   "metadata": {},
   "outputs": [],
   "source": []
  },
  {
   "cell_type": "code",
   "execution_count": null,
   "metadata": {},
   "outputs": [],
   "source": []
  }
 ],
 "metadata": {
  "kernelspec": {
   "display_name": "Python 3",
   "language": "python",
   "name": "python3"
  },
  "language_info": {
   "codemirror_mode": {
    "name": "ipython",
    "version": 3
   },
   "file_extension": ".py",
   "mimetype": "text/x-python",
   "name": "python",
   "nbconvert_exporter": "python",
   "pygments_lexer": "ipython3",
   "version": "3.6.8"
  }
 },
 "nbformat": 4,
 "nbformat_minor": 2
}
