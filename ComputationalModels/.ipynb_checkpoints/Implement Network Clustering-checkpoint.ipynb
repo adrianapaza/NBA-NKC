{
 "cells": [
  {
   "cell_type": "code",
   "execution_count": 5,
   "metadata": {},
   "outputs": [],
   "source": [
    "##Import packages and files\n",
    "from itertools import compress, product\n",
    "import numpy as np\n",
    "import matplotlib.pyplot as plt\n",
    "import array\n",
    "import random\n",
    "import pandas as pd\n",
    "import itertools\n",
    "import operator\n",
    "import importlib\n",
    "#import functions defining the layered landscape\n",
    "from LayeredLandscapeFunctions import *\n",
    "import networkx as nx\n"
   ]
  },
  {
   "cell_type": "code",
   "execution_count": null,
   "metadata": {},
   "outputs": [],
   "source": []
  },
  {
   "cell_type": "code",
   "execution_count": null,
   "metadata": {},
   "outputs": [],
   "source": []
  },
  {
   "cell_type": "code",
   "execution_count": null,
   "metadata": {},
   "outputs": [],
   "source": []
  },
  {
   "cell_type": "code",
   "execution_count": 6,
   "metadata": {},
   "outputs": [],
   "source": [
    "#Algorithm 2 Iterated Local Search (ILS)\n",
    "#Require: Solution space S,\n",
    "#Fitness function f(S),\n",
    "#Neighborhood function N(S),\n",
    "#Stopping threshold t\n",
    "#1: Choose initial random solution s0 ∈ S\n",
    "#2: s ← hillClimb(s0)\n",
    "#3: i ← 0\n",
    "#4: repeat\n",
    "#5: s0 ← perturbation(s∗)\n",
    "#6: s'0 ← hillClimb(s0)\n",
    "#7: if (s∗''= s∗) ∧ (f(s∗0) > f(s∗)) then\n",
    "#8: s∗ ← s∗''\n",
    "#9: i ← 0\n",
    "#10: end if\n",
    "#11: i ← i + 1\n",
    "#12: until i ≥ t\n",
    "#13: return s∗"
   ]
  },
  {
   "cell_type": "code",
   "execution_count": 7,
   "metadata": {},
   "outputs": [
    {
     "data": {
      "text/plain": [
       "[1, 0, 0, 0, 1, 0]"
      ]
     },
     "execution_count": 7,
     "metadata": {},
     "output_type": "execute_result"
    }
   ],
   "source": [
    "def Perturbation(Position,D):\n",
    "    N=len(Position)\n",
    "    s = list(range(N))\n",
    "    random.shuffle(s)\n",
    "       #Take a step by picking a random gene to change\n",
    "    first_sample = s[-D:]\n",
    "    for i in first_sample:\n",
    "        Position[i] = abs(Position[i]-1)\n",
    "    return(Position)\n",
    "\n",
    "Position=[0,1,1,1,0,0]\n",
    "Perturbation(Position,5)\n"
   ]
  },
  {
   "cell_type": "code",
   "execution_count": null,
   "metadata": {},
   "outputs": [],
   "source": []
  },
  {
   "cell_type": "code",
   "execution_count": 8,
   "metadata": {},
   "outputs": [],
   "source": [
    "##There is a decision to be made about how to store the values\n",
    "#I choose to create an L by L matrix where L is the total number of local optima\n",
    "#the rows and columns of L are the fitness values of the Local Optima,\n",
    "#each cell has an integer for the number of times, after a pertubation, a row \n",
    "#optima maps to a column optima\n",
    "#a Seperate array stores the mapping of fitnesses of L to actual locations,\n",
    "#this is done because it is extremely unlikely two local optima share a fitness\n",
    "\n",
    "def Iterated_Local_Search(Landscape1, Landscape2, Landscape_Weights, M, D,t, NumSims):\n",
    "    for Sim in range(NumSims):\n",
    "        print('Sim is',Sim)\n",
    "\n",
    "        if Sim==0:\n",
    "            df = pd.DataFrame() #creates a new dataframe that's empty\n",
    "        s0 = Position_rand(N)#1 random location\n",
    "        s_star = Hill_Climb(s0,Landscape1, Landscape2, Landscape_Weights, M) #2, Hill Climb initial \n",
    "        f_s_star = Get_Fitness_Layered_Landscape(Landscape1, Landscape2, Landscape_Weights, s_star)\n",
    "        i=0 #set i equal to 0\n",
    "        if f_s_star not in (df.index.values): #add a row if necessaru\n",
    "                    df = df.append(pd.Series(name=(f_s_star)))\n",
    "        df[f_s_star]=0\n",
    "        while(i<t):\n",
    "            df = df.fillna(0)\n",
    "\n",
    "            s_prime = Perturbation(s_star, D)#perturb\n",
    "            s_prime_star = Hill_Climb(s_star,Landscape1, Landscape2,Landscape_Weights,M)#climb new hill\n",
    "            f_s_prime_star = Get_Fitness_Layered_Landscape(Landscape1, Landscape2, Landscape_Weights, s_prime_star)\n",
    "\n",
    "            if f_s_star not in (df.index.values): #add a row if necessaru\n",
    "                    df = df.append(pd.Series(name=(f_s_star)))\n",
    "            if f_s_prime_star not in df.columns:                    #add column if necessary\n",
    "                    df[f_s_prime_star]=0 #set to zero\n",
    "                    df.at[f_s_star, f_s_prime_star] = 0\n",
    "            if f_s_prime_star not in df.index.values:                    #add column if necessary\n",
    "                    df = df.append(pd.Series(name=(f_s_prime_star)))\n",
    "\n",
    "\n",
    "\n",
    "            #check for new maxima\n",
    "            if ((s_prime_star!=s_star).any() and (f_s_prime_star > f_s_star)):\n",
    "                #reset finteses\n",
    "                i=0 ###IN ORIGNAL THIS IS NOT COMMENTED OUT\n",
    "                df.at[f_s_star, f_s_prime_star] =  df.at[f_s_star, f_s_prime_star]+1 #add one to the value of the edge\n",
    "\n",
    "                ##perhaps you should not reset if only new maxima since how else would you find new network clusters??\n",
    "                #You are weighted by where you start and if it is a maxima then you stay there\n",
    "                f_s_star = f_s_prime_star # set new f_s_star and s \n",
    "\n",
    "                s_star = s_prime_star\n",
    "\n",
    "                #add i=i+1 since we allow change in optima (against paper) \n",
    "                #i = i + 1 ###NOT IN ORIGNINAL ALGORITHM \n",
    "\n",
    "            else:\n",
    "                i = i + 1\n",
    "                df.at[f_s_star, f_s_star] =  df.at[f_s_star, f_s_star]+1 #add one to the value of the edge for self loop\n",
    "\n",
    "\n",
    "                ##BELOW UPDATES new location regardless if better contrary to paper\n",
    "                #f_s_star = f_s_prime_star ####NOT IN ORIGNINAL ALGORITHM \n",
    "\n",
    "                #s_star = s_prime_star###NOT IN ORIGNINAL ALGORITHM \n",
    "    return(df)\n"
   ]
  },
  {
   "cell_type": "code",
   "execution_count": 21,
   "metadata": {},
   "outputs": [],
   "source": [
    "##Functions for markov clustering\n",
    "\n",
    "## Expansion Power\n",
    "EXPANSION_POWER = 2\n",
    "## Inflation power and number of iterations \n",
    "# iterations really should not be preset and should be coded as stopping at convergence)\n",
    "INFLATION_POWER = 2\n",
    "ITERATION_COUNT = 40\n",
    "def normalize(matrix):\n",
    "    return matrix/np.sum(matrix, axis=0)\n",
    "\n",
    "def expand(matrix, power):\n",
    "    return matrix**power\n",
    "\n",
    "def inflate(matrix, power):\n",
    "    for entry in np.nditer(matrix, op_flags=['readwrite']):\n",
    "        #print(entry)\n",
    "        entry[...] = entry**power\n",
    "        #print(entry)\n",
    "    return matrix\n",
    "\n",
    "def run(matrix):\n",
    "    #np.fill_diagonal(matrix, 1)\n",
    "    #print(matrix)\n",
    "    matrix = normalize(matrix)\n",
    "    #print(matrix)\n",
    "    for _ in range(ITERATION_COUNT):\n",
    "        matrix = normalize(inflate(expand(matrix, EXPANSION_POWER), INFLATION_POWER))\n",
    "    return matrix\n"
   ]
  },
  {
   "cell_type": "code",
   "execution_count": 22,
   "metadata": {},
   "outputs": [
    {
     "name": "stdout",
     "output_type": "stream",
     "text": [
      "Sim is 0\n",
      "Sim is 1\n"
     ]
    },
    {
     "ename": "KeyboardInterrupt",
     "evalue": "",
     "output_type": "error",
     "traceback": [
      "\u001b[0;31m---------------------------------------------------------------------------\u001b[0m",
      "\u001b[0;31mKeyboardInterrupt\u001b[0m                         Traceback (most recent call last)",
      "\u001b[0;32m<ipython-input-22-ee4d2859d78c>\u001b[0m in \u001b[0;36m<module>\u001b[0;34m\u001b[0m\n\u001b[1;32m      8\u001b[0m \u001b[0mLandscape_Weights\u001b[0m \u001b[0;34m=\u001b[0m \u001b[0;34m[\u001b[0m\u001b[0;36m.6666\u001b[0m\u001b[0;34m,\u001b[0m\u001b[0;36m.3333\u001b[0m\u001b[0;34m]\u001b[0m\u001b[0;34m\u001b[0m\u001b[0;34m\u001b[0m\u001b[0m\n\u001b[1;32m      9\u001b[0m \u001b[0;34m(\u001b[0m\u001b[0mLandscape1\u001b[0m\u001b[0;34m,\u001b[0m \u001b[0mLandscape2\u001b[0m\u001b[0;34m)\u001b[0m \u001b[0;34m=\u001b[0m \u001b[0mGenerate_Layered_Landscapes\u001b[0m\u001b[0;34m(\u001b[0m\u001b[0mN\u001b[0m\u001b[0;34m,\u001b[0m\u001b[0mK1\u001b[0m\u001b[0;34m,\u001b[0m\u001b[0mK2\u001b[0m\u001b[0;34m)\u001b[0m\u001b[0;34m\u001b[0m\u001b[0;34m\u001b[0m\u001b[0m\n\u001b[0;32m---> 10\u001b[0;31m \u001b[0mG\u001b[0m \u001b[0;34m=\u001b[0m \u001b[0mIterated_Local_Search\u001b[0m\u001b[0;34m(\u001b[0m\u001b[0mLandscape1\u001b[0m\u001b[0;34m,\u001b[0m \u001b[0mLandscape2\u001b[0m\u001b[0;34m,\u001b[0m \u001b[0mLandscape_Weights\u001b[0m\u001b[0;34m,\u001b[0m \u001b[0mM\u001b[0m\u001b[0;34m,\u001b[0m \u001b[0mD\u001b[0m\u001b[0;34m,\u001b[0m\u001b[0mt\u001b[0m\u001b[0;34m,\u001b[0m\u001b[0mNumSims\u001b[0m\u001b[0;34m)\u001b[0m \u001b[0;31m#this is a pandas dataframe\u001b[0m\u001b[0;34m\u001b[0m\u001b[0;34m\u001b[0m\u001b[0m\n\u001b[0m\u001b[1;32m     11\u001b[0m \u001b[0;31m#of the network with cells corresponding to number of times row maxima maps to column maxima\u001b[0m\u001b[0;34m\u001b[0m\u001b[0;34m\u001b[0m\u001b[0;34m\u001b[0m\u001b[0m\n",
      "\u001b[0;32m<ipython-input-8-561171716284>\u001b[0m in \u001b[0;36mIterated_Local_Search\u001b[0;34m(Landscape1, Landscape2, Landscape_Weights, M, D, t, NumSims)\u001b[0m\n\u001b[1;32m     24\u001b[0m \u001b[0;34m\u001b[0m\u001b[0m\n\u001b[1;32m     25\u001b[0m             \u001b[0ms_prime\u001b[0m \u001b[0;34m=\u001b[0m \u001b[0mPerturbation\u001b[0m\u001b[0;34m(\u001b[0m\u001b[0ms_star\u001b[0m\u001b[0;34m,\u001b[0m \u001b[0mD\u001b[0m\u001b[0;34m)\u001b[0m\u001b[0;31m#perturb\u001b[0m\u001b[0;34m\u001b[0m\u001b[0;34m\u001b[0m\u001b[0m\n\u001b[0;32m---> 26\u001b[0;31m             \u001b[0ms_prime_star\u001b[0m \u001b[0;34m=\u001b[0m \u001b[0mHill_Climb\u001b[0m\u001b[0;34m(\u001b[0m\u001b[0ms_star\u001b[0m\u001b[0;34m,\u001b[0m\u001b[0mLandscape1\u001b[0m\u001b[0;34m,\u001b[0m \u001b[0mLandscape2\u001b[0m\u001b[0;34m,\u001b[0m\u001b[0mLandscape_Weights\u001b[0m\u001b[0;34m,\u001b[0m\u001b[0mM\u001b[0m\u001b[0;34m)\u001b[0m\u001b[0;31m#climb new hill\u001b[0m\u001b[0;34m\u001b[0m\u001b[0;34m\u001b[0m\u001b[0m\n\u001b[0m\u001b[1;32m     27\u001b[0m             \u001b[0mf_s_prime_star\u001b[0m \u001b[0;34m=\u001b[0m \u001b[0mGet_Fitness_Layered_Landscape\u001b[0m\u001b[0;34m(\u001b[0m\u001b[0mLandscape1\u001b[0m\u001b[0;34m,\u001b[0m \u001b[0mLandscape2\u001b[0m\u001b[0;34m,\u001b[0m \u001b[0mLandscape_Weights\u001b[0m\u001b[0;34m,\u001b[0m \u001b[0ms_prime_star\u001b[0m\u001b[0;34m)\u001b[0m\u001b[0;34m\u001b[0m\u001b[0;34m\u001b[0m\u001b[0m\n\u001b[1;32m     28\u001b[0m \u001b[0;34m\u001b[0m\u001b[0m\n",
      "\u001b[0;32m~/Documents/ResearchProjects/NBA-NKC/ComputationalModels/LayeredLandscapeFunctions.py\u001b[0m in \u001b[0;36mHill_Climb\u001b[0;34m(iPosition, Landscape1, Landscape2, Landscape_Weights, M)\u001b[0m\n\u001b[1;32m    278\u001b[0m \u001b[0;34m\u001b[0m\u001b[0m\n\u001b[1;32m    279\u001b[0m         \u001b[0mOldFitness\u001b[0m \u001b[0;34m=\u001b[0m \u001b[0mNewFitness\u001b[0m\u001b[0;34m\u001b[0m\u001b[0;34m\u001b[0m\u001b[0m\n\u001b[0;32m--> 280\u001b[0;31m         \u001b[0mNewGenes\u001b[0m \u001b[0;34m=\u001b[0m \u001b[0mIncremental_Improvement\u001b[0m\u001b[0;34m(\u001b[0m\u001b[0mNewGenes\u001b[0m\u001b[0;34m,\u001b[0m \u001b[0mLandscape1\u001b[0m\u001b[0;34m,\u001b[0m \u001b[0mLandscape2\u001b[0m\u001b[0;34m,\u001b[0m \u001b[0mLandscape_Weights\u001b[0m\u001b[0;34m,\u001b[0m \u001b[0mM\u001b[0m\u001b[0;34m)\u001b[0m\u001b[0;34m\u001b[0m\u001b[0;34m\u001b[0m\u001b[0m\n\u001b[0m\u001b[1;32m    281\u001b[0m \u001b[0;34m\u001b[0m\u001b[0m\n\u001b[1;32m    282\u001b[0m         \u001b[0mNewFitness\u001b[0m \u001b[0;34m=\u001b[0m  \u001b[0mGet_Fitness_Layered_Landscape\u001b[0m\u001b[0;34m(\u001b[0m\u001b[0mLandscape1\u001b[0m\u001b[0;34m,\u001b[0m \u001b[0mLandscape2\u001b[0m\u001b[0;34m,\u001b[0m \u001b[0mLandscape_Weights\u001b[0m\u001b[0;34m,\u001b[0m  \u001b[0mNewGenes\u001b[0m\u001b[0;34m)\u001b[0m \u001b[0;31m#get_fitness_Product_World(Landscape,NewGenes)\u001b[0m\u001b[0;34m\u001b[0m\u001b[0;34m\u001b[0m\u001b[0m\n",
      "\u001b[0;32m~/Documents/ResearchProjects/NBA-NKC/ComputationalModels/LayeredLandscapeFunctions.py\u001b[0m in \u001b[0;36mIncremental_Improvement\u001b[0;34m(iPosition, Landscape1, Landscape2, Landscape_Weights, M)\u001b[0m\n\u001b[1;32m    228\u001b[0m             \u001b[0mChangedGenes\u001b[0m\u001b[0;34m[\u001b[0m\u001b[0mlist\u001b[0m\u001b[0;34m(\u001b[0m\u001b[0mindici\u001b[0m\u001b[0;34m)\u001b[0m\u001b[0;34m]\u001b[0m \u001b[0;34m=\u001b[0m \u001b[0mgene_combo\u001b[0m\u001b[0;34m\u001b[0m\u001b[0;34m\u001b[0m\u001b[0m\n\u001b[1;32m    229\u001b[0m             \u001b[0;31m#See if new fitness greater than old, if so then we are done\u001b[0m\u001b[0;34m\u001b[0m\u001b[0;34m\u001b[0m\u001b[0;34m\u001b[0m\u001b[0m\n\u001b[0;32m--> 230\u001b[0;31m             \u001b[0;32mif\u001b[0m\u001b[0;34m(\u001b[0m\u001b[0mGet_Fitness_Layered_Landscape\u001b[0m\u001b[0;34m(\u001b[0m\u001b[0mLandscape1\u001b[0m\u001b[0;34m,\u001b[0m \u001b[0mLandscape2\u001b[0m\u001b[0;34m,\u001b[0m \u001b[0mLandscape_Weights\u001b[0m\u001b[0;34m,\u001b[0m \u001b[0mChangedGenes\u001b[0m\u001b[0;34m)\u001b[0m\u001b[0;34m)\u001b[0m \u001b[0;34m>\u001b[0m \u001b[0mCurrentFit\u001b[0m\u001b[0;34m:\u001b[0m\u001b[0;34m\u001b[0m\u001b[0;34m\u001b[0m\u001b[0m\n\u001b[0m\u001b[1;32m    231\u001b[0m                 \u001b[0;32mreturn\u001b[0m\u001b[0;34m(\u001b[0m\u001b[0mChangedGenes\u001b[0m\u001b[0;34m)\u001b[0m\u001b[0;34m\u001b[0m\u001b[0;34m\u001b[0m\u001b[0m\n\u001b[1;32m    232\u001b[0m     \u001b[0;31m#if no change than return initial position\u001b[0m\u001b[0;34m\u001b[0m\u001b[0;34m\u001b[0m\u001b[0;34m\u001b[0m\u001b[0m\n",
      "\u001b[0;32m~/Documents/ResearchProjects/NBA-NKC/ComputationalModels/LayeredLandscapeFunctions.py\u001b[0m in \u001b[0;36mGet_Fitness_Layered_Landscape\u001b[0;34m(Landscape1, Landscape2, Landscape_Weights, Position)\u001b[0m\n\u001b[1;32m     87\u001b[0m             \u001b[0mlocalgenes\u001b[0m \u001b[0;34m=\u001b[0m \u001b[0mnp\u001b[0m\u001b[0;34m.\u001b[0m\u001b[0mappend\u001b[0m\u001b[0;34m(\u001b[0m\u001b[0mlocalgenes\u001b[0m\u001b[0;34m,\u001b[0m\u001b[0mPosition\u001b[0m\u001b[0;34m[\u001b[0m \u001b[0;36m0\u001b[0m\u001b[0;34m:\u001b[0m\u001b[0mcurrIndex\u001b[0m\u001b[0;34m-\u001b[0m\u001b[0;34m(\u001b[0m\u001b[0mN\u001b[0m\u001b[0;34m-\u001b[0m\u001b[0mK\u001b[0m\u001b[0;34m)\u001b[0m\u001b[0;34m+\u001b[0m\u001b[0;36m1\u001b[0m\u001b[0;34m]\u001b[0m\u001b[0;34m)\u001b[0m\u001b[0;34m\u001b[0m\u001b[0;34m\u001b[0m\u001b[0m\n\u001b[1;32m     88\u001b[0m         \u001b[0;31m#get index fitness  is stored at\u001b[0m\u001b[0;34m\u001b[0m\u001b[0;34m\u001b[0m\u001b[0;34m\u001b[0m\u001b[0m\n\u001b[0;32m---> 89\u001b[0;31m         \u001b[0minteractIndex\u001b[0m \u001b[0;34m=\u001b[0m \u001b[0;34m(\u001b[0m\u001b[0;34m(\u001b[0m\u001b[0;36m2\u001b[0m\u001b[0;34m**\u001b[0m\u001b[0;34m(\u001b[0m\u001b[0mnp\u001b[0m\u001b[0;34m.\u001b[0m\u001b[0marange\u001b[0m\u001b[0;34m(\u001b[0m\u001b[0mK\u001b[0m\u001b[0;34m+\u001b[0m\u001b[0;36m1\u001b[0m\u001b[0;34m)\u001b[0m\u001b[0;34m*\u001b[0m\u001b[0;34m(\u001b[0m\u001b[0mlocalgenes\u001b[0m\u001b[0;34m)\u001b[0m\u001b[0;34m)\u001b[0m\u001b[0;34m)\u001b[0m\u001b[0;34m*\u001b[0m\u001b[0mlocalgenes\u001b[0m\u001b[0;34m)\u001b[0m\u001b[0;34m.\u001b[0m\u001b[0msum\u001b[0m\u001b[0;34m(\u001b[0m\u001b[0;34m)\u001b[0m\u001b[0;34m\u001b[0m\u001b[0;34m\u001b[0m\u001b[0m\n\u001b[0m\u001b[1;32m     90\u001b[0m         \u001b[0;31m#update fitness\u001b[0m\u001b[0;34m\u001b[0m\u001b[0;34m\u001b[0m\u001b[0;34m\u001b[0m\u001b[0m\n\u001b[1;32m     91\u001b[0m         \u001b[0mtotalFitness\u001b[0m \u001b[0;34m=\u001b[0m \u001b[0mtotalFitness\u001b[0m \u001b[0;34m+\u001b[0m \u001b[0mLandscape2\u001b[0m\u001b[0;34m[\u001b[0m\u001b[0mcurrIndex\u001b[0m\u001b[0;34m,\u001b[0m\u001b[0minteractIndex\u001b[0m\u001b[0;34m]\u001b[0m\u001b[0;34m\u001b[0m\u001b[0;34m\u001b[0m\u001b[0m\n",
      "\u001b[0;31mKeyboardInterrupt\u001b[0m: "
     ]
    }
   ],
   "source": [
    "N=10\n",
    "K1=0\n",
    "K2=5\n",
    "M=1\n",
    "D=2\n",
    "t=100\n",
    "NumSims=10\n",
    "Landscape_Weights = [.6666,.3333]\n",
    "(Landscape1, Landscape2) = Generate_Layered_Landscapes(N,K1,K2)\n",
    "G = Iterated_Local_Search(Landscape1, Landscape2, Landscape_Weights, M, D,t,NumSims) #this is a pandas dataframe\n",
    "#of the network with cells corresponding to number of times row maxima maps to column maxima"
   ]
  },
  {
   "cell_type": "code",
   "execution_count": null,
   "metadata": {},
   "outputs": [],
   "source": [
    "G"
   ]
  },
  {
   "cell_type": "code",
   "execution_count": 23,
   "metadata": {},
   "outputs": [],
   "source": [
    "#Prepare data frame of network connections for markov clustering\n",
    "Gnew = G.div(G.sum(axis=1), axis=0)\n",
    "\n",
    "GTrans=Gnew.transpose()\n",
    "\n",
    "GNumpy = GTrans.to_numpy()\n"
   ]
  },
  {
   "cell_type": "code",
   "execution_count": 24,
   "metadata": {},
   "outputs": [
    {
     "data": {
      "text/plain": [
       "array([1., 1., 0., 1., 0., 0., 0., 0., 0., 1., 0., 0., 0., 0., 0.])"
      ]
     },
     "execution_count": 24,
     "metadata": {},
     "output_type": "execute_result"
    }
   ],
   "source": [
    "MarkovMatrix = run(GNumpy)\n",
    "#replace nan with 0\n",
    "MarkovMatrix2 = np.nan_to_num(MarkovMatrix)\n",
    "MarkovMatrix2.sum(axis=0)\n"
   ]
  },
  {
   "cell_type": "code",
   "execution_count": 25,
   "metadata": {},
   "outputs": [],
   "source": [
    "##PLOT\n",
    "\n",
    "MarkClsuMatrix = nx.from_numpy_matrix(MarkovMatrix2) #convert to adjacency matrix undirected\n",
    "\n",
    "W = nx.DiGraph(MarkovMatrix2) #convert to directed graph (digraph)\n",
    "OG = nx.DiGraph(G) #convert original probability graph to directed graph\n",
    "\n",
    "\n"
   ]
  },
  {
   "cell_type": "code",
   "execution_count": 26,
   "metadata": {},
   "outputs": [
    {
     "data": {
      "image/png": "[encoded data removed]",
      "text/plain": [
       "<Figure size 432x288 with 1 Axes>"
      ]
     },
     "metadata": {},
     "output_type": "display_data"
    }
   ],
   "source": [
    "#set node size based upon some scaling of the fitness\n",
    "node_sizes = (G.index.values**15)/sum(G.index.values**15)*3000\n",
    "nx.draw(MarkClsuMatrix, node_size=node_sizes, labels=G.index.values,\n",
    "        with_labels=False,arrows=True)\n",
    "\n",
    "\n"
   ]
  },
  {
   "cell_type": "code",
   "execution_count": 27,
   "metadata": {},
   "outputs": [
    {
     "data": {
      "text/plain": [
       "array([740.99851214, 720.94811566, 693.6650536 , 688.80120325,\n",
       "       636.58365602, 670.08166637, 668.05820412, 627.57948612,\n",
       "       646.81033684, 620.68547294, 670.77850769, 678.18212054,\n",
       "       613.44092812, 694.88419871, 628.50253786])"
      ]
     },
     "execution_count": 27,
     "metadata": {},
     "output_type": "execute_result"
    }
   ],
   "source": [
    "G.index.values/sum(G.index.values)*10000"
   ]
  },
  {
   "cell_type": "code",
   "execution_count": 28,
   "metadata": {},
   "outputs": [
    {
     "data": {
      "image/png": "[encoded data removed]",
      "text/plain": [
       "<Figure size 432x288 with 1 Axes>"
      ]
     },
     "metadata": {},
     "output_type": "display_data"
    }
   ],
   "source": [
    "#set node size based upon some scaling of the fitness\n",
    "node_sizes = (G.index.values**15)/sum(G.index.values**15)*3000\n",
    "nx.draw(OG, node_size=10, labels=G.index.values,\n",
    "        with_labels=False,arrows=False)\n",
    "\n",
    "\n"
   ]
  },
  {
   "cell_type": "code",
   "execution_count": 615,
   "metadata": {},
   "outputs": [
    {
     "data": {
      "text/plain": [
       "<networkx.classes.digraph.DiGraph at 0xa21a73cc0>"
      ]
     },
     "execution_count": 615,
     "metadata": {},
     "output_type": "execute_result"
    }
   ],
   "source": [
    "OG"
   ]
  },
  {
   "cell_type": "code",
   "execution_count": 456,
   "metadata": {},
   "outputs": [
    {
     "data": {
      "image/png": "[encoded data removed]",
      "text/plain": [
       "<Figure size 432x288 with 1 Axes>"
      ]
     },
     "metadata": {
      "needs_background": "light"
     },
     "output_type": "display_data"
    }
   ],
   "source": [
    "edges = nx.draw_networkx_edges(AdjMatrix, pos, node_size=node_sizes, arrowstyle='->',\n",
    "                               arrowsize=10, \n",
    "                               edge_cmap=plt.cm.Blues, width=2)"
   ]
  },
  {
   "cell_type": "code",
   "execution_count": 407,
   "metadata": {},
   "outputs": [],
   "source": [
    "pos = nx.layout.spring_layout(AdjMatrix)\n"
   ]
  },
  {
   "cell_type": "code",
   "execution_count": 587,
   "metadata": {},
   "outputs": [
    {
     "ename": "TypeError",
     "evalue": "'LineCollection' object is not iterable",
     "output_type": "error",
     "traceback": [
      "\u001b[0;31m---------------------------------------------------------------------------\u001b[0m",
      "\u001b[0;31mTypeError\u001b[0m                                 Traceback (most recent call last)",
      "\u001b[0;32m<ipython-input-587-17d51032a11f>\u001b[0m in \u001b[0;36m<module>\u001b[0;34m\u001b[0m\n\u001b[0;32m----> 1\u001b[0;31m \u001b[0mweights\u001b[0m \u001b[0;34m=\u001b[0m \u001b[0;34m[\u001b[0m\u001b[0mC\u001b[0m\u001b[0;34m[\u001b[0m\u001b[0mu\u001b[0m\u001b[0;34m]\u001b[0m\u001b[0;34m[\u001b[0m\u001b[0mv\u001b[0m\u001b[0;34m]\u001b[0m\u001b[0;34m[\u001b[0m\u001b[0;34m'weight'\u001b[0m\u001b[0;34m]\u001b[0m \u001b[0;32mfor\u001b[0m \u001b[0mu\u001b[0m\u001b[0;34m,\u001b[0m\u001b[0mv\u001b[0m \u001b[0;32min\u001b[0m \u001b[0medges\u001b[0m\u001b[0;34m]\u001b[0m\u001b[0;34m\u001b[0m\u001b[0;34m\u001b[0m\u001b[0m\n\u001b[0m",
      "\u001b[0;31mTypeError\u001b[0m: 'LineCollection' object is not iterable"
     ]
    }
   ],
   "source": [
    "weights = [C[u][v]['weight'] for u,v in edges]\n"
   ]
  },
  {
   "cell_type": "code",
   "execution_count": 479,
   "metadata": {},
   "outputs": [],
   "source": []
  },
  {
   "cell_type": "code",
   "execution_count": 491,
   "metadata": {},
   "outputs": [
    {
     "data": {
      "image/png": "[encoded data removed]",
      "text/plain": [
       "<Figure size 432x288 with 1 Axes>"
      ]
     },
     "metadata": {},
     "output_type": "display_data"
    }
   ],
   "source": [
    "#set node size based upon some scaling of the fitness\n",
    "node_sizes = (G.index.values)**10*30000\n",
    "nx.draw(W, node_size=node_sizes,\n",
    "        with_labels=False,arrows=True)\n",
    "plt.show()\n"
   ]
  },
  {
   "cell_type": "code",
   "execution_count": 595,
   "metadata": {},
   "outputs": [
    {
     "data": {
      "text/plain": [
       "array([[1.        , 0.        , 0.        , 0.        , 0.        ,\n",
       "        0.        , 0.        , 0.33333333, 0.33333333, 0.        ,\n",
       "        0.        ],\n",
       "       [0.        , 1.        , 0.        , 0.        , 0.        ,\n",
       "        0.        , 0.        , 0.33333333, 0.        , 0.        ,\n",
       "        0.        ],\n",
       "       [0.        , 0.        , 0.        , 0.        , 0.        ,\n",
       "        0.        , 0.        , 0.        , 0.        , 0.        ,\n",
       "        0.        ],\n",
       "       [0.        , 0.        , 1.        , 1.        , 1.        ,\n",
       "        0.        , 0.        , 0.        , 0.        , 0.        ,\n",
       "        0.        ],\n",
       "       [0.        , 0.        , 0.        , 0.        , 0.        ,\n",
       "        0.        , 0.        , 0.        , 0.33333333, 0.        ,\n",
       "        0.        ],\n",
       "       [0.        , 0.        , 0.        , 0.        , 0.        ,\n",
       "        1.        , 0.        , 0.        , 0.33333333, 0.        ,\n",
       "        0.        ],\n",
       "       [0.        , 0.        , 0.        , 0.        , 0.        ,\n",
       "        0.        , 1.        , 0.        , 0.        , 0.        ,\n",
       "        0.        ],\n",
       "       [0.        , 0.        , 0.        , 0.        , 0.        ,\n",
       "        0.        , 0.        , 0.33333333, 0.        , 0.        ,\n",
       "        1.        ],\n",
       "       [0.        , 0.        , 0.        , 0.        , 0.        ,\n",
       "        0.        , 0.        , 0.        , 0.        , 0.        ,\n",
       "        0.        ],\n",
       "       [0.        , 0.        , 0.        , 0.        , 0.        ,\n",
       "        0.        , 0.        , 0.        , 0.        , 0.        ,\n",
       "        0.        ],\n",
       "       [0.        , 0.        , 0.        , 0.        , 0.        ,\n",
       "        0.        , 0.        , 0.        , 0.        , 0.        ,\n",
       "        0.        ]])"
      ]
     },
     "execution_count": 595,
     "metadata": {},
     "output_type": "execute_result"
    }
   ],
   "source": [
    "MarkovMatrix2"
   ]
  },
  {
   "cell_type": "code",
   "execution_count": null,
   "metadata": {},
   "outputs": [],
   "source": []
  },
  {
   "cell_type": "code",
   "execution_count": null,
   "metadata": {},
   "outputs": [],
   "source": []
  },
  {
   "cell_type": "code",
   "execution_count": null,
   "metadata": {},
   "outputs": [],
   "source": []
  },
  {
   "cell_type": "code",
   "execution_count": null,
   "metadata": {},
   "outputs": [],
   "source": []
  }
 ],
 "metadata": {
  "kernelspec": {
   "display_name": "Python 3",
   "language": "python",
   "name": "python3"
  },
  "language_info": {
   "codemirror_mode": {
    "name": "ipython",
    "version": 3
   },
   "file_extension": ".py",
   "mimetype": "text/x-python",
   "name": "python",
   "nbconvert_exporter": "python",
   "pygments_lexer": "ipython3",
   "version": "3.6.8"
  }
 },
 "nbformat": 4,
 "nbformat_minor": 2
}
