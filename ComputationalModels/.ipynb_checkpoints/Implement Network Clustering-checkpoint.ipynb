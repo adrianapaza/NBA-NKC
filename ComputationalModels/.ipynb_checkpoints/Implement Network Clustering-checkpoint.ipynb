{
 "cells": [
  {
   "cell_type": "code",
   "execution_count": 270,
   "metadata": {},
   "outputs": [],
   "source": [
    "##Import packages and files\n",
    "from itertools import compress, product\n",
    "import numpy as np\n",
    "import matplotlib.pyplot as plt\n",
    "import array\n",
    "import random\n",
    "import pandas as pd\n",
    "import itertools\n",
    "import operator\n",
    "import importlib\n",
    "#import functions defining the layered landscape\n",
    "from LayeredLandscapeFunctions import *\n",
    "import networkx as nx\n"
   ]
  },
  {
   "cell_type": "code",
   "execution_count": null,
   "metadata": {},
   "outputs": [],
   "source": []
  },
  {
   "cell_type": "code",
   "execution_count": null,
   "metadata": {},
   "outputs": [],
   "source": []
  },
  {
   "cell_type": "code",
   "execution_count": null,
   "metadata": {},
   "outputs": [],
   "source": []
  },
  {
   "cell_type": "code",
   "execution_count": 2,
   "metadata": {},
   "outputs": [],
   "source": [
    "#Algorithm 2 Iterated Local Search (ILS)\n",
    "#Require: Solution space S,\n",
    "#Fitness function f(S),\n",
    "#Neighborhood function N(S),\n",
    "#Stopping threshold t\n",
    "#1: Choose initial random solution s0 ∈ S\n",
    "#2: s ← hillClimb(s0)\n",
    "#3: i ← 0\n",
    "#4: repeat\n",
    "#5: s0 ← perturbation(s∗)\n",
    "#6: s'0 ← hillClimb(s0)\n",
    "#7: if (s∗''= s∗) ∧ (f(s∗0) > f(s∗)) then\n",
    "#8: s∗ ← s∗''\n",
    "#9: i ← 0\n",
    "#10: end if\n",
    "#11: i ← i + 1\n",
    "#12: until i ≥ t\n",
    "#13: return s∗"
   ]
  },
  {
   "cell_type": "code",
   "execution_count": 3,
   "metadata": {},
   "outputs": [
    {
     "data": {
      "text/plain": [
       "[1, 0, 0, 0, 1, 0]"
      ]
     },
     "execution_count": 3,
     "metadata": {},
     "output_type": "execute_result"
    }
   ],
   "source": [
    "def Perturbation(Position,D):\n",
    "    N=len(Position)\n",
    "    s = list(range(N))\n",
    "    random.shuffle(s)\n",
    "       #Take a step by picking a random gene to change\n",
    "    first_sample = s[-D:]\n",
    "    for i in first_sample:\n",
    "        Position[i] = abs(Position[i]-1)\n",
    "    return(Position)\n",
    "\n",
    "Position=[0,1,1,1,0,0]\n",
    "Perturbation(Position,5)\n"
   ]
  },
  {
   "cell_type": "code",
   "execution_count": null,
   "metadata": {},
   "outputs": [],
   "source": []
  },
  {
   "cell_type": "code",
   "execution_count": 648,
   "metadata": {},
   "outputs": [],
   "source": [
    "##There is a decision to be made about how to store the values\n",
    "#I choose to create an L by L matrix where L is the total number of local optima\n",
    "#the rows and columns of L are the fitness values of the Local Optima,\n",
    "#each cell has an integer for the number of times, after a pertubation, a row \n",
    "#optima maps to a column optima\n",
    "#a Seperate array stores the mapping of fitnesses of L to actual locations,\n",
    "#this is done because it is extremely unlikely two local optima share a fitness\n",
    "\n",
    "def Iterated_Local_Search(Landscape1, Landscape2, Landscape_Weights, M, D,t, NumSims):\n",
    "    for Sim in range(NumSims):\n",
    "        print('Sim is',Sim)\n",
    "\n",
    "        if Sim==0:\n",
    "            df = pd.DataFrame() #creates a new dataframe that's empty\n",
    "        s0 = Position_rand(N)#1 random location\n",
    "        s_star = Hill_Climb(s0,Landscape1, Landscape2, Landscape_Weights, M) #2, Hill Climb initial \n",
    "        f_s_star = Get_Fitness_Layered_Landscape(Landscape1, Landscape2, Landscape_Weights, s_star)\n",
    "        i=0 #set i equal to 0\n",
    "        if f_s_star not in (df.index.values): #add a row if necessaru\n",
    "                    df = df.append(pd.Series(name=(f_s_star)))\n",
    "        df[f_s_star]=0\n",
    "        while(i<t):\n",
    "            df = df.fillna(0)\n",
    "\n",
    "            s_prime = Perturbation(s_star, D)#perturb\n",
    "            s_prime_star = Hill_Climb(s_star,Landscape1, Landscape2,Landscape_Weights,M)#climb new hill\n",
    "            f_s_prime_star = Get_Fitness_Layered_Landscape(Landscape1, Landscape2, Landscape_Weights, s_prime_star)\n",
    "\n",
    "            if f_s_star not in (df.index.values): #add a row if necessaru\n",
    "                    df = df.append(pd.Series(name=(f_s_star)))\n",
    "            if f_s_prime_star not in df.columns:                    #add column if necessary\n",
    "                    df[f_s_prime_star]=0 #set to zero\n",
    "                    df.at[f_s_star, f_s_prime_star] = 0\n",
    "            if f_s_prime_star not in df.index.values:                    #add column if necessary\n",
    "                    df = df.append(pd.Series(name=(f_s_prime_star)))\n",
    "\n",
    "\n",
    "            df.at[f_s_star, f_s_prime_star] =  df.at[f_s_star, f_s_prime_star]+1 #add one to the value of the edge\n",
    "\n",
    "            #check for new maxima\n",
    "            if ((s_prime_star!=s_star).any() and (f_s_prime_star > f_s_star)):\n",
    "                #reset finteses\n",
    "                i=0 ###IN ORIGNAL THIS IS NOT COMMENTED OUT\n",
    "\n",
    "                ##perhaps you should not reset if only new maxima since how else would you find new network clusters??\n",
    "                #You are weighted by where you start and if it is a maxima then you stay there\n",
    "                f_s_star = f_s_prime_star # set new f_s_star and s \n",
    "\n",
    "                s_star = s_prime_star\n",
    "                #add i=i+1 since we allow change in optima (against paper) \n",
    "                #i = i + 1 ###NOT IN ORIGNINAL ALGORITHM \n",
    "\n",
    "            else:\n",
    "                i = i + 1\n",
    "\n",
    "                ##BELOW UPDATES new location regardless if better contrary to paper\n",
    "                #f_s_star = f_s_prime_star ####NOT IN ORIGNINAL ALGORITHM \n",
    "\n",
    "                #s_star = s_prime_star###NOT IN ORIGNINAL ALGORITHM \n",
    "    return(df)\n"
   ]
  },
  {
   "cell_type": "code",
   "execution_count": 649,
   "metadata": {},
   "outputs": [],
   "source": [
    "##Functions for markov clustering\n",
    "\n",
    "## Expansion Power\n",
    "EXPANSION_POWER = 2\n",
    "## Inflation power and number of iterations \n",
    "# iterations really should not be preset and should be coded as stopping at convergence)\n",
    "INFLATION_POWER = 2\n",
    "ITERATION_COUNT = 40\n",
    "def normalize(matrix):\n",
    "    return matrix/np.sum(matrix, axis=0)\n",
    "\n",
    "def expand(matrix, power):\n",
    "    return matrix**power\n",
    "\n",
    "def inflate(matrix, power):\n",
    "    for entry in np.nditer(transition_matrix, op_flags=['readwrite']):\n",
    "        #print(entry)\n",
    "        entry[...] = entry**power\n",
    "        #print(entry)\n",
    "    return matrix\n",
    "\n",
    "def run(matrix):\n",
    "    #np.fill_diagonal(matrix, 1)\n",
    "    #print(matrix)\n",
    "    matrix = normalize(matrix)\n",
    "    #print(matrix)\n",
    "    for _ in range(ITERATION_COUNT):\n",
    "        matrix = normalize(inflate(expand(matrix, EXPANSION_POWER), INFLATION_POWER))\n",
    "    return matrix\n"
   ]
  },
  {
   "cell_type": "code",
   "execution_count": 673,
   "metadata": {},
   "outputs": [
    {
     "name": "stdout",
     "output_type": "stream",
     "text": [
      "Sim is 0\n",
      "Sim is 1\n",
      "Sim is 2\n",
      "Sim is 3\n",
      "Sim is 4\n",
      "Sim is 5\n",
      "Sim is 6\n",
      "Sim is 7\n",
      "Sim is 8\n",
      "Sim is 9\n",
      "Sim is 10\n",
      "Sim is 11\n",
      "Sim is 12\n",
      "Sim is 13\n",
      "Sim is 14\n",
      "Sim is 15\n",
      "Sim is 16\n",
      "Sim is 17\n",
      "Sim is 18\n",
      "Sim is 19\n"
     ]
    }
   ],
   "source": [
    "N=20\n",
    "K1=0\n",
    "K2=10\n",
    "M=1\n",
    "D=2\n",
    "t=100\n",
    "NumSims=20\n",
    "Landscape_Weights = [.66666,.33333333]\n",
    "(Landscape1, Landscape2) = Generate_Layered_Landscapes(N,K1,K2)\n",
    "G = Iterated_Local_Search(Landscape1, Landscape2, Landscape_Weights, M, D,t,NumSims) #this is a pandas dataframe\n",
    "#of the network with cells corresponding to number of times row maxima maps to column maxima"
   ]
  },
  {
   "cell_type": "code",
   "execution_count": 678,
   "metadata": {},
   "outputs": [
    {
     "data": {
      "text/html": [
       "<div>\n",
       "<style scoped>\n",
       "    .dataframe tbody tr th:only-of-type {\n",
       "        vertical-align: middle;\n",
       "    }\n",
       "\n",
       "    .dataframe tbody tr th {\n",
       "        vertical-align: top;\n",
       "    }\n",
       "\n",
       "    .dataframe thead th {\n",
       "        text-align: right;\n",
       "    }\n",
       "</style>\n",
       "<table border=\"1\" class=\"dataframe\">\n",
       "  <thead>\n",
       "    <tr style=\"text-align: right;\">\n",
       "      <th></th>\n",
       "      <th>0.707524</th>\n",
       "      <th>0.673819</th>\n",
       "      <th>0.703427</th>\n",
       "      <th>0.715398</th>\n",
       "      <th>0.677388</th>\n",
       "      <th>0.675960</th>\n",
       "      <th>0.632990</th>\n",
       "      <th>0.657298</th>\n",
       "      <th>0.657376</th>\n",
       "      <th>0.671432</th>\n",
       "      <th>...</th>\n",
       "      <th>0.613030</th>\n",
       "      <th>0.672365</th>\n",
       "      <th>0.562672</th>\n",
       "      <th>0.610916</th>\n",
       "      <th>0.590740</th>\n",
       "      <th>0.554612</th>\n",
       "      <th>0.597161</th>\n",
       "      <th>0.651451</th>\n",
       "      <th>0.583589</th>\n",
       "      <th>0.660677</th>\n",
       "    </tr>\n",
       "  </thead>\n",
       "  <tbody>\n",
       "    <tr>\n",
       "      <td>0.707524</td>\n",
       "      <td>21.0</td>\n",
       "      <td>1.0</td>\n",
       "      <td>7.0</td>\n",
       "      <td>8.0</td>\n",
       "      <td>8.0</td>\n",
       "      <td>1.0</td>\n",
       "      <td>0.0</td>\n",
       "      <td>4.0</td>\n",
       "      <td>0.0</td>\n",
       "      <td>11.0</td>\n",
       "      <td>...</td>\n",
       "      <td>0.0</td>\n",
       "      <td>0.0</td>\n",
       "      <td>0.0</td>\n",
       "      <td>0.0</td>\n",
       "      <td>0.0</td>\n",
       "      <td>0.0</td>\n",
       "      <td>0.0</td>\n",
       "      <td>0.0</td>\n",
       "      <td>0.0</td>\n",
       "      <td>0.0</td>\n",
       "    </tr>\n",
       "    <tr>\n",
       "      <td>0.673819</td>\n",
       "      <td>0.0</td>\n",
       "      <td>0.0</td>\n",
       "      <td>0.0</td>\n",
       "      <td>0.0</td>\n",
       "      <td>0.0</td>\n",
       "      <td>0.0</td>\n",
       "      <td>0.0</td>\n",
       "      <td>0.0</td>\n",
       "      <td>0.0</td>\n",
       "      <td>0.0</td>\n",
       "      <td>...</td>\n",
       "      <td>0.0</td>\n",
       "      <td>0.0</td>\n",
       "      <td>0.0</td>\n",
       "      <td>0.0</td>\n",
       "      <td>0.0</td>\n",
       "      <td>0.0</td>\n",
       "      <td>0.0</td>\n",
       "      <td>0.0</td>\n",
       "      <td>0.0</td>\n",
       "      <td>0.0</td>\n",
       "    </tr>\n",
       "    <tr>\n",
       "      <td>0.703427</td>\n",
       "      <td>5.0</td>\n",
       "      <td>0.0</td>\n",
       "      <td>7.0</td>\n",
       "      <td>3.0</td>\n",
       "      <td>2.0</td>\n",
       "      <td>0.0</td>\n",
       "      <td>0.0</td>\n",
       "      <td>0.0</td>\n",
       "      <td>1.0</td>\n",
       "      <td>5.0</td>\n",
       "      <td>...</td>\n",
       "      <td>0.0</td>\n",
       "      <td>0.0</td>\n",
       "      <td>0.0</td>\n",
       "      <td>0.0</td>\n",
       "      <td>0.0</td>\n",
       "      <td>0.0</td>\n",
       "      <td>0.0</td>\n",
       "      <td>0.0</td>\n",
       "      <td>0.0</td>\n",
       "      <td>0.0</td>\n",
       "    </tr>\n",
       "    <tr>\n",
       "      <td>0.715398</td>\n",
       "      <td>43.0</td>\n",
       "      <td>1.0</td>\n",
       "      <td>18.0</td>\n",
       "      <td>56.0</td>\n",
       "      <td>7.0</td>\n",
       "      <td>0.0</td>\n",
       "      <td>1.0</td>\n",
       "      <td>1.0</td>\n",
       "      <td>1.0</td>\n",
       "      <td>22.0</td>\n",
       "      <td>...</td>\n",
       "      <td>1.0</td>\n",
       "      <td>1.0</td>\n",
       "      <td>1.0</td>\n",
       "      <td>1.0</td>\n",
       "      <td>1.0</td>\n",
       "      <td>1.0</td>\n",
       "      <td>1.0</td>\n",
       "      <td>1.0</td>\n",
       "      <td>1.0</td>\n",
       "      <td>1.0</td>\n",
       "    </tr>\n",
       "    <tr>\n",
       "      <td>0.677388</td>\n",
       "      <td>0.0</td>\n",
       "      <td>0.0</td>\n",
       "      <td>0.0</td>\n",
       "      <td>1.0</td>\n",
       "      <td>0.0</td>\n",
       "      <td>0.0</td>\n",
       "      <td>0.0</td>\n",
       "      <td>0.0</td>\n",
       "      <td>0.0</td>\n",
       "      <td>0.0</td>\n",
       "      <td>...</td>\n",
       "      <td>0.0</td>\n",
       "      <td>0.0</td>\n",
       "      <td>0.0</td>\n",
       "      <td>0.0</td>\n",
       "      <td>0.0</td>\n",
       "      <td>0.0</td>\n",
       "      <td>0.0</td>\n",
       "      <td>0.0</td>\n",
       "      <td>0.0</td>\n",
       "      <td>0.0</td>\n",
       "    </tr>\n",
       "    <tr>\n",
       "      <td>...</td>\n",
       "      <td>...</td>\n",
       "      <td>...</td>\n",
       "      <td>...</td>\n",
       "      <td>...</td>\n",
       "      <td>...</td>\n",
       "      <td>...</td>\n",
       "      <td>...</td>\n",
       "      <td>...</td>\n",
       "      <td>...</td>\n",
       "      <td>...</td>\n",
       "      <td>...</td>\n",
       "      <td>...</td>\n",
       "      <td>...</td>\n",
       "      <td>...</td>\n",
       "      <td>...</td>\n",
       "      <td>...</td>\n",
       "      <td>...</td>\n",
       "      <td>...</td>\n",
       "      <td>...</td>\n",
       "      <td>...</td>\n",
       "      <td>...</td>\n",
       "    </tr>\n",
       "    <tr>\n",
       "      <td>0.554612</td>\n",
       "      <td>0.0</td>\n",
       "      <td>0.0</td>\n",
       "      <td>0.0</td>\n",
       "      <td>0.0</td>\n",
       "      <td>0.0</td>\n",
       "      <td>0.0</td>\n",
       "      <td>0.0</td>\n",
       "      <td>0.0</td>\n",
       "      <td>0.0</td>\n",
       "      <td>0.0</td>\n",
       "      <td>...</td>\n",
       "      <td>0.0</td>\n",
       "      <td>0.0</td>\n",
       "      <td>0.0</td>\n",
       "      <td>0.0</td>\n",
       "      <td>0.0</td>\n",
       "      <td>0.0</td>\n",
       "      <td>0.0</td>\n",
       "      <td>0.0</td>\n",
       "      <td>0.0</td>\n",
       "      <td>0.0</td>\n",
       "    </tr>\n",
       "    <tr>\n",
       "      <td>0.597161</td>\n",
       "      <td>0.0</td>\n",
       "      <td>0.0</td>\n",
       "      <td>0.0</td>\n",
       "      <td>0.0</td>\n",
       "      <td>0.0</td>\n",
       "      <td>0.0</td>\n",
       "      <td>0.0</td>\n",
       "      <td>0.0</td>\n",
       "      <td>0.0</td>\n",
       "      <td>0.0</td>\n",
       "      <td>...</td>\n",
       "      <td>0.0</td>\n",
       "      <td>0.0</td>\n",
       "      <td>0.0</td>\n",
       "      <td>0.0</td>\n",
       "      <td>0.0</td>\n",
       "      <td>0.0</td>\n",
       "      <td>0.0</td>\n",
       "      <td>0.0</td>\n",
       "      <td>0.0</td>\n",
       "      <td>0.0</td>\n",
       "    </tr>\n",
       "    <tr>\n",
       "      <td>0.651451</td>\n",
       "      <td>0.0</td>\n",
       "      <td>0.0</td>\n",
       "      <td>0.0</td>\n",
       "      <td>0.0</td>\n",
       "      <td>0.0</td>\n",
       "      <td>0.0</td>\n",
       "      <td>0.0</td>\n",
       "      <td>0.0</td>\n",
       "      <td>0.0</td>\n",
       "      <td>0.0</td>\n",
       "      <td>...</td>\n",
       "      <td>0.0</td>\n",
       "      <td>0.0</td>\n",
       "      <td>0.0</td>\n",
       "      <td>0.0</td>\n",
       "      <td>0.0</td>\n",
       "      <td>0.0</td>\n",
       "      <td>0.0</td>\n",
       "      <td>0.0</td>\n",
       "      <td>0.0</td>\n",
       "      <td>0.0</td>\n",
       "    </tr>\n",
       "    <tr>\n",
       "      <td>0.583589</td>\n",
       "      <td>0.0</td>\n",
       "      <td>0.0</td>\n",
       "      <td>0.0</td>\n",
       "      <td>0.0</td>\n",
       "      <td>0.0</td>\n",
       "      <td>0.0</td>\n",
       "      <td>0.0</td>\n",
       "      <td>0.0</td>\n",
       "      <td>0.0</td>\n",
       "      <td>0.0</td>\n",
       "      <td>...</td>\n",
       "      <td>0.0</td>\n",
       "      <td>0.0</td>\n",
       "      <td>0.0</td>\n",
       "      <td>0.0</td>\n",
       "      <td>0.0</td>\n",
       "      <td>0.0</td>\n",
       "      <td>0.0</td>\n",
       "      <td>0.0</td>\n",
       "      <td>0.0</td>\n",
       "      <td>0.0</td>\n",
       "    </tr>\n",
       "    <tr>\n",
       "      <td>0.660677</td>\n",
       "      <td>0.0</td>\n",
       "      <td>0.0</td>\n",
       "      <td>0.0</td>\n",
       "      <td>0.0</td>\n",
       "      <td>0.0</td>\n",
       "      <td>0.0</td>\n",
       "      <td>0.0</td>\n",
       "      <td>0.0</td>\n",
       "      <td>0.0</td>\n",
       "      <td>0.0</td>\n",
       "      <td>...</td>\n",
       "      <td>0.0</td>\n",
       "      <td>0.0</td>\n",
       "      <td>0.0</td>\n",
       "      <td>0.0</td>\n",
       "      <td>0.0</td>\n",
       "      <td>0.0</td>\n",
       "      <td>0.0</td>\n",
       "      <td>0.0</td>\n",
       "      <td>0.0</td>\n",
       "      <td>0.0</td>\n",
       "    </tr>\n",
       "  </tbody>\n",
       "</table>\n",
       "<p>599 rows × 599 columns</p>\n",
       "</div>"
      ],
      "text/plain": [
       "          0.707524  0.673819  0.703427  0.715398  0.677388  0.675960  \\\n",
       "0.707524      21.0       1.0       7.0       8.0       8.0       1.0   \n",
       "0.673819       0.0       0.0       0.0       0.0       0.0       0.0   \n",
       "0.703427       5.0       0.0       7.0       3.0       2.0       0.0   \n",
       "0.715398      43.0       1.0      18.0      56.0       7.0       0.0   \n",
       "0.677388       0.0       0.0       0.0       1.0       0.0       0.0   \n",
       "...            ...       ...       ...       ...       ...       ...   \n",
       "0.554612       0.0       0.0       0.0       0.0       0.0       0.0   \n",
       "0.597161       0.0       0.0       0.0       0.0       0.0       0.0   \n",
       "0.651451       0.0       0.0       0.0       0.0       0.0       0.0   \n",
       "0.583589       0.0       0.0       0.0       0.0       0.0       0.0   \n",
       "0.660677       0.0       0.0       0.0       0.0       0.0       0.0   \n",
       "\n",
       "          0.632990  0.657298  0.657376  0.671432  ...  0.613030  0.672365  \\\n",
       "0.707524       0.0       4.0       0.0      11.0  ...       0.0       0.0   \n",
       "0.673819       0.0       0.0       0.0       0.0  ...       0.0       0.0   \n",
       "0.703427       0.0       0.0       1.0       5.0  ...       0.0       0.0   \n",
       "0.715398       1.0       1.0       1.0      22.0  ...       1.0       1.0   \n",
       "0.677388       0.0       0.0       0.0       0.0  ...       0.0       0.0   \n",
       "...            ...       ...       ...       ...  ...       ...       ...   \n",
       "0.554612       0.0       0.0       0.0       0.0  ...       0.0       0.0   \n",
       "0.597161       0.0       0.0       0.0       0.0  ...       0.0       0.0   \n",
       "0.651451       0.0       0.0       0.0       0.0  ...       0.0       0.0   \n",
       "0.583589       0.0       0.0       0.0       0.0  ...       0.0       0.0   \n",
       "0.660677       0.0       0.0       0.0       0.0  ...       0.0       0.0   \n",
       "\n",
       "          0.562672  0.610916  0.590740  0.554612  0.597161  0.651451  \\\n",
       "0.707524       0.0       0.0       0.0       0.0       0.0       0.0   \n",
       "0.673819       0.0       0.0       0.0       0.0       0.0       0.0   \n",
       "0.703427       0.0       0.0       0.0       0.0       0.0       0.0   \n",
       "0.715398       1.0       1.0       1.0       1.0       1.0       1.0   \n",
       "0.677388       0.0       0.0       0.0       0.0       0.0       0.0   \n",
       "...            ...       ...       ...       ...       ...       ...   \n",
       "0.554612       0.0       0.0       0.0       0.0       0.0       0.0   \n",
       "0.597161       0.0       0.0       0.0       0.0       0.0       0.0   \n",
       "0.651451       0.0       0.0       0.0       0.0       0.0       0.0   \n",
       "0.583589       0.0       0.0       0.0       0.0       0.0       0.0   \n",
       "0.660677       0.0       0.0       0.0       0.0       0.0       0.0   \n",
       "\n",
       "          0.583589  0.660677  \n",
       "0.707524       0.0       0.0  \n",
       "0.673819       0.0       0.0  \n",
       "0.703427       0.0       0.0  \n",
       "0.715398       1.0       1.0  \n",
       "0.677388       0.0       0.0  \n",
       "...            ...       ...  \n",
       "0.554612       0.0       0.0  \n",
       "0.597161       0.0       0.0  \n",
       "0.651451       0.0       0.0  \n",
       "0.583589       0.0       0.0  \n",
       "0.660677       0.0       0.0  \n",
       "\n",
       "[599 rows x 599 columns]"
      ]
     },
     "execution_count": 678,
     "metadata": {},
     "output_type": "execute_result"
    }
   ],
   "source": [
    "G"
   ]
  },
  {
   "cell_type": "code",
   "execution_count": 679,
   "metadata": {},
   "outputs": [],
   "source": [
    "#Prepare data frame of network connections for markov clustering\n",
    "Gnew = G.div(G.sum(axis=1), axis=0)\n",
    "\n",
    "GTrans=Gnew.transpose()\n",
    "\n",
    "GNumpy = GTrans.to_numpy()\n"
   ]
  },
  {
   "cell_type": "code",
   "execution_count": 680,
   "metadata": {},
   "outputs": [
    {
     "data": {
      "text/plain": [
       "array([1., 0., 1., 1., 1., 1., 0., 0., 0., 0., 0., 0., 0., 0., 0., 0., 0.,\n",
       "       0., 1., 1., 0., 0., 1., 0., 0., 0., 0., 0., 0., 0., 0., 0., 0., 0.,\n",
       "       1., 0., 0., 0., 0., 0., 0., 0., 0., 0., 0., 0., 1., 0., 0., 1., 0.,\n",
       "       0., 1., 0., 0., 0., 0., 0., 0., 0., 0., 0., 1., 1., 0., 0., 0., 1.,\n",
       "       0., 1., 0., 0., 0., 0., 0., 0., 0., 0., 0., 0., 0., 0., 1., 0., 0.,\n",
       "       0., 1., 0., 0., 0., 0., 0., 0., 0., 0., 0., 0., 0., 0., 0., 0., 0.,\n",
       "       0., 0., 1., 0., 0., 0., 1., 0., 0., 1., 0., 0., 0., 0., 0., 0., 0.,\n",
       "       0., 0., 0., 1., 0., 0., 0., 0., 0., 0., 0., 0., 0., 0., 0., 1., 0.,\n",
       "       0., 0., 0., 0., 0., 0., 0., 0., 0., 0., 0., 0., 0., 0., 0., 0., 1.,\n",
       "       0., 0., 1., 0., 0., 0., 0., 0., 0., 1., 0., 0., 0., 0., 0., 0., 0.,\n",
       "       0., 1., 1., 0., 0., 0., 0., 0., 1., 0., 1., 0., 0., 0., 0., 0., 0.,\n",
       "       0., 0., 0., 0., 0., 0., 0., 0., 0., 0., 0., 1., 0., 0., 0., 0., 0.,\n",
       "       0., 0., 0., 0., 0., 0., 0., 0., 0., 0., 0., 0., 0., 0., 0., 0., 0.,\n",
       "       0., 0., 0., 0., 0., 0., 0., 0., 0., 0., 0., 0., 0., 0., 0., 0., 0.,\n",
       "       0., 0., 0., 0., 0., 0., 0., 0., 0., 0., 0., 0., 0., 0., 0., 0., 0.,\n",
       "       0., 0., 0., 0., 0., 0., 0., 0., 0., 0., 0., 0., 0., 1., 0., 0., 0.,\n",
       "       0., 0., 0., 0., 0., 0., 0., 0., 0., 0., 0., 0., 0., 0., 0., 0., 0.,\n",
       "       0., 0., 1., 0., 0., 0., 0., 0., 0., 0., 0., 0., 0., 0., 0., 0., 0.,\n",
       "       0., 0., 0., 0., 0., 0., 0., 0., 0., 0., 0., 0., 0., 0., 0., 0., 0.,\n",
       "       0., 0., 0., 0., 0., 0., 0., 1., 0., 0., 0., 0., 0., 0., 0., 0., 0.,\n",
       "       0., 0., 0., 0., 0., 0., 0., 0., 0., 0., 0., 0., 0., 0., 0., 0., 0.,\n",
       "       0., 0., 0., 0., 0., 0., 0., 0., 0., 0., 0., 0., 0., 0., 0., 0., 0.,\n",
       "       0., 0., 0., 0., 0., 1., 0., 0., 0., 0., 0., 0., 0., 0., 0., 0., 0.,\n",
       "       0., 0., 0., 0., 0., 0., 0., 0., 0., 0., 0., 0., 0., 0., 0., 0., 0.,\n",
       "       0., 0., 0., 0., 0., 0., 0., 0., 0., 0., 0., 0., 0., 0., 0., 0., 0.,\n",
       "       0., 0., 0., 0., 0., 0., 0., 0., 0., 0., 0., 0., 0., 0., 0., 0., 0.,\n",
       "       0., 0., 0., 0., 0., 0., 0., 0., 0., 0., 0., 0., 0., 0., 0., 0., 0.,\n",
       "       0., 0., 0., 0., 0., 0., 0., 0., 0., 0., 0., 0., 0., 0., 0., 0., 0.,\n",
       "       0., 0., 0., 0., 1., 0., 0., 0., 0., 0., 0., 0., 0., 0., 0., 0., 0.,\n",
       "       0., 0., 0., 0., 0., 0., 0., 0., 0., 0., 0., 0., 0., 0., 0., 0., 0.,\n",
       "       0., 0., 0., 0., 0., 0., 0., 0., 0., 0., 0., 0., 0., 0., 0., 0., 0.,\n",
       "       0., 0., 0., 0., 0., 0., 0., 0., 0., 0., 0., 0., 0., 0., 0., 0., 0.,\n",
       "       0., 0., 0., 0., 1., 1., 0., 0., 0., 0., 0., 0., 0., 0., 0., 0., 0.,\n",
       "       0., 0., 0., 0., 0., 0., 0., 0., 0., 0., 0., 0., 0., 0., 0., 0., 0.,\n",
       "       0., 0., 0., 0., 0., 0., 0., 0., 0., 0., 0., 0., 0., 0., 0., 0., 0.,\n",
       "       0., 0., 0., 0.])"
      ]
     },
     "execution_count": 680,
     "metadata": {},
     "output_type": "execute_result"
    }
   ],
   "source": [
    "MarkovMatrix = run(GNumpy)\n",
    "#replace nan with 0\n",
    "MarkovMatrix2 = np.nan_to_num(MarkovMatrix)\n",
    "MarkovMatrix2.sum(axis=0)\n"
   ]
  },
  {
   "cell_type": "code",
   "execution_count": 681,
   "metadata": {},
   "outputs": [],
   "source": [
    "##PLOT\n",
    "\n",
    "MarkClsuMatrix = nx.from_numpy_matrix(MarkovMatrix2) #convert to adjacency matrix undirected\n",
    "\n",
    "W = nx.DiGraph(MarkovMatrix2) #convert to directed graph (digraph)\n",
    "OG = nx.DiGraph(GTrans) #convert original probability graph to directed graph\n",
    "\n",
    "\n"
   ]
  },
  {
   "cell_type": "code",
   "execution_count": 682,
   "metadata": {},
   "outputs": [
    {
     "data": {
      "image/png": "[encoded data removed]",
      "text/plain": [
       "<Figure size 432x288 with 1 Axes>"
      ]
     },
     "metadata": {},
     "output_type": "display_data"
    }
   ],
   "source": [
    "#set node size based upon some scaling of the fitness\n",
    "node_sizes = (G.index.values**15)/sum(G.index.values**15)*3000\n",
    "nx.draw(MarkClsuMatrix, node_size=node_sizes, labels=G.index.values,\n",
    "        with_labels=False,arrows=True)\n",
    "\n",
    "\n"
   ]
  },
  {
   "cell_type": "code",
   "execution_count": 534,
   "metadata": {},
   "outputs": [
    {
     "data": {
      "text/plain": [
       "array([606.65642365, 654.76462041, 603.96337885, 613.10593177,\n",
       "       611.31409079, 593.0027582 , 608.4803156 , 573.50813166,\n",
       "       563.70065132, 552.73794737, 576.47237923, 591.61596324,\n",
       "       587.11973268, 559.44567726, 575.98943992, 554.4347766 ,\n",
       "       573.68778143])"
      ]
     },
     "execution_count": 534,
     "metadata": {},
     "output_type": "execute_result"
    }
   ],
   "source": [
    "G.index.values/sum(G.index.values)*10000"
   ]
  },
  {
   "cell_type": "code",
   "execution_count": 686,
   "metadata": {},
   "outputs": [
    {
     "data": {
      "image/png": "[encoded data removed]",
      "text/plain": [
       "<Figure size 432x288 with 1 Axes>"
      ]
     },
     "metadata": {},
     "output_type": "display_data"
    }
   ],
   "source": [
    "#set node size based upon some scaling of the fitness\n",
    "node_sizes = (G.index.values**15)/sum(G.index.values**15)*3000\n",
    "nx.draw(OG, node_size=10, labels=G.index.values,\n",
    "        with_labels=False,arrows=False)\n",
    "\n",
    "\n"
   ]
  },
  {
   "cell_type": "code",
   "execution_count": 615,
   "metadata": {},
   "outputs": [
    {
     "data": {
      "text/plain": [
       "<networkx.classes.digraph.DiGraph at 0xa21a73cc0>"
      ]
     },
     "execution_count": 615,
     "metadata": {},
     "output_type": "execute_result"
    }
   ],
   "source": [
    "OG"
   ]
  },
  {
   "cell_type": "code",
   "execution_count": 456,
   "metadata": {},
   "outputs": [
    {
     "data": {
      "image/png": "[encoded data removed]",
      "text/plain": [
       "<Figure size 432x288 with 1 Axes>"
      ]
     },
     "metadata": {
      "needs_background": "light"
     },
     "output_type": "display_data"
    }
   ],
   "source": [
    "edges = nx.draw_networkx_edges(AdjMatrix, pos, node_size=node_sizes, arrowstyle='->',\n",
    "                               arrowsize=10, \n",
    "                               edge_cmap=plt.cm.Blues, width=2)"
   ]
  },
  {
   "cell_type": "code",
   "execution_count": 407,
   "metadata": {},
   "outputs": [],
   "source": [
    "pos = nx.layout.spring_layout(AdjMatrix)\n"
   ]
  },
  {
   "cell_type": "code",
   "execution_count": 587,
   "metadata": {},
   "outputs": [
    {
     "ename": "TypeError",
     "evalue": "'LineCollection' object is not iterable",
     "output_type": "error",
     "traceback": [
      "\u001b[0;31m---------------------------------------------------------------------------\u001b[0m",
      "\u001b[0;31mTypeError\u001b[0m                                 Traceback (most recent call last)",
      "\u001b[0;32m<ipython-input-587-17d51032a11f>\u001b[0m in \u001b[0;36m<module>\u001b[0;34m\u001b[0m\n\u001b[0;32m----> 1\u001b[0;31m \u001b[0mweights\u001b[0m \u001b[0;34m=\u001b[0m \u001b[0;34m[\u001b[0m\u001b[0mC\u001b[0m\u001b[0;34m[\u001b[0m\u001b[0mu\u001b[0m\u001b[0;34m]\u001b[0m\u001b[0;34m[\u001b[0m\u001b[0mv\u001b[0m\u001b[0;34m]\u001b[0m\u001b[0;34m[\u001b[0m\u001b[0;34m'weight'\u001b[0m\u001b[0;34m]\u001b[0m \u001b[0;32mfor\u001b[0m \u001b[0mu\u001b[0m\u001b[0;34m,\u001b[0m\u001b[0mv\u001b[0m \u001b[0;32min\u001b[0m \u001b[0medges\u001b[0m\u001b[0;34m]\u001b[0m\u001b[0;34m\u001b[0m\u001b[0;34m\u001b[0m\u001b[0m\n\u001b[0m",
      "\u001b[0;31mTypeError\u001b[0m: 'LineCollection' object is not iterable"
     ]
    }
   ],
   "source": [
    "weights = [C[u][v]['weight'] for u,v in edges]\n"
   ]
  },
  {
   "cell_type": "code",
   "execution_count": 479,
   "metadata": {},
   "outputs": [],
   "source": []
  },
  {
   "cell_type": "code",
   "execution_count": 491,
   "metadata": {},
   "outputs": [
    {
     "data": {
      "image/png": "[encoded data removed]",
      "text/plain": [
       "<Figure size 432x288 with 1 Axes>"
      ]
     },
     "metadata": {},
     "output_type": "display_data"
    }
   ],
   "source": [
    "#set node size based upon some scaling of the fitness\n",
    "node_sizes = (G.index.values)**10*30000\n",
    "nx.draw(W, node_size=node_sizes,\n",
    "        with_labels=False,arrows=True)\n",
    "plt.show()\n"
   ]
  },
  {
   "cell_type": "code",
   "execution_count": 595,
   "metadata": {},
   "outputs": [
    {
     "data": {
      "text/plain": [
       "array([[1.        , 0.        , 0.        , 0.        , 0.        ,\n",
       "        0.        , 0.        , 0.33333333, 0.33333333, 0.        ,\n",
       "        0.        ],\n",
       "       [0.        , 1.        , 0.        , 0.        , 0.        ,\n",
       "        0.        , 0.        , 0.33333333, 0.        , 0.        ,\n",
       "        0.        ],\n",
       "       [0.        , 0.        , 0.        , 0.        , 0.        ,\n",
       "        0.        , 0.        , 0.        , 0.        , 0.        ,\n",
       "        0.        ],\n",
       "       [0.        , 0.        , 1.        , 1.        , 1.        ,\n",
       "        0.        , 0.        , 0.        , 0.        , 0.        ,\n",
       "        0.        ],\n",
       "       [0.        , 0.        , 0.        , 0.        , 0.        ,\n",
       "        0.        , 0.        , 0.        , 0.33333333, 0.        ,\n",
       "        0.        ],\n",
       "       [0.        , 0.        , 0.        , 0.        , 0.        ,\n",
       "        1.        , 0.        , 0.        , 0.33333333, 0.        ,\n",
       "        0.        ],\n",
       "       [0.        , 0.        , 0.        , 0.        , 0.        ,\n",
       "        0.        , 1.        , 0.        , 0.        , 0.        ,\n",
       "        0.        ],\n",
       "       [0.        , 0.        , 0.        , 0.        , 0.        ,\n",
       "        0.        , 0.        , 0.33333333, 0.        , 0.        ,\n",
       "        1.        ],\n",
       "       [0.        , 0.        , 0.        , 0.        , 0.        ,\n",
       "        0.        , 0.        , 0.        , 0.        , 0.        ,\n",
       "        0.        ],\n",
       "       [0.        , 0.        , 0.        , 0.        , 0.        ,\n",
       "        0.        , 0.        , 0.        , 0.        , 0.        ,\n",
       "        0.        ],\n",
       "       [0.        , 0.        , 0.        , 0.        , 0.        ,\n",
       "        0.        , 0.        , 0.        , 0.        , 0.        ,\n",
       "        0.        ]])"
      ]
     },
     "execution_count": 595,
     "metadata": {},
     "output_type": "execute_result"
    }
   ],
   "source": [
    "MarkovMatrix2"
   ]
  },
  {
   "cell_type": "code",
   "execution_count": null,
   "metadata": {},
   "outputs": [],
   "source": []
  },
  {
   "cell_type": "code",
   "execution_count": null,
   "metadata": {},
   "outputs": [],
   "source": []
  },
  {
   "cell_type": "code",
   "execution_count": null,
   "metadata": {},
   "outputs": [],
   "source": []
  },
  {
   "cell_type": "code",
   "execution_count": null,
   "metadata": {},
   "outputs": [],
   "source": []
  }
 ],
 "metadata": {
  "kernelspec": {
   "display_name": "Python 3",
   "language": "python",
   "name": "python3"
  },
  "language_info": {
   "codemirror_mode": {
    "name": "ipython",
    "version": 3
   },
   "file_extension": ".py",
   "mimetype": "text/x-python",
   "name": "python",
   "nbconvert_exporter": "python",
   "pygments_lexer": "ipython3",
   "version": "3.6.8"
  }
 },
 "nbformat": 4,
 "nbformat_minor": 2
}
