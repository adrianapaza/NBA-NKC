{
 "cells": [
  {
   "cell_type": "markdown",
   "metadata": {},
   "source": [
    "## Reviewing NK and Layered\n"
   ]
  },
  {
   "cell_type": "code",
   "execution_count": 1,
   "metadata": {},
   "outputs": [],
   "source": [
    "from Landscapes import *\n",
    "import numpy as np\n",
    "from matplotlib import pyplot"
   ]
  },
  {
   "cell_type": "code",
   "execution_count": 2,
   "metadata": {},
   "outputs": [],
   "source": [
    "N=15\n",
    "K=15\n",
    "N_15_K15_ = make_NK_land(N, K)"
   ]
  },
  {
   "cell_type": "code",
   "execution_count": 3,
   "metadata": {},
   "outputs": [],
   "source": [
    "K=10\n",
    "N_15_K10_ = make_NK_land(N, K)\n",
    "K=12\n",
    "N_15_K12_ = make_NK_land(N, K)"
   ]
  },
  {
   "cell_type": "code",
   "execution_count": 4,
   "metadata": {},
   "outputs": [],
   "source": [
    "K=8\n",
    "N_15_K8_ = make_NK_land(N, K)\n",
    "K=5\n",
    "N_15_K5_ = make_NK_land(N, K)"
   ]
  },
  {
   "cell_type": "code",
   "execution_count": 5,
   "metadata": {},
   "outputs": [],
   "source": [
    "K=0\n",
    "N_15_K0_ = make_NK_land(N, K)"
   ]
  },
  {
   "cell_type": "code",
   "execution_count": 31,
   "metadata": {},
   "outputs": [],
   "source": [
    "N=10\n",
    "K=10\n",
    "N_10_K10_ = make_NK_land(N, K)\n",
    "N_10_K8_ = make_NK_land(N, 8)\n",
    "N_10_K5_ = make_NK_land(N, 5)\n",
    "N_10_K0_ = make_NK_land(N, 0)"
   ]
  },
  {
   "cell_type": "code",
   "execution_count": 32,
   "metadata": {},
   "outputs": [],
   "source": [
    "#Layer_Landscape_15_0 = layer_landscapes(N_15_K15_, N_15_K0_, layering_mode=\"addition\", weights=[0.5,0.5])\n",
    "#Layer_Landscape_10_0 = layer_landscapes(N_15_K10_, N_15_K0_, layering_mode=\"addition\", weights=[0.5,0.5])\n",
    "#Layer_Landscape_5_0 = layer_landscapes(N_15_K5_, N_15_K0_, layering_mode=\"addition\", weights=[0.5,0.5])\n",
    "\n",
    "Layer_Landscape_N10_K10_K0 = layer_landscapes(N_10_K10_, N_10_K0_, layering_mode=\"addition\", weights=[0.5,0.5])\n",
    "Layer_Landscape_N10_K8_K0 = layer_landscapes(N_10_K8_, N_10_K0_, layering_mode=\"addition\", weights=[0.5,0.5])\n",
    "Layer_Landscape_N10_K5_K0 = layer_landscapes(N_10_K5_, N_10_K0_, layering_mode=\"addition\", weights=[0.5,0.5])\n",
    "\n"
   ]
  },
  {
   "cell_type": "code",
   "execution_count": 34,
   "metadata": {},
   "outputs": [
    {
     "data": {
      "text/plain": [
       "Fitness    0.973829\n",
       "dtype: float64"
      ]
     },
     "execution_count": 34,
     "metadata": {},
     "output_type": "execute_result"
    }
   ],
   "source": [
    "N_10_K0_.mean()"
   ]
  },
  {
   "cell_type": "code",
   "execution_count": 7,
   "metadata": {},
   "outputs": [],
   "source": [
    "##Define functions to help plot\n",
    "\n",
    "#get average over next three\n",
    "def average_over_past_next(FitnessPath):\n",
    "    len_Path = len(FitnessPath)\n",
    "    Fitness_Matrix = FitnessPath * np.ones((len_Path,len_Path))\n",
    "\n",
    "\n",
    "    Neighbor_Average = np.array([(FitnessPath[2:len_Path]),np.array( FitnessPath[1:len_Path-1]),\n",
    "          np.array( FitnessPath[0:len_Path-2])]).mean(axis=0)\n",
    "    \n",
    "    return(Neighbor_Average)\n",
    "\n",
    "\n",
    "##average over the focal step and next and previous 2\n",
    "def average_over_past_next_2(FitnessPath):\n",
    "    len_Path = len(FitnessPath)\n",
    "    Fitness_Matrix = FitnessPath * np.ones((len_Path,len_Path))\n",
    "\n",
    "    Neighbor_Average = np.array([(FitnessPath[4:len_Path]),(FitnessPath[3:len_Path-1]),np.array( FitnessPath[2:len_Path-2]),\n",
    "          np.array( FitnessPath[1:len_Path-3]), np.array( FitnessPath[0:len_Path-4])]).mean(axis=0)\n",
    "    return(Neighbor_Average)\n",
    "\n",
    "\n",
    "\n",
    "\n",
    "\n",
    "def Get_AR(TimeData, lag_range):\n",
    "    #convert to time series\n",
    "    s = pd.Series(TimeData)\n",
    "    AR=[]\n",
    "    #loop over ranges\n",
    "    for r in range(lag_range):\n",
    "        AR.append(s.autocorr(lag=r))\n",
    "    return(AR)\n"
   ]
  },
  {
   "cell_type": "code",
   "execution_count": 9,
   "metadata": {},
   "outputs": [
    {
     "ename": "TypeError",
     "evalue": "Hill_Climb_To_Max() missing 1 required positional argument: 'M'",
     "output_type": "error",
     "traceback": [
      "\u001b[0;31m---------------------------------------------------------------------------\u001b[0m",
      "\u001b[0;31mTypeError\u001b[0m                                 Traceback (most recent call last)",
      "\u001b[0;32m<ipython-input-9-c2ed04288be4>\u001b[0m in \u001b[0;36m<module>\u001b[0;34m\u001b[0m\n\u001b[1;32m      1\u001b[0m \u001b[0mNum_Steps\u001b[0m\u001b[0;34m=\u001b[0m\u001b[0;36m150\u001b[0m\u001b[0;34m\u001b[0m\u001b[0;34m\u001b[0m\u001b[0m\n\u001b[0;32m----> 2\u001b[0;31m \u001b[0mFitnessPath_15\u001b[0m \u001b[0;34m=\u001b[0m \u001b[0mHill_Climb_To_Max\u001b[0m\u001b[0;34m(\u001b[0m\u001b[0mNum_Steps\u001b[0m\u001b[0;34m-\u001b[0m\u001b[0;36m1\u001b[0m\u001b[0;34m,\u001b[0m\u001b[0mN_15_K15_\u001b[0m\u001b[0;34m)\u001b[0m\u001b[0;34m\u001b[0m\u001b[0;34m\u001b[0m\u001b[0m\n\u001b[0m\u001b[1;32m      3\u001b[0m \u001b[0mFitnessPath_12\u001b[0m \u001b[0;34m=\u001b[0m \u001b[0mrandom_walker\u001b[0m\u001b[0;34m(\u001b[0m\u001b[0mNum_Steps\u001b[0m\u001b[0;34m-\u001b[0m\u001b[0;36m1\u001b[0m\u001b[0;34m,\u001b[0m\u001b[0mN_15_K12_\u001b[0m\u001b[0;34m)\u001b[0m\u001b[0;34m\u001b[0m\u001b[0;34m\u001b[0m\u001b[0m\n\u001b[1;32m      4\u001b[0m \u001b[0;34m\u001b[0m\u001b[0m\n\u001b[1;32m      5\u001b[0m \u001b[0mFitnessPath_10\u001b[0m \u001b[0;34m=\u001b[0m \u001b[0mrandom_walker\u001b[0m\u001b[0;34m(\u001b[0m\u001b[0mNum_Steps\u001b[0m\u001b[0;34m-\u001b[0m\u001b[0;36m1\u001b[0m\u001b[0;34m,\u001b[0m\u001b[0mN_15_K10_\u001b[0m\u001b[0;34m)\u001b[0m\u001b[0;34m\u001b[0m\u001b[0;34m\u001b[0m\u001b[0m\n",
      "\u001b[0;31mTypeError\u001b[0m: Hill_Climb_To_Max() missing 1 required positional argument: 'M'"
     ]
    }
   ],
   "source": [
    "Num_Steps=150\n",
    "FitnessPath_15 = Hill_Climb_To_Max(Num_Steps-1,N_15_K15_)\n",
    "FitnessPath_12 = random_walker(Num_Steps-1,N_15_K12_)\n",
    "\n",
    "FitnessPath_10 = random_walker(Num_Steps-1,N_15_K10_)\n",
    "FitnessPath_8 = random_walker(Num_Steps-1,N_15_K8_)\n",
    "\n",
    "FitnessPath_5 = random_walker(Num_Steps-1,N_15_K5_)\n",
    "FitnessPath_0 = random_walker(Num_Steps-1,N_15_K0_)\n",
    "\n",
    "##plot the data\n",
    "plt.figure(figsize=(20,5))\n",
    "plt.plot(average_over_past_next_2(FitnessPath_15),'r-',label='K=15')\n",
    "plt.plot(average_over_past_next_2(FitnessPath_12),label='K=12')\n",
    "\n",
    "plt.plot(average_over_past_next_2(FitnessPath_10),label='K=10')\n",
    "plt.plot(average_over_past_next_2(FitnessPath_8),label='K=8')\n",
    "\n",
    "plt.plot(average_over_past_next_2(FitnessPath_5),'b-',label='K=5')\n",
    "plt.plot(average_over_past_next_2(FitnessPath_0),'g-',label='K=0')\n",
    "\n",
    "#plt.plot(FitnessPath[0::],'go',label='Current Fitness')\n",
    "plt.legend()\n",
    "plt.title(\"Random Walk averaged fitness over 5 steps; N=15\")\n",
    "plt.xlabel('Steps')\n",
    "plt.ylabel('Fitness')\n",
    "plt.show()\n"
   ]
  },
  {
   "cell_type": "markdown",
   "metadata": {},
   "source": [
    "So I tried using a up to 5 neighbors to average across, unfortuneatly the intution of a flat line did not really hold for high K, The intuition did make sense though, but its not readily visible."
   ]
  },
  {
   "cell_type": "code",
   "execution_count": null,
   "metadata": {},
   "outputs": [],
   "source": [
    "#layered\n",
    "Num_Steps=150\n",
    "FitnessPath_15 = random_walker(Num_Steps-1,Layer_Landscape_15_0)\n",
    "FitnessPath_10 = random_walker(Num_Steps-1,Layer_Landscape_10_0)\n",
    "\n",
    "FitnessPath_5 = random_walker(Num_Steps-1,Layer_Landscape_5_0)\n",
    "\n",
    "##plot the data\n",
    "plt.figure(figsize=(20,5))\n",
    "plt.plot(average_over_past_next_2(FitnessPath_15),'r-',label='K=15')\n",
    "plt.plot(average_over_past_next_2(FitnessPath_10),'b-',label='K=10')\n",
    "plt.plot(average_over_past_next_2(FitnessPath_5),'g-',label='K=5')\n",
    "\n",
    "#plt.plot(FitnessPath[0::],'go',label='Current Fitness')\n",
    "plt.legend()\n",
    "plt.title(\"Random Walk averaged fitness over 5 steps: N=15, Layered with K=0\")\n",
    "plt.xlabel('Steps')\n",
    "plt.ylabel('Fitness')\n",
    "plt.show()\n"
   ]
  },
  {
   "cell_type": "markdown",
   "metadata": {},
   "source": [
    "## Plot Autocorrelation"
   ]
  },
  {
   "cell_type": "code",
   "execution_count": null,
   "metadata": {},
   "outputs": [],
   "source": [
    "N = 10\n",
    "numSteps=1000\n",
    "plt.figure(figsize=(10,8))\n",
    "for k in range(int(N/2)):\n",
    "    NK_land = make_NK_land(N, k*2)\n",
    "    K=k*2\n",
    "    NK_land_0 = make_NK_land(N, 0)\n",
    "    color='k'\n",
    "    if k==1:\n",
    "        color='m'\n",
    "    if k==2:\n",
    "        color='b'\n",
    "    if k==3:\n",
    "        color='c'\n",
    "    if k==4:\n",
    "        color='g'\n",
    "    if k==5:\n",
    "        color='p'\n",
    "        \n",
    "    \n",
    "    FitnessPath = random_walker(numSteps,NK_land)\n",
    "    AR_curve = Get_AR(FitnessPath,lag_range=N)\n",
    "    plt.plot(AR_curve,color+'*-' ,label='K='+str(K))\n",
    "    \n",
    "    NK_land_layer = layer_landscapes(NK_land, NK_land_0, layering_mode=\"addition\", weights=[0.5,0.5])\n",
    "    FitnessPath = random_walker(numSteps,NK_land_layer)\n",
    "    AR_curve = Get_AR(FitnessPath,lag_range=N)\n",
    "    plt.plot(AR_curve,color+'o-' ,label='K='+str(K)+'; Layered')\n",
    "plt.legend()\n",
    "plt.xlabel('Steps')\n",
    "plt.ylabel('Autocorrelation')\n",
    "\n",
    "plt.grid()\n",
    "plt.title(\"Standard and Layered NK Autocorrelation Curves\")\n",
    "plt.show()\n",
    "\n"
   ]
  },
  {
   "cell_type": "markdown",
   "metadata": {},
   "source": [
    "## Recreate table 1 of Herrmann et al.\n",
    " We get number of local optima, the clusters (recall a cluster is defined as inescapable from a two step jump), fo is global optima's size (fraction of optima),\n",
    " we see that a layered landscape is able to have many optima but few clusters with a notably large cluster containing the global optimum."
   ]
  },
  {
   "cell_type": "code",
   "execution_count": 635,
   "metadata": {},
   "outputs": [
    {
     "name": "stderr",
     "output_type": "stream",
     "text": [
      "/Users/adrianapaza/anaconda2/envs/py36/lib/python3.6/site-packages/ipykernel_launcher.py:40: SettingWithCopyWarning: \n",
      "A value is trying to be set on a copy of a slice from a DataFrame.\n",
      "Try using .loc[row_indexer,col_indexer] = value instead\n",
      "\n",
      "See the caveats in the documentation: http://pandas.pydata.org/pandas-docs/stable/user_guide/indexing.html#returning-a-view-versus-a-copy\n",
      "/Users/adrianapaza/anaconda2/envs/py36/lib/python3.6/site-packages/ipykernel_launcher.py:46: SettingWithCopyWarning: \n",
      "A value is trying to be set on a copy of a slice from a DataFrame\n",
      "\n",
      "See the caveats in the documentation: http://pandas.pydata.org/pandas-docs/stable/user_guide/indexing.html#returning-a-view-versus-a-copy\n"
     ]
    }
   ],
   "source": [
    "##Import packages and files\n",
    "from itertools import compress, product\n",
    "import numpy as np\n",
    "import matplotlib.pyplot as plt\n",
    "import array\n",
    "import random\n",
    "import pandas as pd\n",
    "import itertools\n",
    "import operator\n",
    "import importlib\n",
    "#import functions defining the layered landscape\n",
    "from LayeredLandscapeFunctions import *\n",
    "from Landscapes import *\n",
    "import networkx as nx\n",
    "\n",
    "\n",
    "##This functions takes as an input the string of file name params,e.g. \"N-10_K1=3_K2=9_I=20\"\n",
    "#then loads in the mapping and generates the table one statistics we want:num_local_optima,num_clusters,fo_bar\n",
    "def Get_Table_1_Stats(our_files,param_combo):\n",
    "    loc_opt = []\n",
    "    num_clusters= []\n",
    "    fo_bars = []\n",
    "    for file_name in our_files:\n",
    "        \n",
    "        if param_combo in file_name:\n",
    "            try:\n",
    "                df_transition = pd.read_csv(str(file_name.replace(\"_mapping\",\"\")))\n",
    "                df_map = pd.read_csv(str(file_name))\n",
    "\n",
    "                df_transition = df_transition.set_index('Unnamed: 0')#reset index\n",
    "\n",
    "                Mat = Markov_Clustering(df_transition) #get markov cluster matrix\n",
    "                MarkClusMatrix = nx.from_numpy_matrix(Mat) #convert to adjacency matrix undirected\n",
    "                ##get the mapping and restrict it to maximas\n",
    "                df_map_restricted = df_map[df_map.Maxima==1]\n",
    "\n",
    "                #get the connected components/clusters\n",
    "                G= nx.Graph(MarkClusMatrix)\n",
    "                Components = list(nx.connected_components(G)) #list the components\n",
    "                df_map_restricted['cluster']=0 #create variable and set to zero\n",
    "                ##loop throught the components and assign clusters\n",
    "                j=0 #number to index number of components\n",
    "                NumComp = len(Components)\n",
    "                for comp in Components:\n",
    "                    for i in comp:\n",
    "                        df_map_restricted['cluster'].iloc[i]=j\n",
    "                    j+=1\n",
    "\n",
    "\n",
    "                #identify cluster with the global maxima\n",
    "                Cluster_of_Maxima = df_map_restricted.loc[df_map_restricted.Fitness.idxmax()].cluster\n",
    "                ##set the table variables\n",
    "                num_local_optima = len(df_map_restricted)\n",
    "                num_clust = NumComp\n",
    "                fo_bar = len(df_map_restricted[df_map_restricted.cluster ==Cluster_of_Maxima ]) / num_local_optima\n",
    "                loc_opt.append(num_local_optima)\n",
    "                num_clusters.append(num_clust)\n",
    "                fo_bars.append(fo_bar)\n",
    "            except:\n",
    "                pass\n",
    "            \n",
    "    return [np.average(loc_opt),np.std(loc_opt),np.average(num_clusters),np.std(num_clusters),np.average(fo_bars),np.std(fo_bars)] \n",
    "\n",
    "\n",
    "\n",
    "\n",
    "    \n",
    "\n",
    "import glob\n",
    "import re\n",
    "our_files = glob.glob(\"./Results_LON_Simulations/*mapping.csv\")\n",
    "\n",
    "all_files = []\n",
    "for file in our_files:\n",
    "    \n",
    "    if re.findall(\"K1\",file):\n",
    "        all_files.extend(re.findall(\"K1=\\d_K2=\\d\",file))\n",
    "    else:\n",
    "        all_files.extend(re.findall(\"K=\\d\",file))\n",
    "\n",
    "List_file_params = set(all_files)\n",
    "\n",
    "##Get a list of file names\n",
    "\n",
    "##loop over them\n",
    "Table_Stats = df_ = pd.DataFrame(index=List_file_params, columns=['AVG num_local_optima',\"SD num_optima\",'AVG num_clusters', \"SD clusters\",'AVG fo_bar',\"SD fo_bar\"])\n",
    "\n",
    "for params in List_file_params:\n",
    "    \n",
    "    Table_Stats.loc[params] = Get_Table_1_Stats(our_files,params)\n",
    "\n",
    "\n"
   ]
  },
  {
   "cell_type": "code",
   "execution_count": 645,
   "metadata": {},
   "outputs": [
    {
     "data": {
      "text/html": [
       "<div>\n",
       "<style scoped>\n",
       "    .dataframe tbody tr th:only-of-type {\n",
       "        vertical-align: middle;\n",
       "    }\n",
       "\n",
       "    .dataframe tbody tr th {\n",
       "        vertical-align: top;\n",
       "    }\n",
       "\n",
       "    .dataframe thead th {\n",
       "        text-align: right;\n",
       "    }\n",
       "</style>\n",
       "<table border=\"1\" class=\"dataframe\">\n",
       "  <thead>\n",
       "    <tr style=\"text-align: right;\">\n",
       "      <th></th>\n",
       "      <th>AVG num_local_optima</th>\n",
       "      <th>SD num_optima</th>\n",
       "      <th>AVG num_clusters</th>\n",
       "      <th>SD clusters</th>\n",
       "      <th>AVG fo_bar</th>\n",
       "      <th>SD fo_bar</th>\n",
       "    </tr>\n",
       "  </thead>\n",
       "  <tbody>\n",
       "    <tr>\n",
       "      <td>K=9</td>\n",
       "      <td>93.5</td>\n",
       "      <td>4.98052</td>\n",
       "      <td>9.55556</td>\n",
       "      <td>3.14858</td>\n",
       "      <td>0.297616</td>\n",
       "      <td>0.220256</td>\n",
       "    </tr>\n",
       "    <tr>\n",
       "      <td>K1=3_K2=9</td>\n",
       "      <td>62.1333</td>\n",
       "      <td>5.60793</td>\n",
       "      <td>6</td>\n",
       "      <td>2.78089</td>\n",
       "      <td>0.439496</td>\n",
       "      <td>0.279731</td>\n",
       "    </tr>\n",
       "    <tr>\n",
       "      <td>K=6</td>\n",
       "      <td>48.04</td>\n",
       "      <td>3.3043</td>\n",
       "      <td>6.44</td>\n",
       "      <td>2.0016</td>\n",
       "      <td>0.339895</td>\n",
       "      <td>0.233709</td>\n",
       "    </tr>\n",
       "    <tr>\n",
       "      <td>K=3</td>\n",
       "      <td>15.475</td>\n",
       "      <td>4.0987</td>\n",
       "      <td>4.45</td>\n",
       "      <td>1.88348</td>\n",
       "      <td>0.375659</td>\n",
       "      <td>0.282082</td>\n",
       "    </tr>\n",
       "  </tbody>\n",
       "</table>\n",
       "</div>"
      ],
      "text/plain": [
       "          AVG num_local_optima SD num_optima AVG num_clusters SD clusters  \\\n",
       "K=9                       93.5       4.98052          9.55556     3.14858   \n",
       "K1=3_K2=9              62.1333       5.60793                6     2.78089   \n",
       "K=6                      48.04        3.3043             6.44      2.0016   \n",
       "K=3                     15.475        4.0987             4.45     1.88348   \n",
       "\n",
       "          AVG fo_bar SD fo_bar  \n",
       "K=9         0.297616  0.220256  \n",
       "K1=3_K2=9   0.439496  0.279731  \n",
       "K=6         0.339895  0.233709  \n",
       "K=3         0.375659  0.282082  "
      ]
     },
     "execution_count": 645,
     "metadata": {},
     "output_type": "execute_result"
    }
   ],
   "source": [
    "Table_Stats"
   ]
  },
  {
   "cell_type": "markdown",
   "metadata": {},
   "source": [
    " We get number of local optima, the clusters (recall a cluster is defined as inescapable from a two step jump), fo is global optima's size (fraction of optima),\n",
    " we see that a layered landscape is able to have many optima but few clusters with a notably large cluster containing the global optimum."
   ]
  },
  {
   "cell_type": "markdown",
   "metadata": {},
   "source": [
    "## Copied discussion from 'Layered_landscapes_JA_analyses_and_comments' file\n",
    "This discussion is copied because the simulations took a while to run to get these statistics, and needed N=8\n",
    "\n",
    "\n",
    "The results are interesing. We can see, for example, in the first layered landscape (with K=8) that there are interesting properties not seen in the regular NK landscapes above. For one we notice the high path length/ distance (almost 6) between the global max and global minimum in the K=8 for second layer landscape - higher than any regular NK landscape except for K=0. We also see that there are a high number of local maxima - suggesting a rugged landscape. This suggests that there is clear seperation between the global max and minimum, but that getting there is hard as there are many local maxima along the way, especially near the global maxima. We notice that the 90th percentile of values tends to cluster within a path distancd of 2-2.7 steps from the global maxima (much less compared to unlayered high K landscapes).\n",
    "\n",
    "This is a key benefit as the regular NK landscapes generated high numbers of local maxima with high K, but there was not clear seperation between maxima and minima. Indeed our Layered Landscapes are able to maintain some levesl of autocorrelation.\n",
    "\n",
    "From these simulations we may further notice that the layered landscape differs from the singular landscape in that by layering the landscapes we are able to achieve a relatively large difference (normalized by standard deviation) between the global maxima and minima.\n",
    "\n",
    "Future analysis can vary N, K, and the weights.\n"
   ]
  },
  {
   "cell_type": "code",
   "execution_count": null,
   "metadata": {},
   "outputs": [],
   "source": []
  },
  {
   "cell_type": "code",
   "execution_count": 13,
   "metadata": {},
   "outputs": [
    {
     "data": {
      "text/html": [
       "<div>\n",
       "<style scoped>\n",
       "    .dataframe tbody tr th:only-of-type {\n",
       "        vertical-align: middle;\n",
       "    }\n",
       "\n",
       "    .dataframe tbody tr th {\n",
       "        vertical-align: top;\n",
       "    }\n",
       "\n",
       "    .dataframe thead th {\n",
       "        text-align: right;\n",
       "    }\n",
       "</style>\n",
       "<table border=\"1\" class=\"dataframe\">\n",
       "  <thead>\n",
       "    <tr style=\"text-align: right;\">\n",
       "      <th></th>\n",
       "      <th>Fitness</th>\n",
       "      <th>Location</th>\n",
       "    </tr>\n",
       "  </thead>\n",
       "  <tbody>\n",
       "    <tr>\n",
       "      <td>0000000000</td>\n",
       "      <td>0.309299</td>\n",
       "      <td>(0, 0, 0, 0, 0, 0, 0, 0, 0, 0)</td>\n",
       "    </tr>\n",
       "    <tr>\n",
       "      <td>0000000001</td>\n",
       "      <td>0.315265</td>\n",
       "      <td>(0, 0, 0, 0, 0, 0, 0, 0, 0, 1)</td>\n",
       "    </tr>\n",
       "    <tr>\n",
       "      <td>0000000010</td>\n",
       "      <td>0.342411</td>\n",
       "      <td>(0, 0, 0, 0, 0, 0, 0, 0, 1, 0)</td>\n",
       "    </tr>\n",
       "    <tr>\n",
       "      <td>0000000011</td>\n",
       "      <td>0.348376</td>\n",
       "      <td>(0, 0, 0, 0, 0, 0, 0, 0, 1, 1)</td>\n",
       "    </tr>\n",
       "    <tr>\n",
       "      <td>0000000100</td>\n",
       "      <td>0.315657</td>\n",
       "      <td>(0, 0, 0, 0, 0, 0, 0, 1, 0, 0)</td>\n",
       "    </tr>\n",
       "    <tr>\n",
       "      <td>...</td>\n",
       "      <td>...</td>\n",
       "      <td>...</td>\n",
       "    </tr>\n",
       "    <tr>\n",
       "      <td>1111111011</td>\n",
       "      <td>0.398152</td>\n",
       "      <td>(1, 1, 1, 1, 1, 1, 1, 0, 1, 1)</td>\n",
       "    </tr>\n",
       "    <tr>\n",
       "      <td>1111111100</td>\n",
       "      <td>0.365433</td>\n",
       "      <td>(1, 1, 1, 1, 1, 1, 1, 1, 0, 0)</td>\n",
       "    </tr>\n",
       "    <tr>\n",
       "      <td>1111111101</td>\n",
       "      <td>0.371399</td>\n",
       "      <td>(1, 1, 1, 1, 1, 1, 1, 1, 0, 1)</td>\n",
       "    </tr>\n",
       "    <tr>\n",
       "      <td>1111111110</td>\n",
       "      <td>0.398545</td>\n",
       "      <td>(1, 1, 1, 1, 1, 1, 1, 1, 1, 0)</td>\n",
       "    </tr>\n",
       "    <tr>\n",
       "      <td>1111111111</td>\n",
       "      <td>0.404510</td>\n",
       "      <td>(1, 1, 1, 1, 1, 1, 1, 1, 1, 1)</td>\n",
       "    </tr>\n",
       "  </tbody>\n",
       "</table>\n",
       "<p>1024 rows × 2 columns</p>\n",
       "</div>"
      ],
      "text/plain": [
       "             Fitness                        Location\n",
       "0000000000  0.309299  (0, 0, 0, 0, 0, 0, 0, 0, 0, 0)\n",
       "0000000001  0.315265  (0, 0, 0, 0, 0, 0, 0, 0, 0, 1)\n",
       "0000000010  0.342411  (0, 0, 0, 0, 0, 0, 0, 0, 1, 0)\n",
       "0000000011  0.348376  (0, 0, 0, 0, 0, 0, 0, 0, 1, 1)\n",
       "0000000100  0.315657  (0, 0, 0, 0, 0, 0, 0, 1, 0, 0)\n",
       "...              ...                             ...\n",
       "1111111011  0.398152  (1, 1, 1, 1, 1, 1, 1, 0, 1, 1)\n",
       "1111111100  0.365433  (1, 1, 1, 1, 1, 1, 1, 1, 0, 0)\n",
       "1111111101  0.371399  (1, 1, 1, 1, 1, 1, 1, 1, 0, 1)\n",
       "1111111110  0.398545  (1, 1, 1, 1, 1, 1, 1, 1, 1, 0)\n",
       "1111111111  0.404510  (1, 1, 1, 1, 1, 1, 1, 1, 1, 1)\n",
       "\n",
       "[1024 rows x 2 columns]"
      ]
     },
     "execution_count": 13,
     "metadata": {},
     "output_type": "execute_result"
    }
   ],
   "source": [
    "N_10_K0_"
   ]
  },
  {
   "cell_type": "code",
   "execution_count": 28,
   "metadata": {},
   "outputs": [
    {
     "data": {
      "text/plain": [
       "10"
      ]
     },
     "execution_count": 28,
     "metadata": {},
     "output_type": "execute_result"
    }
   ],
   "source": [
    "N_10_K0_.loc[\"\".join([str(i) for i in Position_rand(10)])].Fitness\n",
    "len(N_10_K0_.iloc[0].Location)"
   ]
  },
  {
   "cell_type": "code",
   "execution_count": 21,
   "metadata": {},
   "outputs": [
    {
     "ename": "NameError",
     "evalue": "name 'Landscape' is not defined",
     "output_type": "error",
     "traceback": [
      "\u001b[0;31m---------------------------------------------------------------------------\u001b[0m",
      "\u001b[0;31mNameError\u001b[0m                                 Traceback (most recent call last)",
      "\u001b[0;32m<ipython-input-21-8109ef913254>\u001b[0m in \u001b[0;36m<module>\u001b[0;34m\u001b[0m\n\u001b[0;32m----> 1\u001b[0;31m \u001b[0mlen\u001b[0m\u001b[0;34m(\u001b[0m\u001b[0mLandscape\u001b[0m\u001b[0;34m[\u001b[0m\u001b[0;36m0\u001b[0m\u001b[0;34m]\u001b[0m\u001b[0;34m)\u001b[0m\u001b[0;34m\u001b[0m\u001b[0;34m\u001b[0m\u001b[0m\n\u001b[0m",
      "\u001b[0;31mNameError\u001b[0m: name 'Landscape' is not defined"
     ]
    }
   ],
   "source": [
    "Hill_Climb_First(''.join(str(i) for i in Position_rand(10)),N_10_K0_, 1)"
   ]
  },
  {
   "cell_type": "code",
   "execution_count": 8,
   "metadata": {},
   "outputs": [],
   "source": [
    "\n",
    "#create fitness history initialization\n",
    "def get_iterated_search_walk(Landscape,Neighbor_Distance,Step_Size,Iterations):\n",
    "    #initalize random position\n",
    "    N=len(Landscape.iloc[0].Location)\n",
    "    Position= Position_rand(N)\n",
    "    FitnessHistory=[Landscape.loc[\"\".join([str(i) for i in Position])].Fitness]\n",
    "    for j in range(Iterations):\n",
    "\n",
    "\n",
    "        #Identify the Neighbors (distance of M from initial position row)\n",
    "        Neighbors = Landscape[Landscape['Location'].apply(lambda row : sum(abs(np.array(row)-np.array(Landscape.loc[\"\".join([str(i) for i in Position])].Location)))==Neighbor_Distance)]        #Get the maximum fitness value of the neighbors\n",
    "\n",
    "        BetterNeighbors = Neighbors[Neighbors.Fitness>Landscape.loc[\"\".join([str(i) for i in Position])].Fitness]\n",
    "        #randomize order of neighobrs then loop until one exceeds\n",
    "        if len(BetterNeighbors)>0: #only update if there exists at least one superior neighobr\n",
    "            BetterNeighbors.sample(frac=1)#randomly sample better neighbors\n",
    "            Position = BetterNeighbors.index.values[0] #return the first index value\n",
    "        #take a step of size Step_Size\n",
    "        else:\n",
    "            Position = Perturbation(Position,Step_Size)\n",
    "            #Append to fitness data\n",
    "        fit = Landscape.loc[\"\".join([str(i) for i in Position])].Fitness\n",
    "        FitnessHistory.append(fit)\n",
    "    return(FitnessHistory)"
   ]
  },
  {
   "cell_type": "code",
   "execution_count": 15,
   "metadata": {},
   "outputs": [
    {
     "name": "stdout",
     "output_type": "stream",
     "text": [
      "aa\n"
     ]
    }
   ],
   "source": [
    "Num_Steps=50\n",
    "Step_Size=2\n",
    "Neighborhood=1\n",
    "\n",
    "\n",
    "FitnessPath_10 = get_iterated_search_walk(N_10_K10_,Neighborhood,Step_Size,Num_Steps)\n",
    "print('aa')\n",
    "FitnessPath_8 = get_iterated_search_walk(N_10_K8_,Neighborhood,Step_Size,Num_Steps)\n",
    "\n",
    "FitnessPath_5 = get_iterated_search_walk(N_10_K5_,Neighborhood,Step_Size,Num_Steps)\n",
    "FitnessPath_0 = get_iterated_search_walk(N_10_K0_,Neighborhood,Step_Size,Num_Steps)\n",
    "\n",
    "##Do for layered\n",
    "FitnessPath_10_Layered = get_iterated_search_walk(Layer_Landscape_N10_K10_K0,Neighborhood,Step_Size,Num_Steps)\n",
    "FitnessPath_8_Layered= get_iterated_search_walk(Layer_Landscape_N10_K8_K0,Neighborhood,Step_Size,Num_Steps)\n",
    "FitnessPath_5_Layered= get_iterated_search_walk(Layer_Landscape_N10_K5_K0,Neighborhood,Step_Size,Num_Steps)\n"
   ]
  },
  {
   "cell_type": "code",
   "execution_count": 13,
   "metadata": {},
   "outputs": [
    {
     "data": {
      "text/html": [
       "<div>\n",
       "<style scoped>\n",
       "    .dataframe tbody tr th:only-of-type {\n",
       "        vertical-align: middle;\n",
       "    }\n",
       "\n",
       "    .dataframe tbody tr th {\n",
       "        vertical-align: top;\n",
       "    }\n",
       "\n",
       "    .dataframe thead th {\n",
       "        text-align: right;\n",
       "    }\n",
       "</style>\n",
       "<table border=\"1\" class=\"dataframe\">\n",
       "  <thead>\n",
       "    <tr style=\"text-align: right;\">\n",
       "      <th></th>\n",
       "      <th>Fitness</th>\n",
       "      <th>Location</th>\n",
       "    </tr>\n",
       "  </thead>\n",
       "  <tbody>\n",
       "    <tr>\n",
       "      <td>0000000000</td>\n",
       "      <td>1.094565</td>\n",
       "      <td>(0, 0, 0, 0, 0, 0, 0, 0, 0, 0)</td>\n",
       "    </tr>\n",
       "    <tr>\n",
       "      <td>0000000001</td>\n",
       "      <td>0.873817</td>\n",
       "      <td>(0, 0, 0, 0, 0, 0, 0, 0, 0, 1)</td>\n",
       "    </tr>\n",
       "    <tr>\n",
       "      <td>0000000010</td>\n",
       "      <td>0.976326</td>\n",
       "      <td>(0, 0, 0, 0, 0, 0, 0, 0, 1, 0)</td>\n",
       "    </tr>\n",
       "    <tr>\n",
       "      <td>0000000011</td>\n",
       "      <td>0.791831</td>\n",
       "      <td>(0, 0, 0, 0, 0, 0, 0, 0, 1, 1)</td>\n",
       "    </tr>\n",
       "    <tr>\n",
       "      <td>0000000100</td>\n",
       "      <td>0.999092</td>\n",
       "      <td>(0, 0, 0, 0, 0, 0, 0, 1, 0, 0)</td>\n",
       "    </tr>\n",
       "    <tr>\n",
       "      <td>...</td>\n",
       "      <td>...</td>\n",
       "      <td>...</td>\n",
       "    </tr>\n",
       "    <tr>\n",
       "      <td>1111111011</td>\n",
       "      <td>0.953749</td>\n",
       "      <td>(1, 1, 1, 1, 1, 1, 1, 0, 1, 1)</td>\n",
       "    </tr>\n",
       "    <tr>\n",
       "      <td>1111111100</td>\n",
       "      <td>0.795719</td>\n",
       "      <td>(1, 1, 1, 1, 1, 1, 1, 1, 0, 0)</td>\n",
       "    </tr>\n",
       "    <tr>\n",
       "      <td>1111111101</td>\n",
       "      <td>0.869725</td>\n",
       "      <td>(1, 1, 1, 1, 1, 1, 1, 1, 0, 1)</td>\n",
       "    </tr>\n",
       "    <tr>\n",
       "      <td>1111111110</td>\n",
       "      <td>0.915415</td>\n",
       "      <td>(1, 1, 1, 1, 1, 1, 1, 1, 1, 0)</td>\n",
       "    </tr>\n",
       "    <tr>\n",
       "      <td>1111111111</td>\n",
       "      <td>0.717815</td>\n",
       "      <td>(1, 1, 1, 1, 1, 1, 1, 1, 1, 1)</td>\n",
       "    </tr>\n",
       "  </tbody>\n",
       "</table>\n",
       "<p>1024 rows × 2 columns</p>\n",
       "</div>"
      ],
      "text/plain": [
       "             Fitness                        Location\n",
       "0000000000  1.094565  (0, 0, 0, 0, 0, 0, 0, 0, 0, 0)\n",
       "0000000001  0.873817  (0, 0, 0, 0, 0, 0, 0, 0, 0, 1)\n",
       "0000000010  0.976326  (0, 0, 0, 0, 0, 0, 0, 0, 1, 0)\n",
       "0000000011  0.791831  (0, 0, 0, 0, 0, 0, 0, 0, 1, 1)\n",
       "0000000100  0.999092  (0, 0, 0, 0, 0, 0, 0, 1, 0, 0)\n",
       "...              ...                             ...\n",
       "1111111011  0.953749  (1, 1, 1, 1, 1, 1, 1, 0, 1, 1)\n",
       "1111111100  0.795719  (1, 1, 1, 1, 1, 1, 1, 1, 0, 0)\n",
       "1111111101  0.869725  (1, 1, 1, 1, 1, 1, 1, 1, 0, 1)\n",
       "1111111110  0.915415  (1, 1, 1, 1, 1, 1, 1, 1, 1, 0)\n",
       "1111111111  0.717815  (1, 1, 1, 1, 1, 1, 1, 1, 1, 1)\n",
       "\n",
       "[1024 rows x 2 columns]"
      ]
     },
     "execution_count": 13,
     "metadata": {},
     "output_type": "execute_result"
    }
   ],
   "source": [
    "Layer_Landscape_N10_K10_K0"
   ]
  },
  {
   "cell_type": "code",
   "execution_count": null,
   "metadata": {},
   "outputs": [],
   "source": [
    "FitnessPath_10_Layered = get_iterated_search_walk(Layer_Landscape_N10_K10_K0,Neighborhood,Step_Size,Num_Steps)\n"
   ]
  },
  {
   "cell_type": "code",
   "execution_count": 16,
   "metadata": {},
   "outputs": [
    {
     "data": {
      "image/png": "[encoded data removed]",
      "text/plain": [
       "<Figure size 1440x360 with 1 Axes>"
      ]
     },
     "metadata": {
      "needs_background": "light"
     },
     "output_type": "display_data"
    }
   ],
   "source": [
    "\n",
    "\n",
    "##plot the data\n",
    "plt.figure(figsize=(20,5))\n",
    "\n",
    "plt.plot((FitnessPath_10),'r-o',label='K=10')\n",
    "plt.plot((FitnessPath_5),'b-o',label='K=5')\n",
    "plt.plot((FitnessPath_0),'g-o',label='K=0')\n",
    "\n",
    "plt.plot((FitnessPath_10_Layered),'r-*',label='K=10;K0')\n",
    "plt.plot((FitnessPath_8_Layered),'b-*',label='K=8;K0')\n",
    "plt.plot((FitnessPath_5_Layered),'g-*',label='K=5;K0')\n",
    "#plt.plot(FitnessPath[0::],'go',label='Current Fitness')\n",
    "plt.legend()\n",
    "plt.title(\"Fitnesses when Hill Climbing, Perturbations of size 2; N=10\")\n",
    "plt.xlabel('Steps')\n",
    "plt.ylabel('Fitness')\n",
    "plt.show()\n"
   ]
  },
  {
   "cell_type": "code",
   "execution_count": null,
   "metadata": {},
   "outputs": [],
   "source": [
    "#plt.plot(FitnessPath[0::],'go',label='Current Fitness')\n",
    "plt.legend()\n",
    "plt.title(\"Random Walk averaged fitness over 5 steps; N=15\")\n",
    "plt.xlabel('Steps')\n",
    "plt.ylabel('Fitness')\n",
    "plt.show()\n"
   ]
  },
  {
   "cell_type": "code",
   "execution_count": 21,
   "metadata": {},
   "outputs": [
    {
     "data": {
      "text/plain": [
       "list"
      ]
     },
     "execution_count": 21,
     "metadata": {},
     "output_type": "execute_result"
    }
   ],
   "source": [
    "type(FitnessPath_0)"
   ]
  },
  {
   "cell_type": "code",
   "execution_count": null,
   "metadata": {},
   "outputs": [],
   "source": []
  }
 ],
 "metadata": {
  "kernelspec": {
   "display_name": "Python 3",
   "language": "python",
   "name": "python3"
  },
  "language_info": {
   "codemirror_mode": {
    "name": "ipython",
    "version": 3
   },
   "file_extension": ".py",
   "mimetype": "text/x-python",
   "name": "python",
   "nbconvert_exporter": "python",
   "pygments_lexer": "ipython3",
   "version": "3.6.8"
  }
 },
 "nbformat": 4,
 "nbformat_minor": 2
}
