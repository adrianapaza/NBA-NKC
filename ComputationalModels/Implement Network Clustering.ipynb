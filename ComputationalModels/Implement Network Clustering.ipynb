{
 "cells": [
  {
   "cell_type": "code",
   "execution_count": 1,
   "metadata": {},
   "outputs": [],
   "source": [
    "##Import packages and files\n",
    "from itertools import compress, product\n",
    "import numpy as np\n",
    "import matplotlib.pyplot as plt\n",
    "import array\n",
    "import random\n",
    "import pandas as pd\n",
    "import itertools\n",
    "import operator\n",
    "import importlib\n",
    "#import functions defining the layered landscape\n",
    "from LayeredLandscapeFunctions import *\n",
    "import networkx as nx\n"
   ]
  },
  {
   "cell_type": "code",
   "execution_count": 2,
   "metadata": {},
   "outputs": [],
   "source": [
    "#Algorithm 2 Iterated Local Search (ILS)\n",
    "#Require: Solution space S,\n",
    "#Fitness function f(S),\n",
    "#Neighborhood function N(S),\n",
    "#Stopping threshold t\n",
    "#1: Choose initial random solution s0 ∈ S\n",
    "#2: s ← hillClimb(s0)\n",
    "#3: i ← 0\n",
    "#4: repeat\n",
    "#5: s0 ← perturbation(s∗)\n",
    "#6: s'0 ← hillClimb(s0)\n",
    "#7: if (s∗''= s∗) ∧ (f(s∗0) > f(s∗)) then\n",
    "#8: s∗ ← s∗''\n",
    "#9: i ← 0\n",
    "#10: end if\n",
    "#11: i ← i + 1\n",
    "#12: until i ≥ t\n",
    "#13: return s∗"
   ]
  },
  {
   "cell_type": "code",
   "execution_count": 214,
   "metadata": {},
   "outputs": [],
   "source": [
    "def Perturbation(Position,D):\n",
    "    N=len(Position)\n",
    "    s = list(range(N))\n",
    "    random.shuffle(s)\n",
    "       #Take a step by picking a random gene to change\n",
    "    first_sample = s[-D:]\n",
    "    for i in first_sample:\n",
    "        Position[i] = abs(Position[i]-1)\n",
    "    return(Position)\n",
    "\n"
   ]
  },
  {
   "cell_type": "code",
   "execution_count": 7,
   "metadata": {},
   "outputs": [],
   "source": [
    "##There is a decision to be made about how to store the values\n",
    "#I choose to create an L by L matrix where L is the total number of local optima\n",
    "#the rows and columns of L are the fitness values of the Local Optima,\n",
    "#each cell has an integer for the number of times, after a pertubation, a row \n",
    "#optima maps to a column optima\n",
    "#a Seperate array stores the mapping of fitnesses of L to actual locations,\n",
    "#this is done because it is extremely unlikely two local optima share a fitness\n",
    "\n",
    "def Iterated_Local_Search(Landscape1, Landscape2, Landscape_Weights, M, D,t, NumSims):\n",
    "    for Sim in range(NumSims):\n",
    "        print('Sim is',Sim)\n",
    "        if Sim==0:\n",
    "            df = pd.DataFrame() #creates a new dataframe that's empty\n",
    "        s0 = Position_rand(N)#1 random location\n",
    "        s_star = Hill_Climb(s0,Landscape1, Landscape2, Landscape_Weights, M) #2, Hill Climb initial \n",
    "        f_s_star = Get_Fitness_Layered_Landscape(Landscape1, Landscape2, Landscape_Weights, s_star)\n",
    "        i=0 #set i equal to 0\n",
    "        if f_s_star not in (df.index.values): #add a row if necessary\n",
    "            df = df.append(pd.Series(name=(f_s_star)))\n",
    "            df[f_s_star]=0\n",
    "        while(i<t):\n",
    "            df = df.fillna(0) #replace nas with zeros\n",
    "\n",
    "            s_prime = Perturbation(s_star, D)#perturb\n",
    "            s_prime_star = Hill_Climb(s_star,Landscape1, Landscape2,Landscape_Weights,M) #climb new hill\n",
    "            f_s_prime_star = Get_Fitness_Layered_Landscape(Landscape1, Landscape2, Landscape_Weights, s_prime_star)\n",
    "\n",
    "            if f_s_star not in (df.index.values): #add a row if necessary\n",
    "                    df = df.append(pd.Series(name=(f_s_star)))\n",
    "            if f_s_prime_star not in df.columns:                    #add column if necessary\n",
    "                    df[f_s_prime_star]=0 #set to zero\n",
    "                    df.at[f_s_star, f_s_prime_star] = 0\n",
    "            if f_s_prime_star not in df.index.values:                    #add column if necessary\n",
    "                    df = df.append(pd.Series(name=(f_s_prime_star)))\n",
    "            #update the transition matrix\n",
    "            df.at[f_s_star, f_s_prime_star] =  df.at[f_s_star, f_s_prime_star]+1 \n",
    "\n",
    "            #check for new maxima\n",
    "            if ((s_prime_star!=s_star).any() and (f_s_prime_star > f_s_star)):\n",
    "                #reset finteses\n",
    "                i=0 ###IN ORIGNAL THIS IS NOT COMMENTED OUT\n",
    "                #df.at[f_s_star, f_s_prime_star] =  df.at[f_s_star, f_s_prime_star]+1 #add one to the value of the edge\n",
    "\n",
    "                #update the fitness and location if higher\n",
    "                f_s_star = f_s_prime_star \n",
    "                s_star = s_prime_star\n",
    "\n",
    "                #add i=i+1 since we allow change in optima (against paper) \n",
    "                #i = i + 1 ###NOT IN ORIGNINAL ALGORITHM \n",
    "\n",
    "            else:\n",
    "                #update counter\n",
    "                i = i + 1\n",
    "    return(df)\n"
   ]
  },
  {
   "cell_type": "code",
   "execution_count": 209,
   "metadata": {},
   "outputs": [],
   "source": [
    "##Functions for markov clustering\n",
    "\n",
    "## Expansion Power\n",
    "EXPANSION_POWER = 1.5\n",
    "## Inflation power and number of iterations \n",
    "# iterations really should not be preset and should be coded as stopping at convergence)\n",
    "INFLATION_POWER = 1.5\n",
    "#ITERATION_COUNT = 40\n",
    "def normalize(matrix):\n",
    "    return matrix/np.sum(matrix, axis=0)\n",
    "\n",
    "def expand(matrix, power):\n",
    "    return matrix**power\n",
    "\n",
    "def inflate(matrix, power):\n",
    "    for entry in np.nditer(matrix, op_flags=['readwrite']):\n",
    "        #print(entry)\n",
    "        entry[...] = entry**power\n",
    "        #print(entry)\n",
    "    return matrix\n",
    "\n",
    "def run(matrix):\n",
    "    #np.fill_diagonal(matrix, 1)\n",
    "    #print(matrix)\n",
    "    matrix = normalize(matrix)\n",
    "    #nan to 0\n",
    "    #matrix = np.nan_to_num(matrix)\n",
    "\n",
    "    OldMatrix = np.zeros((len(matrix),len(matrix)))\n",
    "\n",
    "\n",
    "    #keep looping until convergence\n",
    "    while ((matrix == OldMatrix).all())==False:\n",
    "        OldMatrix = matrix\n",
    "        matrix = normalize(inflate(expand(matrix, EXPANSION_POWER), INFLATION_POWER))\n",
    "        matrix = np.nan_to_num(matrix)\n",
    "        #print((OldMatrix-matrix).sum())\n",
    "    return matrix\n"
   ]
  },
  {
   "cell_type": "code",
   "execution_count": 210,
   "metadata": {},
   "outputs": [
    {
     "name": "stdout",
     "output_type": "stream",
     "text": [
      "Sim is 0\n",
      "Sim is 1\n",
      "Sim is 2\n",
      "Sim is 3\n",
      "Sim is 4\n",
      "Sim is 5\n",
      "Sim is 6\n",
      "Sim is 7\n",
      "Sim is 8\n",
      "Sim is 9\n",
      "Sim is 10\n",
      "Sim is 11\n",
      "Sim is 12\n",
      "Sim is 13\n",
      "Sim is 14\n",
      "Sim is 15\n",
      "Sim is 16\n",
      "Sim is 17\n",
      "Sim is 18\n",
      "Sim is 19\n",
      "Sim is 20\n",
      "Sim is 21\n",
      "Sim is 22\n",
      "Sim is 23\n",
      "Sim is 24\n",
      "Sim is 25\n",
      "Sim is 26\n",
      "Sim is 27\n",
      "Sim is 28\n",
      "Sim is 29\n",
      "Sim is 30\n",
      "Sim is 31\n",
      "Sim is 32\n",
      "Sim is 33\n",
      "Sim is 34\n",
      "Sim is 35\n",
      "Sim is 36\n",
      "Sim is 37\n",
      "Sim is 38\n",
      "Sim is 39\n",
      "Sim is 40\n",
      "Sim is 41\n",
      "Sim is 42\n",
      "Sim is 43\n",
      "Sim is 44\n",
      "Sim is 45\n",
      "Sim is 46\n",
      "Sim is 47\n",
      "Sim is 48\n",
      "Sim is 49\n",
      "Sim is 50\n",
      "Sim is 51\n",
      "Sim is 52\n",
      "Sim is 53\n",
      "Sim is 54\n",
      "Sim is 55\n",
      "Sim is 56\n",
      "Sim is 57\n",
      "Sim is 58\n",
      "Sim is 59\n",
      "Sim is 60\n",
      "Sim is 61\n",
      "Sim is 62\n",
      "Sim is 63\n",
      "Sim is 64\n",
      "Sim is 65\n",
      "Sim is 66\n",
      "Sim is 67\n",
      "Sim is 68\n",
      "Sim is 69\n",
      "Sim is 70\n",
      "Sim is 71\n",
      "Sim is 72\n",
      "Sim is 73\n",
      "Sim is 74\n",
      "Sim is 75\n",
      "Sim is 76\n",
      "Sim is 77\n",
      "Sim is 78\n",
      "Sim is 79\n",
      "Sim is 80\n",
      "Sim is 81\n",
      "Sim is 82\n",
      "Sim is 83\n",
      "Sim is 84\n",
      "Sim is 85\n",
      "Sim is 86\n",
      "Sim is 87\n",
      "Sim is 88\n",
      "Sim is 89\n",
      "Sim is 90\n",
      "Sim is 91\n",
      "Sim is 92\n",
      "Sim is 93\n",
      "Sim is 94\n",
      "Sim is 95\n",
      "Sim is 96\n",
      "Sim is 97\n",
      "Sim is 98\n",
      "Sim is 99\n"
     ]
    }
   ],
   "source": [
    "N=10\n",
    "K1=4\n",
    "K2=0\n",
    "M=1 #local search area, you look for first higher not the highest gradient\n",
    "D=2 #length of jump from a peak\n",
    "t=100 \n",
    "NumSims=100 #number of random initial starting values\n",
    "Landscape_Weights = [1,0]\n",
    "(Landscape1, Landscape2) = Generate_Layered_Landscapes(N,K1,K2)\n",
    "Transition_Matrix = Iterated_Local_Search(Landscape1, Landscape2, Landscape_Weights, M, D,t,NumSims) #this is a pandas dataframe\n",
    "#of the network with cells corresponding to number of times row maxima maps to column maxima"
   ]
  },
  {
   "cell_type": "code",
   "execution_count": 211,
   "metadata": {},
   "outputs": [],
   "source": [
    "#Prepare data frame of network connections for markov clustering\n",
    "Transition_Matrix_New = Transition_Matrix.div(Transition_Matrix.sum(axis=1), axis=0)\n",
    "\n",
    "Transition_Matrix_New_Transpose=Transition_Matrix_New.transpose()\n",
    "TNumpy = Transition_Matrix_New_Transpose.to_numpy()\n",
    "TNumpy = np.nan_to_num(TNumpy)\n"
   ]
  },
  {
   "cell_type": "code",
   "execution_count": 212,
   "metadata": {
    "scrolled": false
   },
   "outputs": [
    {
     "name": "stderr",
     "output_type": "stream",
     "text": [
      "/Users/adrianapaza/anaconda2/envs/py36/lib/python3.6/site-packages/ipykernel_launcher.py:10: RuntimeWarning: invalid value encountered in true_divide\n",
      "  # Remove the CWD from sys.path while we load stuff.\n"
     ]
    },
    {
     "data": {
      "text/plain": [
       "array([1., 1., 1., 1., 1., 1., 1., 1., 1., 1., 1., 0., 0., 1., 1., 1., 0.,\n",
       "       0., 1., 1., 1., 1., 1., 1., 1., 1., 1., 1., 1.])"
      ]
     },
     "execution_count": 212,
     "metadata": {},
     "output_type": "execute_result"
    }
   ],
   "source": [
    "MarkovMatrix = run(TNumpy)\n",
    "#replace nan with 0\n",
    "MarkovMatrix2 = np.nan_to_num(MarkovMatrix)\n",
    "MarkovMatrix2.sum(axis=0)\n"
   ]
  },
  {
   "cell_type": "code",
   "execution_count": 205,
   "metadata": {},
   "outputs": [],
   "source": [
    "##PLOT\n",
    "\n",
    "MarkClsuMatrix = nx.from_numpy_matrix(MarkovMatrix2) #convert to adjacency matrix undirected\n",
    "\n",
    "W = nx.DiGraph(MarkovMatrix2) #convert to directed graph (digraph)\n",
    "OG = nx.DiGraph(Transition_Matrix_New) #convert original probability graph to directed graph\n",
    "\n",
    "\n"
   ]
  },
  {
   "cell_type": "code",
   "execution_count": 206,
   "metadata": {},
   "outputs": [
    {
     "data": {
      "image/png": "[encoded data removed]",
      "text/plain": [
       "<Figure size 432x288 with 1 Axes>"
      ]
     },
     "metadata": {},
     "output_type": "display_data"
    }
   ],
   "source": [
    "#set node size based upon some scaling of the fitness\n",
    "node_sizes = (Transition_Matrix_New.index.values**15)/sum(Transition_Matrix_New.index.values**15)*3000\n",
    "nx.draw(MarkClsuMatrix, node_size=node_sizes, labels=G.index.values,\n",
    "        with_labels=False,arrows=True)\n",
    "\n",
    "\n"
   ]
  },
  {
   "cell_type": "code",
   "execution_count": 215,
   "metadata": {},
   "outputs": [
    {
     "data": {
      "text/plain": [
       "array([359.26182636, 371.62843988, 341.27973915, 307.42771676,\n",
       "       376.7454824 , 329.6192819 , 327.7111532 , 326.71660813,\n",
       "       312.84558291, 352.93459658, 407.65482561, 351.22984293,\n",
       "       356.21409089, 342.90585978, 338.54398292, 317.5533455 ,\n",
       "       301.6857755 , 273.7878118 , 357.45114493, 337.96578242,\n",
       "       377.75009909, 390.36319162, 351.56959633, 347.965274  ,\n",
       "       325.30974385, 351.52103809, 380.84076829, 325.64346341,\n",
       "       357.87393578])"
      ]
     },
     "execution_count": 215,
     "metadata": {},
     "output_type": "execute_result"
    }
   ],
   "source": [
    "Transition_Matrix_New.index.values/sum(Transition_Matrix_New.index.values)*10000"
   ]
  },
  {
   "cell_type": "code",
   "execution_count": 216,
   "metadata": {},
   "outputs": [
    {
     "data": {
      "image/png": "[encoded data removed]",
      "text/plain": [
       "<Figure size 432x288 with 1 Axes>"
      ]
     },
     "metadata": {},
     "output_type": "display_data"
    }
   ],
   "source": [
    "#set node size based upon some scaling of the fitness\n",
    "node_sizes = (Transition_Matrix_New.index.values**10)/sum(Transition_Matrix_New.index.values**10)*1000\n",
    "nx.draw(OG, node_size=node_sizes, labels=Transition_Matrix_New.index.values,\n",
    "        with_labels=False,arrows=True)\n",
    "\n",
    "\n"
   ]
  },
  {
   "cell_type": "code",
   "execution_count": 139,
   "metadata": {},
   "outputs": [
    {
     "data": {
      "text/plain": [
       "<networkx.classes.digraph.DiGraph at 0xa1c1e7828>"
      ]
     },
     "execution_count": 139,
     "metadata": {},
     "output_type": "execute_result"
    }
   ],
   "source": [
    "OG"
   ]
  },
  {
   "cell_type": "code",
   "execution_count": null,
   "metadata": {},
   "outputs": [],
   "source": []
  },
  {
   "cell_type": "code",
   "execution_count": null,
   "metadata": {},
   "outputs": [],
   "source": []
  },
  {
   "cell_type": "code",
   "execution_count": null,
   "metadata": {},
   "outputs": [],
   "source": []
  },
  {
   "cell_type": "code",
   "execution_count": 479,
   "metadata": {},
   "outputs": [],
   "source": []
  },
  {
   "cell_type": "code",
   "execution_count": 213,
   "metadata": {},
   "outputs": [],
   "source": [
    "#set node size based upon some scaling of the fitness\n",
    "#node_sizes = (G.index.values)**10*30000\n",
    "#nx.draw(W, node_size=node_sizes,\n",
    "#        with_labels=False,arrows=True)\n",
    "#plt.show()\n"
   ]
  },
  {
   "cell_type": "code",
   "execution_count": null,
   "metadata": {},
   "outputs": [],
   "source": []
  },
  {
   "cell_type": "code",
   "execution_count": null,
   "metadata": {},
   "outputs": [],
   "source": []
  },
  {
   "cell_type": "code",
   "execution_count": null,
   "metadata": {},
   "outputs": [],
   "source": []
  },
  {
   "cell_type": "code",
   "execution_count": null,
   "metadata": {},
   "outputs": [],
   "source": []
  },
  {
   "cell_type": "code",
   "execution_count": null,
   "metadata": {},
   "outputs": [],
   "source": []
  }
 ],
 "metadata": {
  "kernelspec": {
   "display_name": "Python 3",
   "language": "python",
   "name": "python3"
  },
  "language_info": {
   "codemirror_mode": {
    "name": "ipython",
    "version": 3
   },
   "file_extension": ".py",
   "mimetype": "text/x-python",
   "name": "python",
   "nbconvert_exporter": "python",
   "pygments_lexer": "ipython3",
   "version": "3.6.8"
  }
 },
 "nbformat": 4,
 "nbformat_minor": 2
}
