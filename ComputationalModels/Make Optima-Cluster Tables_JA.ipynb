{
 "cells": [
  {
   "cell_type": "markdown",
   "metadata": {},
   "source": [
    "## This file recreates table 1 of Herrmann et al.\n",
    "\n"
   ]
  },
  {
   "cell_type": "code",
   "execution_count": 4,
   "metadata": {},
   "outputs": [],
   "source": [
    "##Import packages and files\n",
    "from itertools import compress, product\n",
    "import numpy as np\n",
    "import matplotlib.pyplot as plt\n",
    "import array\n",
    "import random\n",
    "import pandas as pd\n",
    "import itertools\n",
    "import operator\n",
    "import importlib\n",
    "#import functions defining the layered landscape\n",
    "from LayeredLandscapeFunctions import *\n",
    "from Landscapes import *\n",
    "import networkx as nx\n"
   ]
  },
  {
   "cell_type": "code",
   "execution_count": 5,
   "metadata": {},
   "outputs": [],
   "source": [
    "##This functions takes as an input the string of file name params,e.g. \"N-10_K1=3_K2=9_I=20\"\n",
    "#then loads in the mapping and generates the table one statistics we want:num_local_optima,num_clusters,fo_bar\n",
    "def Get_Table_1_Stats(our_files,param_combo):\n",
    "    loc_opt = []\n",
    "    num_clusters= []\n",
    "    fo_bars = []\n",
    "    for file_name in our_files:\n",
    "        \n",
    "        if param_combo in file_name:\n",
    "            try:\n",
    "                df_transition = pd.read_csv(str(file_name.replace(\"_mapping\",\"\")))\n",
    "                df_map = pd.read_csv(str(file_name))\n",
    "\n",
    "                df_transition = df_transition.set_index('Unnamed: 0')#reset index\n",
    "\n",
    "                Mat = Markov_Clustering(df_transition) #get markov cluster matrix\n",
    "                MarkClusMatrix = nx.from_numpy_matrix(Mat) #convert to adjacency matrix undirected\n",
    "                ##get the mapping and restrict it to maximas\n",
    "                df_map_restricted = df_map[df_map.Maxima==1]\n",
    "\n",
    "                #get the connected components/clusters\n",
    "                G= nx.Graph(MarkClusMatrix)\n",
    "                Components = list(nx.connected_components(G)) #list the components\n",
    "                df_map_restricted['cluster']=0 #create variable and set to zero\n",
    "                ##loop throught the components and assign clusters\n",
    "                j=0 #number to index number of components\n",
    "                NumComp = len(Components)\n",
    "                for comp in Components:\n",
    "                    for i in comp:\n",
    "                        df_map_restricted['cluster'].iloc[i]=j\n",
    "                    j+=1\n",
    "\n",
    "\n",
    "                #identify cluster with the global maxima\n",
    "                Cluster_of_Maxima = df_map_restricted.loc[df_map_restricted.Fitness.idxmax()].cluster\n",
    "                ##set the table variables\n",
    "                num_local_optima = len(df_map_restricted)\n",
    "                num_clust = NumComp\n",
    "                fo_bar = len(df_map_restricted[df_map_restricted.cluster ==Cluster_of_Maxima ]) / num_local_optima\n",
    "                loc_opt.append(num_local_optima)\n",
    "                num_clusters.append(num_clust)\n",
    "                fo_bars.append(fo_bar)\n",
    "            except:\n",
    "                pass\n",
    "            \n",
    "    return [np.average(loc_opt),np.std(loc_opt),np.average(num_clusters),np.std(num_clusters),np.average(fo_bars),np.std(fo_bars)] \n",
    "\n",
    "\n",
    "\n",
    "\n",
    "    "
   ]
  },
  {
   "cell_type": "code",
   "execution_count": 6,
   "metadata": {},
   "outputs": [],
   "source": [
    "import glob\n",
    "import re\n",
    "our_files = glob.glob(\"./Results_LON_Simulations/*mapping.csv\")"
   ]
  },
  {
   "cell_type": "code",
   "execution_count": 7,
   "metadata": {},
   "outputs": [],
   "source": [
    "all_files = []\n",
    "for file in our_files:\n",
    "    \n",
    "    if re.findall(\"K1\",file):\n",
    "        all_files.extend(re.findall(\"K1=\\d_K2=\\d\",file))\n",
    "    else:\n",
    "        all_files.extend(re.findall(\"K=\\d\",file))"
   ]
  },
  {
   "cell_type": "code",
   "execution_count": 8,
   "metadata": {},
   "outputs": [],
   "source": [
    "List_file_params = set(all_files)"
   ]
  },
  {
   "cell_type": "code",
   "execution_count": 9,
   "metadata": {},
   "outputs": [
    {
     "name": "stderr",
     "output_type": "stream",
     "text": [
      "/Users/adrianapaza/anaconda2/envs/py36/lib/python3.6/site-packages/ipykernel_launcher.py:24: SettingWithCopyWarning: \n",
      "A value is trying to be set on a copy of a slice from a DataFrame.\n",
      "Try using .loc[row_indexer,col_indexer] = value instead\n",
      "\n",
      "See the caveats in the documentation: http://pandas.pydata.org/pandas-docs/stable/user_guide/indexing.html#returning-a-view-versus-a-copy\n",
      "/Users/adrianapaza/anaconda2/envs/py36/lib/python3.6/site-packages/pandas/core/indexing.py:205: SettingWithCopyWarning: \n",
      "A value is trying to be set on a copy of a slice from a DataFrame\n",
      "\n",
      "See the caveats in the documentation: http://pandas.pydata.org/pandas-docs/stable/user_guide/indexing.html#returning-a-view-versus-a-copy\n",
      "  self._setitem_with_indexer(indexer, value)\n",
      "/Users/adrianapaza/anaconda2/envs/py36/lib/python3.6/site-packages/ipykernel_launcher.py:30: SettingWithCopyWarning: \n",
      "A value is trying to be set on a copy of a slice from a DataFrame\n",
      "\n",
      "See the caveats in the documentation: http://pandas.pydata.org/pandas-docs/stable/user_guide/indexing.html#returning-a-view-versus-a-copy\n"
     ]
    }
   ],
   "source": [
    "##Get a list of file names\n",
    "\n",
    "##loop over them\n",
    "Table_Stats = df_ = pd.DataFrame(index=List_file_params, columns=['AVG num_local_optima',\"SD num_optima\",'AVG num_clusters', \"SD clusters\",'AVG fo_bar',\"SD fo_bar\"])\n",
    "\n",
    "for params in List_file_params:\n",
    "    \n",
    "    Table_Stats.loc[params] = Get_Table_1_Stats(our_files,params)\n"
   ]
  },
  {
   "cell_type": "code",
   "execution_count": 10,
   "metadata": {},
   "outputs": [
    {
     "data": {
      "text/html": [
       "<div>\n",
       "<style scoped>\n",
       "    .dataframe tbody tr th:only-of-type {\n",
       "        vertical-align: middle;\n",
       "    }\n",
       "\n",
       "    .dataframe tbody tr th {\n",
       "        vertical-align: top;\n",
       "    }\n",
       "\n",
       "    .dataframe thead th {\n",
       "        text-align: right;\n",
       "    }\n",
       "</style>\n",
       "<table border=\"1\" class=\"dataframe\">\n",
       "  <thead>\n",
       "    <tr style=\"text-align: right;\">\n",
       "      <th></th>\n",
       "      <th>AVG num_local_optima</th>\n",
       "      <th>SD num_optima</th>\n",
       "      <th>AVG num_clusters</th>\n",
       "      <th>SD clusters</th>\n",
       "      <th>AVG fo_bar</th>\n",
       "      <th>SD fo_bar</th>\n",
       "    </tr>\n",
       "  </thead>\n",
       "  <tbody>\n",
       "    <tr>\n",
       "      <td>K1=3_K2=9</td>\n",
       "      <td>62.1333</td>\n",
       "      <td>5.60793</td>\n",
       "      <td>6</td>\n",
       "      <td>2.78089</td>\n",
       "      <td>0.439496</td>\n",
       "      <td>0.279731</td>\n",
       "    </tr>\n",
       "    <tr>\n",
       "      <td>K=6</td>\n",
       "      <td>48.04</td>\n",
       "      <td>3.3043</td>\n",
       "      <td>6.44</td>\n",
       "      <td>2.0016</td>\n",
       "      <td>0.339895</td>\n",
       "      <td>0.233709</td>\n",
       "    </tr>\n",
       "    <tr>\n",
       "      <td>K=9</td>\n",
       "      <td>93.5</td>\n",
       "      <td>4.98052</td>\n",
       "      <td>9.55556</td>\n",
       "      <td>3.14858</td>\n",
       "      <td>0.297616</td>\n",
       "      <td>0.220256</td>\n",
       "    </tr>\n",
       "    <tr>\n",
       "      <td>K=3</td>\n",
       "      <td>15.475</td>\n",
       "      <td>4.0987</td>\n",
       "      <td>4.45</td>\n",
       "      <td>1.88348</td>\n",
       "      <td>0.375659</td>\n",
       "      <td>0.282082</td>\n",
       "    </tr>\n",
       "  </tbody>\n",
       "</table>\n",
       "</div>"
      ],
      "text/plain": [
       "          AVG num_local_optima SD num_optima AVG num_clusters SD clusters  \\\n",
       "K1=3_K2=9              62.1333       5.60793                6     2.78089   \n",
       "K=6                      48.04        3.3043             6.44      2.0016   \n",
       "K=9                       93.5       4.98052          9.55556     3.14858   \n",
       "K=3                     15.475        4.0987             4.45     1.88348   \n",
       "\n",
       "          AVG fo_bar SD fo_bar  \n",
       "K1=3_K2=9   0.439496  0.279731  \n",
       "K=6         0.339895  0.233709  \n",
       "K=9         0.297616  0.220256  \n",
       "K=3         0.375659  0.282082  "
      ]
     },
     "execution_count": 10,
     "metadata": {},
     "output_type": "execute_result"
    }
   ],
   "source": [
    "Table_Stats"
   ]
  },
  {
   "cell_type": "markdown",
   "metadata": {},
   "source": []
  },
  {
   "cell_type": "code",
   "execution_count": 11,
   "metadata": {},
   "outputs": [],
   "source": []
  },
  {
   "cell_type": "code",
   "execution_count": null,
   "metadata": {},
   "outputs": [],
   "source": [
    "Iterated_Local_Search(Landscape1, Landscape2, Landscape_Weights, M, D,t, NumSims)\n",
    "\n",
    "\n"
   ]
  }
 ],
 "metadata": {
  "kernelspec": {
   "display_name": "Python 3",
   "language": "python",
   "name": "python3"
  },
  "language_info": {
   "codemirror_mode": {
    "name": "ipython",
    "version": 3
   },
   "file_extension": ".py",
   "mimetype": "text/x-python",
   "name": "python",
   "nbconvert_exporter": "python",
   "pygments_lexer": "ipython3",
   "version": "3.7.7"
  }
 },
 "nbformat": 4,
 "nbformat_minor": 2
}
