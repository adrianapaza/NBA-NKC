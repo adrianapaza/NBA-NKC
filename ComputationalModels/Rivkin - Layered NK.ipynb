{
 "cells": [
  {
   "cell_type": "markdown",
   "metadata": {},
   "source": [
    "# Replicate Rivkin for Layered Landscapes"
   ]
  },
  {
   "cell_type": "code",
   "execution_count": null,
   "metadata": {},
   "outputs": [],
   "source": [
    "##Import packages and files\n",
    "from itertools import compress, product\n",
    "import numpy as np\n",
    "import matplotlib.pyplot as plt\n",
    "import array\n",
    "import random\n",
    "import pandas as pd\n",
    "import itertools\n",
    "import operator\n",
    "import importlib\n",
    "#import functions defining the layered landscape\n",
    "from LayeredLandscapeFunctions import *\n"
   ]
  },
  {
   "cell_type": "code",
   "execution_count": null,
   "metadata": {},
   "outputs": [],
   "source": [
    "Position_rand(10)"
   ]
  },
  {
   "cell_type": "code",
   "execution_count": null,
   "metadata": {},
   "outputs": [],
   "source": [
    "def combinations(items):\n",
    "    return ( list(compress(items,mask)) for mask in product(*[[0,1]]*len(items)) )\n",
    "    # alternative:      "
   ]
  },
  {
   "cell_type": "code",
   "execution_count": null,
   "metadata": {},
   "outputs": [],
   "source": [
    "#Get_Fitness_Layered_Landscape(Landscape1, Landscape2, Landscape_Weights, Position)"
   ]
  },
  {
   "cell_type": "code",
   "execution_count": null,
   "metadata": {},
   "outputs": [],
   "source": [
    "## Create an algorithm of search so that we select M from N attirbutes to change,\n",
    "# then stop when we find an improvment\n",
    "\n",
    "\n",
    "## Inputs: Landscape, iPosition, M\n",
    "## Landscape1 - Input of landscape1 \n",
    "## Landscape2 - Input of landscape2\n",
    "## iPosition - inital postition across all variables\n",
    "## M - M, number of genes to search over\n",
    "### Outputs:  NewPosition\n",
    "## NewPosition - The new optimal position found\n",
    "\n",
    "###NOTE Be vary careful as with high N and M this becomes exponentially longer\n",
    "\n",
    "def Incremental_Improvement(iPosition, Landscape1, Landscape2, Landscape_Weights, M):\n",
    "    #initialize variables\n",
    "    ChangedGenes = np.array(iPosition[:])\n",
    "    N=len(iPosition) # OR N = len(iPosition)\n",
    "    ##Get current fitness and oldFitness\n",
    "    OldFit = Get_Fitness_Layered_Landscape(Landscape1, Landscape2, Landscape_Weights, iPosition) #get_fitness_Product_World(Landscape,iPosition)\n",
    "\n",
    "    CurrentFit = Get_Fitness_Layered_Landscape(Landscape1, Landscape2, Landscape_Weights, iPosition) #get_fitness_Product_World(Landscape,iPosition)\n",
    "    #Create list of all permutations of 0,1 of length M\n",
    "    for j in range(M+1):\n",
    "            #Get a list of zeros\n",
    "            if j==0:\n",
    "                all_combos=np.zeros((1,M),dtype=\"int8\")\n",
    "            if j>=1:\n",
    "                #this works, not fully understood by me, but thank god for stackoverflow.\n",
    "                which = np.array(list(itertools.combinations(range(M), j)))\n",
    "                #set a grid of zeros\n",
    "                grid = np.zeros((len(which), M), dtype=\"int8\")\n",
    "                #change\n",
    "                grid[np.arange(len(which))[None].T, which] = 1\n",
    "                #Magic\n",
    "                all_combos = np.concatenate((all_combos, grid))\n",
    "                #Now we have a list of all possible permutations of fitness of length M stored in all_combos\n",
    "\n",
    "    #What remains is to loop over (up to all) combinations of M indices from our N genes \n",
    "    #(we can do combinations here since we did permutations before)\n",
    "\n",
    "    All_indici_combos = list(itertools.combinations(range(N), M))\n",
    "    ##now loop over the two, getting the fitness of a new  combo\n",
    "    for indici in All_indici_combos:\n",
    "        for gene_combo in all_combos:\n",
    "            ChangedGenes = np.array(iPosition[:])\n",
    "            ChangedGenes[list(indici)] = gene_combo \n",
    "            #See if new fitness greater than old, if so then we are done\n",
    "            ####THIS WAS UNCLEAR IN RIVKIN, PERHAPS I OUGHT TO RETURN THE MAX.\n",
    "            NewFitness=Get_Fitness_Layered_Landscape(Landscape1, Landscape2, Landscape_Weights, ChangedGenes)\n",
    "            if NewFitness > CurrentFit:\n",
    "                CurrentFit = NewFitness\n",
    "                CurrentPosition = ChangedGenes\n",
    "    #if no change than return initial position\n",
    "    if OldFit > CurrentFit:\n",
    "        return(iPosition)\n",
    "    else:\n",
    "        return(CurrentPosition)\n",
    "\n",
    "\n",
    "    ##GOOD IDEA: Should also return another variable if no change that says it is at a local optima.\n",
    "    #That way we know not to loop over this long algorithm again.\n",
    "\n",
    "    ###Note: This code is actually not the quickest possible, but it does work. We could make it more efficient\n",
    "    # so that duplicates do not occur (I won't though, not worth my time)\n"
   ]
  },
  {
   "cell_type": "code",
   "execution_count": 117,
   "metadata": {},
   "outputs": [],
   "source": [
    "## Create an algorithm of imitation to copy J of N attributes of best performer with success probability Theta\n",
    "#then stop when we find an improvment\n",
    "\n",
    "\n",
    "## Inputs: iPosition, Landscape, iPosition, J,Theta\n",
    "## iPosition - inital postition across all variables\n",
    "## Landscape1 - Input of landscape1 values\n",
    "## Landscape2 - Input of landscape2 values\n",
    "## Landscape_Weights - Weights for Layering Landscape 1 and two\n",
    "## bestPosition - Position of Best agent\n",
    "## J -  number of genes to copy\n",
    "## Theta -  Probability of Successful copy of each individaul gene/decision\n",
    "\n",
    "### Outputs:  NewPosition\n",
    "## NewPosition - The new optimal position found\n",
    "\n",
    "\n",
    "def follow_the_leader(iPosition, Landscape1, Landscape2, Landscape_Weights, bestPosition, J, Theta):\n",
    "    #check to see if fitness worse\n",
    "    if (Get_Fitness_Layered_Landscape(Landscape1, Landscape2, Landscape_Weights, iPosition) <\n",
    "        Get_Fitness_Layered_Landscape(Landscape1, Landscape2, Landscape_Weights, bestPosition)):\n",
    "        #reset the best genes\n",
    "        bestGenes = bestPosition\n",
    "        #Randomly select J of the bestPosition Genes\n",
    "        indices_of_best = np.random.choice(bestPosition.shape[0], J, replace=False)  \n",
    "        randomGenes = bestPosition[indices_of_best]\n",
    "        #now for each, replicate poorly with probability theta\n",
    "        #draw array from U[0,1] of size J\n",
    "        Probs = np.random.uniform(size=J)\n",
    "        #Get array determing replicated genes\n",
    "        Success = Probs<Theta\n",
    "        #Get replicated genes\n",
    "        Replicated = abs(randomGenes+(Success-1))\n",
    "        #Set initial genes to the replicated ones\n",
    "        iPosition[indices_of_best]=Replicated\n",
    "        return(iPosition)\n",
    "   ##if no better return the initial position\n",
    "    else:\n",
    "        return(iPosition)\n",
    "    \n",
    "    \n",
    "#like follow the leader, but you must go to it.\n",
    "def go_to_the_leader(iPosition, Landscape1, Landscape2, Landscape_Weights, bestPosition, J, Theta):\n",
    "        #reset the best genes\n",
    "        bestGenes = bestPosition\n",
    "        #Randomly select J of the bestPosition Genes\n",
    "        indices_of_best = np.random.choice(bestPosition.shape[0], J, replace=False)  \n",
    "        randomGenes = bestPosition[indices_of_best]\n",
    "        #now for each, replicate poorly with probability theta\n",
    "        #draw array from U[0,1] of size J\n",
    "        Probs = np.random.uniform(size=J)\n",
    "        #Get array determing replicated genes\n",
    "        Success = Probs<Theta\n",
    "        #Get replicated genes\n",
    "        Replicated = abs(randomGenes+(Success-1))\n",
    "        #Set initial genes to the replicated ones\n",
    "        iPosition[indices_of_best]=Replicated\n",
    "        return(iPosition)\n",
    "\n",
    "\n"
   ]
  },
  {
   "cell_type": "code",
   "execution_count": 118,
   "metadata": {},
   "outputs": [],
   "source": [
    "## Create an algorithm of hybrid search that replicates rivkin in Table 7\n",
    "\n",
    "\n",
    "## Inputs: iPosition, Landscape, iPosition, J,Theta\n",
    "## iPosition - inital postition across all variables\n",
    "## Landscape1 - Input of landscape1 values\n",
    "## Landscape2 - Input of landscape2 values\n",
    "## Landscape_Weights - Vector of weights for layered landscapes\n",
    "## bestPosition - Position of Best agent\n",
    "## J -  number of genes to copy\n",
    "## Theta -  Probability of Successful copy of each individaul gene/decision\n",
    "## M - M, number of genes to search over for incremental Improvement\n",
    "\n",
    "\n",
    "### Outputs:  NewPosition\n",
    "## NewPosition - The new optimal position found\n",
    "\n",
    "\n",
    "def hybrid_climb_continuos(iPosition,Landscape1,Landscape2,Landscape_Weights,benchmark_position,J,Theta,M):\n",
    "    ##First of all, do an upward hill climb via incremental improvement, but check for potential improvements\n",
    "    #Set initial genes\n",
    "    InitialGenes = np.array(iPosition[:])\n",
    "\n",
    "    #set the current position based upon a first step of going to the leader\n",
    "    CurrentPosition = go_to_the_leader(InitialGenes, Landscape1, Landscape2, Landscape_Weights,\n",
    "                                        benchmark_position, J, Theta)\n",
    "    \n",
    "    \n",
    "    #set fitnesses initially\n",
    "    currentFitness = Get_Fitness_Layered_Landscape(Landscape1, Landscape2, Landscape_Weights, iPosition) \n",
    "    OldFitness = Get_Fitness_Layered_Landscape(Landscape1, Landscape2, Landscape_Weights, CurrentPosition)\n",
    "    NewGenes = Incremental_Improvement(CurrentPosition, Landscape1, Landscape2, Landscape_Weights, M)\n",
    "    NewFitness = Get_Fitness_Layered_Landscape(Landscape1, Landscape2, Landscape_Weights, NewGenes)\n",
    "    \n",
    "    #keep searching until you reach a maxima\n",
    "    while(NewFitness!=OldFitness):\n",
    "        #reset the old fitness\n",
    "        ###Okay so this is inefficient because we are calling the function again, but I have had issues where\n",
    "        #OldFitness and NewFitness are stored in memory \n",
    "        #OldFitness = Get_Fitness_Layered_Landscape(Landscape1, Landscape2, Landscape_Weights, NewGenes) #get_fitness_Product_World(Landscape,NewGenes)\n",
    "        OldFitness = NewFitness\n",
    "        NewGenes = Incremental_Improvement(NewGenes, Landscape1, Landscape2, Landscape_Weights, M)#Incremental_Improvement(NewGenes, Landscape,M)\n",
    "        \n",
    "        NewFitness =  Get_Fitness_Layered_Landscape(Landscape1, Landscape2, Landscape_Weights, NewGenes)#get_fitness_Product_World(Landscape,NewGenes)\n",
    "    return(NewGenes)\n",
    "   "
   ]
  },
  {
   "cell_type": "code",
   "execution_count": 120,
   "metadata": {},
   "outputs": [],
   "source": [
    "## Define a function to replciate table 7 results\n",
    "#Inputs:\n",
    "#N - N\n",
    "#K2- the Second Landscape K (first is 0)\n",
    "#Sims - Number of Simulated Landscapes to generate statistics\n",
    "def RunTable7Sims(K2,Sims,N):\n",
    "    ArrayCountNewBenchmarks = []\n",
    "    ArrayCountReachedBenchmarks = []\n",
    "    ArrayMeanTimeSinceLastMeetExceed = []\n",
    "    for i in range(Sims):\n",
    "        ##First define landscapes and other variables\n",
    "        K1=0\n",
    "        J=int(N/2)\n",
    "        Theta = .9\n",
    "        M=1\n",
    "        (Landscape1, Landscape2) = Generate_Layered_Landscapes(N,K1,K2)\n",
    "        Landscape_Weights = [.6666,.3333]\n",
    "        # I believe I am not supposed to have a random search over 100 agents first.... like in table 6\n",
    "        #initialize null benchmarks\n",
    "        benchmark_fitness = 0\n",
    "        benchmark_position = 0\n",
    "\n",
    "        ##Set up counters\n",
    "        CountNewBenchmarks = 0\n",
    "        CountReachedBenchmarks = 0\n",
    "        DurationsTillMeetExceed = []\n",
    "        TimeSinceLastMeetExceed = 0\n",
    "        ##Now loop over 1000 firms\n",
    "        for firm in range(1000):\n",
    "            init_firm_position = Position_rand(N)\n",
    "            ##do not benchmark for first firm, instead just go to local max\n",
    "            if firm==0:\n",
    "                OldFitness = 0\n",
    "                currentFit =  Get_Fitness_Layered_Landscape(Landscape1, Landscape2,\n",
    "                                                            Landscape_Weights, init_firm_position)\n",
    "                new_firm_position=init_firm_position\n",
    "                ##loop over fitness improvements until maxima\n",
    "                while(currentFit!=OldFitness):\n",
    "                    OldFitness = currentFit\n",
    "                    new_firm_position = Incremental_Improvement(new_firm_position, Landscape1, Landscape2,\n",
    "                                                       Landscape_Weights, M)\n",
    "                    currentFit =  Get_Fitness_Layered_Landscape(Landscape1, Landscape2,\n",
    "                                                                Landscape_Weights, new_firm_position)\n",
    "                    #print(OldFitness,currentFit)\n",
    "                #the first firm sets a benchmark\n",
    "\n",
    "            else:\n",
    "                new_firm_position = hybrid_climb_continuos(init_firm_position,Landscape1,Landscape2,\n",
    "                                                       Landscape_Weights,benchmark_position,J,Theta,M)\n",
    "            currentFit = Get_Fitness_Layered_Landscape(Landscape1, Landscape2, Landscape_Weights, new_firm_position)\n",
    "            ##update time till exceed counter\n",
    "            TimeSinceLastMeetExceed+=1\n",
    "            #print(init_firm_position)\n",
    "            ##Check if we reach the old benchmark\n",
    "            #print(TimeSinceLastMeetExceed)\n",
    "            if  currentFit == benchmark_fitness:\n",
    "               # print('reached')\n",
    "                #print('Reach Benchmark')\n",
    "                CountReachedBenchmarks += 1\n",
    "                ##update time counter\n",
    "                DurationsTillMeetExceed.append(TimeSinceLastMeetExceed)\n",
    "                TimeSinceLastMeetExceed = 0\n",
    "            #check if new fitness meets benchmark, then reset benchmark\n",
    "            if  currentFit > benchmark_fitness:\n",
    "                #print('surpassed')\n",
    "                benchmark_fitness = currentFit\n",
    "                benchmark_position = new_firm_position\n",
    "                CountNewBenchmarks += 1\n",
    "                ##update time counter\n",
    "                DurationsTillMeetExceed.append(TimeSinceLastMeetExceed)\n",
    "                TimeSinceLastMeetExceed = 0\n",
    "            #if firm % 300 == 1:\n",
    "                #print(firm) ##this helps us keep track of what is going on\n",
    "        #print('Finished')\n",
    "        MeanTimeSinceLastMeetExceed=sum(DurationsTillMeetExceed)/len(DurationsTillMeetExceed)\n",
    "        ArrayMeanTimeSinceLastMeetExceed.append(MeanTimeSinceLastMeetExceed)\n",
    "        ArrayCountReachedBenchmarks.append(CountReachedBenchmarks)\n",
    "        ArrayCountNewBenchmarks.append(CountNewBenchmarks)\n",
    "\n",
    "        #print('How many times is an existing benchmark matched (but not exceeded) by a subsequent firm:',\n",
    "        #      CountReachedBenchmarks)\n",
    "        #print('How many times is a new benchmark established :',CountNewBenchmarks)\n",
    "        #print('Average number of firms before new benchmark is matched or exceeded',MeanTimeSinceLastMeetExceed)\n",
    "        \n",
    "    MeanTimeToBench = sum(ArrayMeanTimeSinceLastMeetExceed)/len(ArrayMeanTimeSinceLastMeetExceed)\n",
    "    MeanCountReached = sum(ArrayCountReachedBenchmarks)/len(ArrayCountReachedBenchmarks)\n",
    "    MeanCountNew = sum(ArrayCountNewBenchmarks)/len(ArrayCountNewBenchmarks)\n",
    "   \n",
    "    \n",
    "    print('N =',N, 'K =',K2)\n",
    "    print('How many times is a new benchmark established on average :',MeanCountNew)\n",
    "    print('How many times is an existing benchmark matched (but not exceeded) by a subsequent firm on average:',\n",
    "          MeanCountReached)\n",
    "    print('Average number of firms before new benchmark is matched or exceeded',MeanTimeToBench)\n",
    "###Note the average does make sense since it is averaged over sims and the denominator is changing...\n",
    "###don't worry - the math checks out\n"
   ]
  },
  {
   "cell_type": "code",
   "execution_count": 107,
   "metadata": {},
   "outputs": [
    {
     "name": "stdout",
     "output_type": "stream",
     "text": [
      "N = 12 K = 1\n",
      "How many times is a new benchmark established on average : 1.3\n",
      "How many times is an existing benchmark matched (but not exceeded) by a subsequent firm on average: 798.7\n",
      "Average number of firms before new benchmark is matched or exceeded 1.3641302319691737\n"
     ]
    }
   ],
   "source": [
    " RunTable7Sims(K2=1,Sims=20,N=12)"
   ]
  },
  {
   "cell_type": "code",
   "execution_count": 108,
   "metadata": {},
   "outputs": [
    {
     "name": "stdout",
     "output_type": "stream",
     "text": [
      "N = 12 K = 3\n",
      "How many times is a new benchmark established on average : 2.1\n",
      "How many times is an existing benchmark matched (but not exceeded) by a subsequent firm on average: 526.1\n",
      "Average number of firms before new benchmark is matched or exceeded 2.2375451006418894\n"
     ]
    }
   ],
   "source": [
    " RunTable7Sims(K2=3,Sims=20,N=12)"
   ]
  },
  {
   "cell_type": "code",
   "execution_count": 109,
   "metadata": {},
   "outputs": [
    {
     "name": "stdout",
     "output_type": "stream",
     "text": [
      "N = 12 K = 7\n",
      "How many times is a new benchmark established on average : 3.15\n",
      "How many times is an existing benchmark matched (but not exceeded) by a subsequent firm on average: 268.6\n",
      "Average number of firms before new benchmark is matched or exceeded 4.1594955794669755\n"
     ]
    }
   ],
   "source": [
    " RunTable7Sims(K2=7,Sims=20,N=12)\n"
   ]
  },
  {
   "cell_type": "code",
   "execution_count": null,
   "metadata": {},
   "outputs": [],
   "source": []
  },
  {
   "cell_type": "code",
   "execution_count": 121,
   "metadata": {},
   "outputs": [
    {
     "name": "stdout",
     "output_type": "stream",
     "text": [
      "N = 12 K = 11\n",
      "How many times is a new benchmark established on average : 3.75\n",
      "How many times is an existing benchmark matched (but not exceeded) by a subsequent firm on average: 165.95\n",
      "Average number of firms before new benchmark is matched or exceeded 8.172537442150439\n"
     ]
    }
   ],
   "source": [
    " RunTable7Sims(K2=11,Sims=20,N=12)\n"
   ]
  },
  {
   "cell_type": "markdown",
   "metadata": {},
   "source": [
    "### end of N=12\n",
    "\n",
    "## Below is N=8"
   ]
  },
  {
   "cell_type": "code",
   "execution_count": 122,
   "metadata": {},
   "outputs": [
    {
     "name": "stdout",
     "output_type": "stream",
     "text": [
      "N = 8 K = 1\n",
      "How many times is a new benchmark established on average : 1.15\n",
      "How many times is an existing benchmark matched (but not exceeded) by a subsequent firm on average: 857.8\n",
      "Average number of firms before new benchmark is matched or exceeded 1.2597646516589287\n"
     ]
    }
   ],
   "source": [
    " RunTable7Sims(K2=1,Sims=20,N=8)\n"
   ]
  },
  {
   "cell_type": "code",
   "execution_count": 123,
   "metadata": {},
   "outputs": [
    {
     "name": "stdout",
     "output_type": "stream",
     "text": [
      "N = 8 K = 3\n",
      "How many times is a new benchmark established on average : 1.6\n",
      "How many times is an existing benchmark matched (but not exceeded) by a subsequent firm on average: 648.7\n",
      "Average number of firms before new benchmark is matched or exceeded 1.6168040899529603\n"
     ]
    }
   ],
   "source": [
    " RunTable7Sims(K2=3,Sims=20,N=8)\n"
   ]
  },
  {
   "cell_type": "code",
   "execution_count": 124,
   "metadata": {},
   "outputs": [
    {
     "name": "stdout",
     "output_type": "stream",
     "text": [
      "N = 8 K = 7\n",
      "How many times is a new benchmark established on average : 2.8\n",
      "How many times is an existing benchmark matched (but not exceeded) by a subsequent firm on average: 311.8\n",
      "Average number of firms before new benchmark is matched or exceeded 4.418954134523311\n"
     ]
    }
   ],
   "source": [
    " RunTable7Sims(K2=7,Sims=20,N=8)\n"
   ]
  },
  {
   "cell_type": "code",
   "execution_count": null,
   "metadata": {},
   "outputs": [],
   "source": []
  },
  {
   "cell_type": "code",
   "execution_count": 125,
   "metadata": {},
   "outputs": [
    {
     "name": "stdout",
     "output_type": "stream",
     "text": [
      "N = 4 K = 1\n",
      "How many times is a new benchmark established on average : 1.15\n",
      "How many times is an existing benchmark matched (but not exceeded) by a subsequent firm on average: 932.1\n",
      "Average number of firms before new benchmark is matched or exceeded 1.1012842957010842\n"
     ]
    }
   ],
   "source": [
    " RunTable7Sims(K2=1,Sims=20,N=4)\n"
   ]
  },
  {
   "cell_type": "code",
   "execution_count": 126,
   "metadata": {},
   "outputs": [
    {
     "name": "stdout",
     "output_type": "stream",
     "text": [
      "N = 4 K = 3\n",
      "How many times is a new benchmark established on average : 1.25\n",
      "How many times is an existing benchmark matched (but not exceeded) by a subsequent firm on average: 813.5\n",
      "Average number of firms before new benchmark is matched or exceeded 1.3588573330048446\n"
     ]
    }
   ],
   "source": [
    " RunTable7Sims(K2=3,Sims=20,N=4)\n"
   ]
  },
  {
   "cell_type": "code",
   "execution_count": null,
   "metadata": {},
   "outputs": [],
   "source": []
  },
  {
   "cell_type": "code",
   "execution_count": 127,
   "metadata": {},
   "outputs": [
    {
     "name": "stdout",
     "output_type": "stream",
     "text": [
      "N = 24 K = 1\n",
      "How many times is a new benchmark established on average : 1.25\n",
      "How many times is an existing benchmark matched (but not exceeded) by a subsequent firm on average: 769.15\n",
      "Average number of firms before new benchmark is matched or exceeded 1.3811999798550192\n"
     ]
    }
   ],
   "source": [
    "RunTable7Sims(K2=1,Sims=20,N=24)\n"
   ]
  },
  {
   "cell_type": "code",
   "execution_count": 128,
   "metadata": {},
   "outputs": [
    {
     "name": "stdout",
     "output_type": "stream",
     "text": [
      "N = 24 K = 3\n",
      "How many times is a new benchmark established on average : 3.25\n",
      "How many times is an existing benchmark matched (but not exceeded) by a subsequent firm on average: 294.1\n",
      "Average number of firms before new benchmark is matched or exceeded 5.473944203521848\n"
     ]
    }
   ],
   "source": [
    " RunTable7Sims(K2=3,Sims=20,N=24)\n"
   ]
  },
  {
   "cell_type": "code",
   "execution_count": 129,
   "metadata": {},
   "outputs": [
    {
     "name": "stdout",
     "output_type": "stream",
     "text": [
      "N = 24 K = 7\n",
      "How many times is a new benchmark established on average : 3.5\n",
      "How many times is an existing benchmark matched (but not exceeded) by a subsequent firm on average: 124.9\n",
      "Average number of firms before new benchmark is matched or exceeded 10.831834050451398\n"
     ]
    }
   ],
   "source": [
    " RunTable7Sims(K2=7,Sims=20,N=24)\n"
   ]
  },
  {
   "cell_type": "code",
   "execution_count": 130,
   "metadata": {},
   "outputs": [
    {
     "name": "stdout",
     "output_type": "stream",
     "text": [
      "N = 24 K = 11\n",
      "How many times is a new benchmark established on average : 5.4\n",
      "How many times is an existing benchmark matched (but not exceeded) by a subsequent firm on average: 41.15\n",
      "Average number of firms before new benchmark is matched or exceeded 27.161119948139145\n"
     ]
    }
   ],
   "source": [
    " RunTable7Sims(K2=11,Sims=20,N=24)\n"
   ]
  },
  {
   "cell_type": "code",
   "execution_count": 131,
   "metadata": {},
   "outputs": [],
   "source": [
    "arr24new =[1.25,3.25,3.5,5.4]\n",
    "arr24meet =[1.25,3.25,3.5,5.4]\n",
    "arr24timetillmeet =[10.83,27.16]"
   ]
  },
  {
   "cell_type": "code",
   "execution_count": null,
   "metadata": {},
   "outputs": [],
   "source": []
  },
  {
   "cell_type": "code",
   "execution_count": null,
   "metadata": {},
   "outputs": [],
   "source": []
  },
  {
   "cell_type": "code",
   "execution_count": null,
   "metadata": {},
   "outputs": [],
   "source": [
    "#####Replciate rivking table 7\n",
    "##First define landscapes and other variables\n",
    "N=24\n",
    "K1=0\n",
    "K2=11\n",
    "J=N\n",
    "\n",
    "Theta = .9\n",
    "M=1\n",
    "(Landscape1, Landscape2) = Generate_Layered_Landscapes(N,K1,K2)\n",
    "Landscape_Weights = [.6666,.3333]\n",
    "\n",
    "##Create Data to replicate Rivkin Table 7 Panels A and B\n",
    "\n",
    "##Setup to find maximal fitness over 100 exploratory searches, this can be a little time consuming\n",
    "Agent_Positions = [Position_rand(N) for _ in range(100)]\n",
    "#FitnessMat = pd.DataFrame([Get_Fitness_Layered_Landscape(Landscape1, Landscape2, Landscape_Weights, X) for X in Agent_Positions])\n",
    "Fitnesses = [Get_Fitness_Layered_Landscape(Landscape1, Landscape2, Landscape_Weights, X) for X in Agent_Positions]\n",
    "bestPositionIndex,value = max(enumerate(Fitnesses), key=operator.itemgetter(1))\n",
    "#get benchmark\n",
    "initial_benchmark_position = Agent_Positions[bestPositionIndex]\n",
    "benchmark_position = initial_benchmark_position\n",
    "benchmark_fitness = Get_Fitness_Layered_Landscape(Landscape1, Landscape2, Landscape_Weights, benchmark_position)\n",
    "\n",
    "print(benchmark_fitness)\n",
    "\n",
    "##Set up counters\n",
    "CountNewBenchmarks = 0\n",
    "CountReachedBenchmarks = 0\n",
    "DurationsTillMeetExceed = []\n",
    "TimeSinceLastMeetExceed = 0\n",
    "##Now loop over 1000 firms\n",
    "for firm in range(1000):\n",
    "\n",
    "    init_firm_position = Position_rand(N)\n",
    "    new_firm_position = hybrid_climb_continuos(init_firm_position,Landscape1,Landscape2,\n",
    "                                           Landscape_Weights,benchmark_position,J,Theta,M)\n",
    "\n",
    "\n",
    "    currentFit = Get_Fitness_Layered_Landscape(Landscape1, Landscape2, Landscape_Weights, new_firm_position)\n",
    "    ##update time till exceed counter\n",
    "    TimeSinceLastMeetExceed+=1\n",
    "    #print(init_firm_position)\n",
    "    ##Check if we reach the old benchmark\n",
    "    if  currentFit == benchmark_fitness:\n",
    "        #print('Reach Benchmark')\n",
    "        CountReachedBenchmarks += 1\n",
    "        ##update time counter\n",
    "        DurationsTillMeetExceed.append(TimeSinceLastMeetExceed)\n",
    "        TimeSinceLastMeetExceed = 0\n",
    "    #check if new fitness meets benchmark, then reset benchmark\n",
    "    if  currentFit > benchmark_fitness:\n",
    "        benchmark_fitness = currentFit\n",
    "        benchmark_position = new_firm_position\n",
    "        CountNewBenchmarks += 1\n",
    "        ##update time counter\n",
    "        DurationsTillMeetExceed.append(TimeSinceLastMeetExceed)\n",
    "        TimeSinceLastMeetExceed = 0\n",
    "        #print('New Benchmark')\n",
    "        #print(benchmark_fitness)\n",
    "\n",
    "    if firm % 100 == 1:\n",
    "        print(firm) ##this helps us keep track of what is going on\n",
    "\n",
    "\n",
    "print('Finished')\n",
    "print('How many times is an existing benchmark matched (but not exceeded) by a subsequent firm:',\n",
    "      CountReachedBenchmarks)\n",
    "print('How many times is a new benchmark established :',CountNewBenchmarks)\n",
    "MeanTimeSinceLastMeetExceed=sum(DurationsTillMeetExceed)/len(DurationsTillMeetExceed)\n",
    "print('Average number of firms before new benchmark is matched or exceeded',MeanTimeSinceLastMeetExceed)\n",
    "\n",
    "\n",
    "\n",
    "\n"
   ]
  }
 ],
 "metadata": {
  "kernelspec": {
   "display_name": "Python 3",
   "language": "python",
   "name": "python3"
  },
  "language_info": {
   "codemirror_mode": {
    "name": "ipython",
    "version": 3
   },
   "file_extension": ".py",
   "mimetype": "text/x-python",
   "name": "python",
   "nbconvert_exporter": "python",
   "pygments_lexer": "ipython3",
   "version": "3.6.8"
  }
 },
 "nbformat": 4,
 "nbformat_minor": 2
}
