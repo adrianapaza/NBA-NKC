{
 "cells": [
  {
   "cell_type": "code",
   "execution_count": 2,
   "metadata": {},
   "outputs": [],
   "source": [
    "from scipy import stats"
   ]
  },
  {
   "cell_type": "code",
   "execution_count": 58,
   "metadata": {},
   "outputs": [],
   "source": [
    "def make_Dirichland(N,K, concentration_params, scalar=2):\n",
    "\n",
    "    our_dirichlet = stats.dirichlet(concentration_params) #the distribution we use\n",
    "    \n",
    "    fitnesses = []\n",
    "    permutations = []\n",
    "    \n",
    "    all_permutations = list(itertools.product([0,1],repeat=N))\n",
    "\n",
    "    for permutation in all_permutations:\n",
    "\n",
    "        genome_fitness = 0\n",
    "        for currIndex in np.arange(N):\n",
    "            \n",
    "            #get the fitness indices from each k based upon local gene values\n",
    "            localgenes = permutation[currIndex:currIndex+K+1]\n",
    "            print(localgenes)\n",
    "            \n",
    "            #loop through to next if were are near the nth index\n",
    "            if currIndex+K+1 > N:\n",
    "                localgenes = np.append(localgenes,permutation[0:currIndex-(N-K)+1])\n",
    "            #get index fitness  is stored at\n",
    "            interactIndex = ((2**(np.arange(K+1)*(localgenes)))*localgenes).sum()\n",
    "            #update fitness\n",
    "\n",
    "            genome_fitness += NK_land[currIndex,interactIndex] * (1-dir_draw[currIndex])\n",
    "            break\n",
    "        fitnesses.append(genome_fitness)\n",
    "        permutations.append(\"\".join([str(i) for i in permutation]))\n",
    "\n",
    "    df = pd.DataFrame(fitnesses,index=permutations,columns=[\"Fitness\"])\n",
    "    df.loc[:,'Location'] = all_permutations\n",
    "    return df\n"
   ]
  },
  {
   "cell_type": "code",
   "execution_count": null,
   "metadata": {},
   "outputs": [],
   "source": []
  },
  {
   "cell_type": "code",
   "execution_count": 56,
   "metadata": {},
   "outputs": [],
   "source": [
    "xs= []\n",
    "ys= []\n",
    "zs= []\n",
    "our_dirichlet = stats.dirichlet([100,200,100])\n",
    "vals = our_dirichlet.rvs(10000)"
   ]
  },
  {
   "cell_type": "code",
   "execution_count": 57,
   "metadata": {},
   "outputs": [
    {
     "data": {
      "text/plain": [
       "(array([  3.,   0.,   3.,   2.,   7.,  11.,  23.,  18.,  31.,  36.,  65.,\n",
       "         77., 107., 141., 192., 202., 293., 326., 382., 438., 497., 501.,\n",
       "        532., 555., 573., 600., 600., 534., 524., 487., 418., 370., 281.,\n",
       "        250., 200., 196., 139., 102.,  76.,  64.,  53.,  31.,  19.,  10.,\n",
       "         13.,  10.,   2.,   2.,   3.,   1.]),\n",
       " array([0.4090109 , 0.41266644, 0.41632198, 0.41997751, 0.42363305,\n",
       "        0.42728859, 0.43094413, 0.43459967, 0.4382552 , 0.44191074,\n",
       "        0.44556628, 0.44922182, 0.45287735, 0.45653289, 0.46018843,\n",
       "        0.46384397, 0.46749951, 0.47115504, 0.47481058, 0.47846612,\n",
       "        0.48212166, 0.48577719, 0.48943273, 0.49308827, 0.49674381,\n",
       "        0.50039935, 0.50405488, 0.50771042, 0.51136596, 0.5150215 ,\n",
       "        0.51867704, 0.52233257, 0.52598811, 0.52964365, 0.53329919,\n",
       "        0.53695472, 0.54061026, 0.5442658 , 0.54792134, 0.55157688,\n",
       "        0.55523241, 0.55888795, 0.56254349, 0.56619903, 0.56985456,\n",
       "        0.5735101 , 0.57716564, 0.58082118, 0.58447672, 0.58813225,\n",
       "        0.59178779]),\n",
       " <a list of 50 Patch objects>)"
      ]
     },
     "execution_count": 57,
     "metadata": {},
     "output_type": "execute_result"
    },
    {
     "data": {
      "image/png": "[encoded data removed]",
      "text/plain": [
       "<Figure size 432x288 with 1 Axes>"
      ]
     },
     "metadata": {
      "needs_background": "light"
     },
     "output_type": "display_data"
    }
   ],
   "source": [
    "plt.hist(vals[:,1],bins=50)"
   ]
  },
  {
   "cell_type": "code",
   "execution_count": 19,
   "metadata": {},
   "outputs": [],
   "source": [
    "import numpy"
   ]
  },
  {
   "cell_type": "code",
   "execution_count": 25,
   "metadata": {},
   "outputs": [
    {
     "data": {
      "text/plain": [
       "array([0.22906423, 0.09834876, 0.1581842 , ..., 0.09698759, 0.09206781,\n",
       "       0.17144965])"
      ]
     },
     "execution_count": 25,
     "metadata": {},
     "output_type": "execute_result"
    }
   ],
   "source": [
    "y[:,0]"
   ]
  },
  {
   "cell_type": "code",
   "execution_count": 34,
   "metadata": {},
   "outputs": [
    {
     "data": {
      "text/plain": [
       "array([[0.28005308, 0.34237296, 0.37757396],\n",
       "       [0.33120842, 0.23773395, 0.43105762],\n",
       "       [0.31313039, 0.41819903, 0.26867058],\n",
       "       ...,\n",
       "       [0.19903635, 0.39027966, 0.41068399],\n",
       "       [0.22168075, 0.40029368, 0.37802556],\n",
       "       [0.24902771, 0.50725659, 0.2437157 ]])"
      ]
     },
     "execution_count": 34,
     "metadata": {},
     "output_type": "execute_result"
    }
   ],
   "source": [
    "y"
   ]
  },
  {
   "cell_type": "code",
   "execution_count": 27,
   "metadata": {},
   "outputs": [],
   "source": [
    "import matplotlib.pyplot as plt"
   ]
  },
  {
   "cell_type": "code",
   "execution_count": 38,
   "metadata": {},
   "outputs": [
    {
     "data": {
      "text/plain": [
       "(array([  4.,   7.,   3.,   8.,  16.,  29.,  55.,  66.,  75.,  99., 116.,\n",
       "        169., 189., 175., 205., 220., 233., 217., 233., 273., 240., 269.,\n",
       "        226., 234., 217., 190., 173., 158., 143., 133., 111.,  95.,  87.,\n",
       "         75.,  69.,  38.,  29.,  31.,  16.,  24.,  15.,   4.,  13.,   6.,\n",
       "          5.,   2.,   1.,   3.,   0.,   1.]),\n",
       " array([0.04121783, 0.05525705, 0.06929628, 0.0833355 , 0.09737472,\n",
       "        0.11141395, 0.12545317, 0.1394924 , 0.15353162, 0.16757085,\n",
       "        0.18161007, 0.1956493 , 0.20968852, 0.22372774, 0.23776697,\n",
       "        0.25180619, 0.26584542, 0.27988464, 0.29392387, 0.30796309,\n",
       "        0.32200232, 0.33604154, 0.35008076, 0.36411999, 0.37815921,\n",
       "        0.39219844, 0.40623766, 0.42027689, 0.43431611, 0.44835534,\n",
       "        0.46239456, 0.47643378, 0.49047301, 0.50451223, 0.51855146,\n",
       "        0.53259068, 0.54662991, 0.56066913, 0.57470836, 0.58874758,\n",
       "        0.6027868 , 0.61682603, 0.63086525, 0.64490448, 0.6589437 ,\n",
       "        0.67298293, 0.68702215, 0.70106138, 0.7151006 , 0.72913982,\n",
       "        0.74317905]),\n",
       " <a list of 50 Patch objects>)"
      ]
     },
     "execution_count": 38,
     "metadata": {},
     "output_type": "execute_result"
    },
    {
     "data": {
      "image/png": "[encoded data removed]",
      "text/plain": [
       "<Figure size 432x288 with 1 Axes>"
      ]
     },
     "metadata": {
      "needs_background": "light"
     },
     "output_type": "display_data"
    }
   ],
   "source": [
    "plt.hist(y[:,0],bins=50)"
   ]
  },
  {
   "cell_type": "code",
   "execution_count": null,
   "metadata": {},
   "outputs": [],
   "source": []
  }
 ],
 "metadata": {
  "kernelspec": {
   "display_name": "Python 3",
   "language": "python",
   "name": "python3"
  },
  "language_info": {
   "codemirror_mode": {
    "name": "ipython",
    "version": 3
   },
   "file_extension": ".py",
   "mimetype": "text/x-python",
   "name": "python",
   "nbconvert_exporter": "python",
   "pygments_lexer": "ipython3",
   "version": "3.7.7"
  }
 },
 "nbformat": 4,
 "nbformat_minor": 4
}
