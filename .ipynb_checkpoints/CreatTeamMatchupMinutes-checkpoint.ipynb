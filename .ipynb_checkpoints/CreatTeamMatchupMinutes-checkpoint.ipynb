{
 "cells": [
  {
   "cell_type": "markdown",
   "metadata": {},
   "source": [
    "This Notebook converts the gameplay data into a table (exportable to csv) with the proportion time played by each team combination matchup in an NBA game"
   ]
  },
  {
   "cell_type": "code",
   "execution_count": 1,
   "metadata": {},
   "outputs": [],
   "source": [
    "import pandas as pd\n",
    "import datetime\n",
    "import math\n",
    "import numpy as np\n"
   ]
  },
  {
   "cell_type": "code",
   "execution_count": 3,
   "metadata": {},
   "outputs": [],
   "source": [
    "##Load in the data in pandas dataframe\n",
    "DF = pd.read_excel('(2016-06-10)-0041500404-GSW@CLE.xlsx',sheet_name='(2016-06-10)-0041500404-GSW@CLE')"
   ]
  },
  {
   "cell_type": "code",
   "execution_count": 4,
   "metadata": {},
   "outputs": [],
   "source": [
    "##Delete the first row since it is just a description\n",
    "DF = DF[1:]"
   ]
  },
  {
   "cell_type": "code",
   "execution_count": 5,
   "metadata": {},
   "outputs": [],
   "source": [
    "##Identify Player Combinations for each row and create a new column/variable for them\n",
    "DF['ComboA'] = DF.loc[:,('a1', 'a2','a3','a4','a5')].apply(lambda x: ','.join(x), axis=1)\n",
    "DF['ComboA'] = DF['ComboA'].apply(lambda x: sorted(x.split(',')))\n",
    "\n",
    "DF['ComboH'] = DF.loc[:,('h1', 'h2','h3','h4','h5')].apply(lambda x: ','.join(x), axis=1)\n",
    "DF['ComboH'] = DF['ComboH'].apply(lambda x: sorted(x.split(',')))\n"
   ]
  },
  {
   "cell_type": "code",
   "execution_count": 8,
   "metadata": {},
   "outputs": [
    {
     "data": {
      "text/plain": [
       "Timedelta('0 days 00:11:14')"
      ]
     },
     "execution_count": 8,
     "metadata": {},
     "output_type": "execute_result"
    }
   ],
   "source": [
    "#Convert elapsed and remaing time to a TimeDelta Object\n",
    "DF['elapsed']=pd.to_timedelta(DF['elapsed'].astype(str))\n",
    "DF['remaining_time']=pd.to_timedelta(DF['remaining_time'].astype(str))\n",
    "\n",
    "DF.remaining_time.iloc[5]"
   ]
  },
  {
   "cell_type": "code",
   "execution_count": 29,
   "metadata": {},
   "outputs": [],
   "source": [
    "##create a new dataframe to record the data of seconds spent per team\n",
    "Team_Team_Seconds_DF = pd.DataFrame(columns = ['Team_A','Team_H','Seconds_Spent']) #creates a new dataframe that's empty\n",
    "\n",
    "#Initialize variables\n",
    "Current_Team_A=''\n",
    "Current_Team_H=''\n",
    "start_time=datetime.timedelta(0,0,0) # current team configuration start time\n",
    "## Loop over rows, examining for changes, record time spent on each team-team matchup\n",
    "for i in DF.index:\n",
    "    #check for end of period\n",
    "    if DF.at[i,'event_type']=='end of period' :\n",
    "        time_spent = DF.at[i,'elapsed']-start_time\n",
    "        #append to dataframe\n",
    "\n",
    "        Team_Team_Seconds_DF = Team_Team_Seconds_DF.append({'Team_A' : str(Current_Team_A) , 'Team_H' : str(Current_Team_H),'Seconds_Spent' : time_spent.seconds} , ignore_index=True)\n",
    "\n",
    "        start_time=datetime.timedelta(0,0,0)\n",
    "\n",
    "    else:\n",
    "        #check if team compositions changed\n",
    "        if Current_Team_A != DF.at[i,'ComboA'] or Current_Team_H != DF.at[i,'ComboH']:\n",
    "            #update times\n",
    "            time_spent = DF.at[i,'elapsed']-start_time\n",
    "            start_time = DF.at[i,'elapsed']\n",
    "            \n",
    "            #append to dataframe\n",
    "            Team_Team_Seconds_DF = Team_Team_Seconds_DF.append({'Team_A' : str(Current_Team_A) , 'Team_H' : str(Current_Team_H),'Seconds_Spent' : time_spent.seconds} , ignore_index=True)\n",
    "\n",
    "            #update teams\n",
    "            Current_Team_A = DF.at[i,'ComboA']\n",
    "            Current_Team_H = DF.at[i,'ComboH']"
   ]
  },
  {
   "cell_type": "code",
   "execution_count": 32,
   "metadata": {},
   "outputs": [],
   "source": [
    "#drop if no time spent (e.g. multiple substitions occur such as at beggining of period)\n",
    "Team_Team_Seconds_DF=Team_Team_Seconds_DF[Team_Team_Seconds_DF['Seconds_Spent']>0]\n",
    "#ensure data is numeric and convert to proportion of time\n",
    "Team_Team_Seconds_DF[\"Seconds_Spent\"] = pd.to_numeric(Team_Team_Seconds_DF[\"Seconds_Spent\"])\n"
   ]
  },
  {
   "cell_type": "code",
   "execution_count": 33,
   "metadata": {},
   "outputs": [],
   "source": [
    "##get unique team combos of each so we may later sort by order of appearence\n",
    "H_unique = Team_Team_Seconds_DF.Team_H.unique()\n",
    "A_unique = Team_Team_Seconds_DF.Team_A.unique()\n"
   ]
  },
  {
   "cell_type": "code",
   "execution_count": 34,
   "metadata": {},
   "outputs": [],
   "source": [
    "##CREATE A PIVOT TABLE\n",
    "df=Team_Team_Seconds_DF\n",
    "#pd.DataFrame(np.outer(df, df), df.index, df.index)\n",
    "##aggregate by summing\n",
    "PivotTable = (Team_Team_Seconds_DF.pivot_table(index='Team_A', columns='Team_H', values='Seconds_Spent',aggfunc = sum))\n",
    "\n",
    "PivotTable = PivotTable.fillna(0) ##replace nan with 0\n",
    "##Resort pivot table based upon team appearence in order\n",
    "pt = PivotTable[H_unique]\n",
    "\n",
    "pt = pt.reindex(A_unique)\n"
   ]
  },
  {
   "cell_type": "code",
   "execution_count": 35,
   "metadata": {},
   "outputs": [],
   "source": [
    "##write to csv\n",
    "pt.to_csv('Team_Team_Point_Diff_Sample.csv')"
   ]
  },
  {
   "cell_type": "code",
   "execution_count": null,
   "metadata": {},
   "outputs": [],
   "source": []
  }
 ],
 "metadata": {
  "kernelspec": {
   "display_name": "Python 3",
   "language": "python",
   "name": "python3"
  },
  "language_info": {
   "codemirror_mode": {
    "name": "ipython",
    "version": 3
   },
   "file_extension": ".py",
   "mimetype": "text/x-python",
   "name": "python",
   "nbconvert_exporter": "python",
   "pygments_lexer": "ipython3",
   "version": "3.7.4"
  }
 },
 "nbformat": 4,
 "nbformat_minor": 2
}
